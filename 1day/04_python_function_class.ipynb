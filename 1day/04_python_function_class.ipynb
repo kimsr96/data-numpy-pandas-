{
 "cells": [
  {
   "cell_type": "markdown",
   "metadata": {
    "id": "1lnx10GZ08N1"
   },
   "source": [
    "# **함수와 클래스**"
   ]
  },
  {
   "cell_type": "markdown",
   "metadata": {
    "id": "mNPQ01aG1DcW"
   },
   "source": [
    "## **1. function(함수)**\n",
    "\n",
    "    수학적 정의의 함수란?\n",
    "    y = f(x)\n",
    "    \n",
    "    프로그래밍에서의 함수란?\n",
    "    자주 사용해야 하는 코드를 재사용하기 위한 코드의 묶음\n",
    "    \n",
    "    데이터과학에서의 함수란?\n",
    "    입력값을 받아 사용자가 원하는 처리를 한 후 결과값을 되돌려 받는 코드의 묶음"
   ]
  },
  {
   "cell_type": "markdown",
   "metadata": {
    "id": "rIqn9S1T1LFl"
   },
   "source": [
    "### 1-1. 함수의 구조\n",
    "\n",
    "    def [함수이름]([파라메터 혹은 매개변수]): # 입력값은 선택적으로 넣을 수 있으며 함수 정의 후 콜론(:)으로 마무리 한다.\n",
    "        [실행코드]\n",
    "        [실행코드]\n",
    "        [실행코드]\n",
    "        return [반환값] # 함수에서 실행코드를 거친 결과 값 혹은 변수(반환값)을 리턴\n",
    "    \n",
    "    파라메터 혹은 매개변수 : 함수의 입력값, 혹은 함수의 작동에 영향을 줄 수 있는 값(변수)\n",
    "    파라메터는 없어도 되지만 세미콜론은 반드시 찍어준다."
   ]
  },
  {
   "cell_type": "markdown",
   "metadata": {
    "id": "6jRkk1s22GHB"
   },
   "source": [
    "#### 함수 내부에서 정의 된 변수\n",
    "    함수 내부에서 정의 된 변수들은 함수 내부에서만 사용되는 변수로서 함수 밖에서는 호출할 수 없다.\n",
    "    그렇기에 다른 함수에서 같은 이름의 변수를 사용해도 관계없음\n",
    "    함수 연산 결과로서 결과값을 빼기 위해서는 반드시 return구문으로 반환값을 사용해줘야 함\n",
    "    \n",
    "    함수도 기본컴퓨터의 작동프로세스와 같이 입력, 처리, 출력의 처리를 하기위한 구조를 가짐"
   ]
  },
  {
   "cell_type": "markdown",
   "metadata": {
    "id": "mI1iC7tz2lhQ"
   },
   "source": [
    "### 1-2. 다양한 함수의 형태"
   ]
  },
  {
   "cell_type": "code",
   "execution_count": null,
   "metadata": {
    "id": "JMJSUBGs2Yjc"
   },
   "outputs": [],
   "source": [
    "# 기본적인 함수\n",
    "def person():\n",
    "    print('변치웅입니다.')\n",
    "\n",
    "# 입력값을 받는 함수\n",
    "def person(name='변치웅'):\n",
    "    print(f'{name}입니다.')\n",
    "\n",
    "# 반환을 사용하는 함수\n",
    "def cal_return(x, y):\n",
    "    return x + y"
   ]
  },
  {
   "cell_type": "markdown",
   "metadata": {
    "id": "GtxaQKGt3MeS"
   },
   "source": [
    "### 1-3. 함수의 호출(사용)"
   ]
  },
  {
   "cell_type": "code",
   "execution_count": null,
   "metadata": {
    "id": "NQP5lqI82tg2"
   },
   "outputs": [],
   "source": [
    "person()\n",
    "cal_return(3, 4)"
   ]
  },
  {
   "cell_type": "markdown",
   "metadata": {
    "id": "DfcnQAmI3gVV"
   },
   "source": [
    "### 1-4. 기존 반복 코드의 묶음"
   ]
  },
  {
   "cell_type": "code",
   "execution_count": null,
   "metadata": {
    "id": "whYR13Sh3Qk8"
   },
   "outputs": [],
   "source": [
    "def bmi():\n",
    "    name = input('이름을 입력하세요 : ')\n",
    "    height = input('키를 입력하세요 : ')\n",
    "    height = float(height) / 100\n",
    "    weight = input('몸무게를 입력하세요 : ')\n",
    "    weight = float(weight)\n",
    "    bmi = weight / (height * height)\n",
    "\n",
    "    print(f'{name}님의 bmi 지수는 {bmi}입니다.')\n",
    "    if bmi < 20:\n",
    "        print('bmi에 따라 구분한 체중은 저체중입니다.')\n",
    "    elif 20 <= bmi < 24:\n",
    "        print('bmi에 따라 구분한 체중은 표준체중입니다.')\n",
    "    elif 24 <= bmi < 30:\n",
    "        print('bmi에 따라 구분한 체중은 과체중입니다.')\n",
    "    else:\n",
    "        print('bmi에 따라 구분한 체중은 비만입니다.')"
   ]
  },
  {
   "cell_type": "code",
   "execution_count": null,
   "metadata": {
    "colab": {
     "base_uri": "https://localhost:8080/"
    },
    "executionInfo": {
     "elapsed": 13343,
     "status": "ok",
     "timestamp": 1610962874718,
     "user": {
      "displayName": "변치웅",
      "photoUrl": "https://lh6.googleusercontent.com/-XnmjyF_k95g/AAAAAAAAAAI/AAAAAAAAZLk/rRDS8PNaZwg/s64/photo.jpg",
      "userId": "13348118648559709563"
     },
     "user_tz": -540
    },
    "id": "U0TSTX3p3lxT",
    "outputId": "21788b38-cfa9-4be8-c56d-1ee57e838d0b"
   },
   "outputs": [
    {
     "name": "stdout",
     "output_type": "stream",
     "text": [
      "이름을 입력하세요 : 변치웅\n",
      "키를 입력하세요 : 173\n",
      "몸무게를 입력하세요 : 80\n",
      "변치웅님의 bmi 지수는 26.729927495071667입니다.\n",
      "bmi에 따라 구분한 체중은 과체중입니다.\n"
     ]
    }
   ],
   "source": [
    "bmi()"
   ]
  },
  {
   "cell_type": "markdown",
   "metadata": {
    "id": "s5AVU40B4Jhr"
   },
   "source": [
    "### 1-5. 지금까지 우리가 알게 모르게 사용해왔던 함수들\n",
    "    print()\n",
    "    int()\n",
    "    str()\n",
    "    float()\n",
    "    input()\n",
    "    list()\n",
    "    dict()\n",
    "    range()\n",
    "    append() 등등등\n",
    "    \n",
    "    지금까지는 명령어라고 명칭했지만 앞으로는 함수라고 쓰겠습니다! 우리는 배운 사람들이니까요\n",
    "    "
   ]
  },
  {
   "cell_type": "markdown",
   "metadata": {
    "id": "OZNM4ynwYA_U"
   },
   "source": [
    "### 1-6. 연습문제\n",
    "    심플한 계산기를 만들어봅시다"
   ]
  },
  {
   "cell_type": "code",
   "execution_count": null,
   "metadata": {
    "id": "ljiNUwiNYG25"
   },
   "outputs": [],
   "source": [
    "# 덧셈\n",
    "def cal_sum(x, y):\n",
    "    z = x + y\n",
    "    return z"
   ]
  },
  {
   "cell_type": "code",
   "execution_count": null,
   "metadata": {
    "id": "XhMyCUqrYNUA"
   },
   "outputs": [],
   "source": [
    "# 뺄셈"
   ]
  },
  {
   "cell_type": "code",
   "execution_count": null,
   "metadata": {
    "id": "wIhUrYN4YPOu"
   },
   "outputs": [],
   "source": [
    "# 곱셈"
   ]
  },
  {
   "cell_type": "code",
   "execution_count": null,
   "metadata": {
    "id": "m8TzWTxfYPMD"
   },
   "outputs": [],
   "source": [
    "# 나눗셈"
   ]
  },
  {
   "cell_type": "markdown",
   "metadata": {
    "id": "elFr4WRkYc9Y"
   },
   "source": [
    "### 1-7. python 예약어로 지정 된 함수를 쪼개봅시다\n",
    "    sum() 함수는 python 언어에 내장되어 있는 함수입니다.\n",
    "    파라메터로 iterable 변수 즉, 반복문으로 내부 인자의 루프를 돌 수 있는 변수를 받습니다.\n",
    "    그리고 그 인자의 합을 출력하는 함수입니다.\n",
    "    \n",
    "    max() 함수도 python 내장 함수로서 sum()과 같은 형식의 입력값을 받아 최대값을 반환하는 함수입니다.\n",
    "    함수를 쪼개봅시다"
   ]
  },
  {
   "cell_type": "code",
   "execution_count": null,
   "metadata": {
    "id": "nOJ7zIpcYPJ2"
   },
   "outputs": [],
   "source": [
    "test_list = [1, 2, 3, 4, 5]"
   ]
  },
  {
   "cell_type": "code",
   "execution_count": null,
   "metadata": {
    "colab": {
     "base_uri": "https://localhost:8080/"
    },
    "executionInfo": {
     "elapsed": 375,
     "status": "ok",
     "timestamp": 1611021861859,
     "user": {
      "displayName": "변치웅",
      "photoUrl": "https://lh6.googleusercontent.com/-XnmjyF_k95g/AAAAAAAAAAI/AAAAAAAAZLk/rRDS8PNaZwg/s64/photo.jpg",
      "userId": "13348118648559709563"
     },
     "user_tz": -540
    },
    "id": "74aP5HFbYqyp",
    "outputId": "3035fbba-1d03-45c1-acf1-5e462d671875"
   },
   "outputs": [
    {
     "data": {
      "text/plain": [
       "15"
      ]
     },
     "execution_count": 2,
     "metadata": {
      "tags": []
     },
     "output_type": "execute_result"
    }
   ],
   "source": [
    "sum(test_list)"
   ]
  },
  {
   "cell_type": "code",
   "execution_count": null,
   "metadata": {
    "id": "i8eeTDqzYsI_"
   },
   "outputs": [],
   "source": [
    "# sum_sum을 함수 이름으로 갖는 python sum() 함수를 재현해보기\n",
    "def sum_sum(x):\n",
    "    sum =0\n",
    "    for i in x:\n",
    "        sum += i\n",
    "    return sum\n",
    "        "
   ]
  },
  {
   "cell_type": "code",
   "execution_count": null,
   "metadata": {
    "id": "C9I2XoB5Yyg4"
   },
   "outputs": [],
   "source": [
    "# max_max를 함수 이름으로 갖는 python max() 함수를 재현해보기"
   ]
  },
  {
   "cell_type": "markdown",
   "metadata": {
    "id": "NnfOe2nXY3R8"
   },
   "source": [
    "## **2. class(클래스)**\n",
    "    위에서 만든 계산기 함수를 살펴봅시다.\n",
    "    구조가 비슷하고 연산에 따른 반환값이 다른 함수가 여러개가 있다.\n",
    "    비슷한 함수들을 조금 간편하게 만들 수 없을까?\n",
    "    \n",
    "    클래스란?\n",
    "    같은 목적 혹은 대상을 위해 만들어진 함수들의 묶음"
   ]
  },
  {
   "cell_type": "markdown",
   "metadata": {
    "id": "M6cb-iyaZW8l"
   },
   "source": [
    "### 2-1. 클래스의 구조\n",
    "    class [클래스명]: # 클래스의 선언\n",
    "        \n",
    "        def __init__(self, [파라메터]):\n",
    "            self.[변수명] = [파라메터] # 클래스를 만들면서 입력받는 파라메터를 클래스 내에서 사용가능 하도록 초기화\n",
    "            self.x = x # 예시\n",
    "            \n",
    "        def [함수명]([self, 파라메터]):\n",
    "            [실행코드]\n",
    "    \n",
    "    클래스의 선언은 함수와 달리 소괄호없이 선언한다.\n",
    "    클래스명 문법 각 단어의 첫 알파벳을 대문자로 ex) MyClass, SumTotal\n",
    "    클래스 선언이후 처음 작성하는 __init__ 함수는 클래스가 정의되면서 입력되는 파라메터를 저장하고 재사용하기 위한 초기화함수\n",
    "    클래스 내 함수의 파라메터앞에는 항상 self를 추가해주어야 하며, __init__ 함수에서 설정한 변수 사용시에도 self를 추가해준다.\n",
    "    self.변수는 클래스 내부에서 사용되며 클래스 내부에 있는 모든 함수에 사용이 가능하다."
   ]
  },
  {
   "cell_type": "markdown",
   "metadata": {
    "id": "9J38vqN6ZsP7"
   },
   "source": [
    "### 2-2. 계산기 클래스"
   ]
  },
  {
   "cell_type": "code",
   "execution_count": null,
   "metadata": {
    "id": "fv_w_IH4Zc56"
   },
   "outputs": [],
   "source": [
    "class Calculator: # 클래스 선언\n",
    "    \n",
    "    def __init__(self, x, y): # 초기화함수\n",
    "        self.x = x\n",
    "        self.y = y\n",
    "        \n",
    "    def my_sum(self):\n",
    "        z = self.x + self.y\n",
    "        return z\n",
    "\n",
    "    def my_minus(self):\n",
    "        z = self.x - self.y\n",
    "        return z\n",
    "\n",
    "    def my_multiply(self):\n",
    "        z = self.x * self.y\n",
    "        return z\n",
    "\n",
    "    def my_division(self):\n",
    "        z = self.x / self.y\n",
    "        return z"
   ]
  },
  {
   "cell_type": "code",
   "execution_count": null,
   "metadata": {
    "id": "5wb-HRR0Z2Iv"
   },
   "outputs": [],
   "source": [
    "mycal = Calculator(1000, 45)"
   ]
  },
  {
   "cell_type": "code",
   "execution_count": null,
   "metadata": {
    "colab": {
     "base_uri": "https://localhost:8080/"
    },
    "executionInfo": {
     "elapsed": 381,
     "status": "ok",
     "timestamp": 1611022187864,
     "user": {
      "displayName": "변치웅",
      "photoUrl": "https://lh6.googleusercontent.com/-XnmjyF_k95g/AAAAAAAAAAI/AAAAAAAAZLk/rRDS8PNaZwg/s64/photo.jpg",
      "userId": "13348118648559709563"
     },
     "user_tz": -540
    },
    "id": "Lk6S0YoVZ6p8",
    "outputId": "7513c384-a682-4b3e-ded4-4b8391e20163"
   },
   "outputs": [
    {
     "data": {
      "text/plain": [
       "22.22222222222222"
      ]
     },
     "execution_count": 6,
     "metadata": {
      "tags": []
     },
     "output_type": "execute_result"
    }
   ],
   "source": [
    "mycal.my_division()"
   ]
  },
  {
   "cell_type": "markdown",
   "metadata": {
    "id": "rWgULuX_byqT"
   },
   "source": [
    "### 2-3. 그럼 클래스와 함수는 항상 만들어 써야할까?\n",
    "    절대 그렇지 않습니다. 오히려 이미 만들어져있는 함수를 가져다 쓰는것을 권장합니다.\n",
    "    프로그래밍 혹은 데이터분석에 필요한 수많은 함수들이 이미 만들어져 있습니다.\n",
    "    함수를 학습하는 이유는 이러한 함수들을 호출하여 쓸 수 있게 하기 위함입니다."
   ]
  },
  {
   "cell_type": "markdown",
   "metadata": {
    "id": "NkOfa4n5b2SQ"
   },
   "source": [
    "### 2-4. 남이 만든 클래스와 함수를 가져와보자\n",
    "    import [클래스명]\n",
    "    import [클래스명] as [닉네임]\n",
    "    from [패키지명] import [클래스명]    "
   ]
  },
  {
   "cell_type": "code",
   "execution_count": null,
   "metadata": {
    "id": "cyEpLPFFb1k7"
   },
   "outputs": [],
   "source": [
    "# random 이라는 이름을 가진 클래스를 불러오기\n",
    "import random\n",
    "\n",
    "# numpy 클래스를 불러오고 np라는 닉네임으로 사용한다\n",
    "import numpy as np\n",
    "\n",
    "# pandas 클래스를 불러오고 pd라는 닉네임으로 사용한다\n",
    "import pandas as pd\n",
    "\n",
    "# 방금 전 만든 계산기 함수 불러오기\n",
    "# from cal import Calculator as cal\n",
    "# PC 버전 사용가능\n",
    "\n",
    "# pyttsx 시연"
   ]
  },
  {
   "cell_type": "markdown",
   "metadata": {
    "id": "hXIlURp1cyM9"
   },
   "source": [
    "### 2-5. 클래스의 사용\n",
    "    불러들인 클래스에는 함수들이 묶여 자리하고 있습니다.\n",
    "    클래스를 불러들여도 실제로 작업은 함수를 실행시켜서 작동하게 됩니다.\n",
    "    클래스 내 함수를 사용해 봅시다."
   ]
  },
  {
   "cell_type": "markdown",
   "metadata": {
    "id": "Hz2fcbSjc6rN"
   },
   "source": [
    "#### random 클래스를 사용해보자\n",
    "    random 함수는 오래된 파이썬 모듈(클래스)입니다.\n",
    "    랜덤한 값을 생성하거나 뽑아오는데 사용합니다.\n",
    "    \n",
    "    random 모듈 불러오기\n",
    "    import random\n",
    "    \n",
    "    random 모듈의 자주 사용하는 함수\n",
    "    random.random() : 0 ~ 1 사이의 실수를 하나 반환\n",
    "    random.randint(a, b) : a ~ b 사이의 정수를 하나 반환\n",
    "    random.choice(list 혹은 데이터집합) : list의 무작위 샘플하나를 반환\n",
    "    random.sample(list 혹은 데이터집합, N(샘플링 할 데이터의 갯수)) : list의 무작위 샘플  N개를 반환\n",
    "    random.suffle(list 혹은 데이터집합) : list 순서 섞기"
   ]
  },
  {
   "cell_type": "code",
   "execution_count": null,
   "metadata": {
    "id": "z64bD6wwc1K4"
   },
   "outputs": [],
   "source": [
    "test_list = [13, 2, 3, 45, 6, 21, 39]"
   ]
  },
  {
   "cell_type": "markdown",
   "metadata": {
    "id": "OcsEtdhcdTBh"
   },
   "source": [
    "#### 그래서 random 모듈로 뭘 할 수 있는데요?\n",
    "#### 로또 번호 생성기를 만들어 볼껍니다!!"
   ]
  },
  {
   "cell_type": "code",
   "execution_count": 4,
   "metadata": {
    "id": "HAmuNJiYdV0A"
   },
   "outputs": [
    {
     "name": "stdout",
     "output_type": "stream",
     "text": [
      "[11, 13, 16, 34, 19, 40]\n"
     ]
    }
   ],
   "source": [
    "# 심플하게 6개 숫자를 만들어봅시다.\n",
    "import random\n",
    "arr = []\n",
    "for i in range(6):\n",
    "    arr.append(random.randint(0,45))\n",
    "    \n",
    "print(arr)\n"
   ]
  },
  {
   "cell_type": "code",
   "execution_count": 74,
   "metadata": {
    "id": "wi-E80xJdaOm"
   },
   "outputs": [
    {
     "name": "stdout",
     "output_type": "stream",
     "text": [
      "[36, 6, 41, 12, 24, 30]\n"
     ]
    }
   ],
   "source": [
    "# 중복숫자 제거\n",
    "# 정답은 없습니다. 각자가 구현할 수 있는 방법을 강구해서 중복숫자를 제거하고 번호 6개를 생성해 봅시다.\n",
    "import random\n",
    "arr = []\n",
    "for i in range(10):\n",
    "    arr.append(random.randint(0,45))\n",
    "    arr2 = list(set(arr))\n",
    "    if len(arr2)==6:\n",
    "        break\n",
    "print(arr2)\n"
   ]
  },
  {
   "cell_type": "code",
   "execution_count": 52,
   "metadata": {
    "id": "8ads3_HsdaMD"
   },
   "outputs": [],
   "source": [
    "# 누가 로또를 하나만 사나요? 최소 5000원짜리 한세트를 사지요\n",
    "# 5세트 만들어봅시다"
   ]
  },
  {
   "cell_type": "markdown",
   "metadata": {
    "id": "5GuTs2OAfng4"
   },
   "source": [
    "## 3-1. 연습문제 스무고개 게임 업그레이드\n",
    "    컴퓨터와 스무고개 게임을 하는 프로그램을 만들어보겠습니다.\n",
    "    random 모듈로 컴퓨터가 1 ~ 100 중 숫자를 하나 선택하게 합니다.\n",
    "    게이머에게 입력받은 숫자를 판별하여 업, 다운, 정답을 출력하는 프로그램입니다.\n",
    "    게임 횟수는 10회이며, 10회 동안 정답을 못 맞출 경우 실패 문구를 출력하도록 프로그램을 짜 보겠습니다.\n",
    "    선택) 사용자에게 최소숫자, 최대숫자를 입력받아 random으로 생성"
   ]
  },
  {
   "cell_type": "markdown",
   "metadata": {
    "id": "SjSXPiMKf--t"
   },
   "source": [
    "## 3-2. 연습문제 캐릭터 모의전투\n",
    "    전사와 마법사 캐릭터를 만들수 있는 클래스를 생성합니다\n",
    "    전사와 마법사의 캐릭터 특성을 생각하여 차별을 둘 수 있도록 초기화합니다.\n",
    "\n",
    "    전투 클래스를 생성합니다.\n",
    "    각 캐릭터별 특성에 따라 전투(공격)을 번갈아 가면서 진행하고\n",
    "    전투 결과를 출력할 수 있는 클래스를 생성합니다.\n",
    "    \n"
   ]
  },
  {
   "cell_type": "code",
   "execution_count": null,
   "metadata": {
    "id": "i49ibC2agtcn"
   },
   "outputs": [],
   "source": [
    "import random\n",
    "\n",
    "a = random.randint(1,100)\n",
    "for i in range(10):\n",
    "    b = int(input('숫자를 입력해주세요'))\n",
    "    if b<a:\n",
    "        print('UP')\n",
    "    elif b>a:\n",
    "        print('down')\n",
    "    elif b == a:\n",
    "        print('정답입니다.')\n",
    "    elif i == 9:\n",
    "        print(\"게임종료\")\n",
    "        break;"
   ]
  },
  {
   "cell_type": "code",
   "execution_count": 95,
   "metadata": {
    "id": "9f0rWALMjIJ7"
   },
   "outputs": [],
   "source": [
    "# 전사와 마법사 생성후 모의전투\n",
    "import numpy as np\n",
    "import random\n",
    "import time\n",
    "\n",
    "class Caractor:\n",
    "\n",
    "    def __init__(self, job):\n",
    "        self.job = job\n",
    "        self.vital = 100\n",
    "        self.defence = 10\n",
    "        self.attack = 15\n",
    "        if self.job == '전사':\n",
    "            self.vital = self.vital + random.randint(5, 10)\n",
    "            self.defence = self.defence + random.randint(5, 10)\n",
    "        elif self.job == '마법사':\n",
    "            self.attack = self.attack + random.randint(5, 10)\n",
    "            self.defence = self.defence - random.randint(5, 10)\n",
    "            \n",
    "class battle:\n",
    "    \n",
    "    def __init__(self, p1, p2):\n",
    "        self.p1 = p1\n",
    "        self.p2 = p2\n",
    "    \n",
    "    def fight(self):\n",
    "\n",
    "        for i in range(30):\n",
    "            time.sleep(2)\n",
    "            print(str(i+1) + '텀 전투결과')\n",
    "            self.p1.vital = self.p1.vital - ((self.p2.attack + random.randint(-2, 2)) - self.p1.defence)\n",
    "            print(self.p1.job + '가 ' + self.p2.job + '의 ' + str(self.p2.attack + random.randint(-1, 1)) + ' 의 공격을 받아 체력이 ' + str(self.p1.vital) + '이 되었습니다.')\n",
    "            self.p2.vital = self.p2.vital - ((self.p1.attack + random.randint(-1, 1)) - self.p2.defence)\n",
    "            print(self.p2.job + '가 ' + self.p1.job + '의 ' + str(self.p1.attack + random.randint(-2, 2)) + ' 의 공격을 받아 체력이 ' + str(self.p2.vital) + '이 되었습니다.')\n",
    "            if self.p1.vital <= 0 or self.p2.vital <= 0:\n",
    "                print('전투종료')\n",
    "                break"
   ]
  },
  {
   "cell_type": "code",
   "execution_count": 84,
   "metadata": {
    "id": "DwzkgnXajIMN"
   },
   "outputs": [],
   "source": [
    "warrior = Caractor('전사')\n",
    "magician = Caractor('마법사')"
   ]
  },
  {
   "cell_type": "code",
   "execution_count": 93,
   "metadata": {},
   "outputs": [],
   "source": [
    "round1 = battle(warrior, magician)"
   ]
  },
  {
   "cell_type": "code",
   "execution_count": 97,
   "metadata": {
    "id": "yJi7pv6jjIOe"
   },
   "outputs": [
    {
     "name": "stdout",
     "output_type": "stream",
     "text": [
      "1텀 전투결과\n",
      "전사가 마법사의 26 의 공격을 받아 체력이 17이 되었습니다.\n",
      "마법사가 전사의 14 의 공격을 받아 체력이 -25이 되었습니다.\n",
      "전투종료\n"
     ]
    }
   ],
   "source": [
    "round1.fight()"
   ]
  },
  {
   "cell_type": "code",
   "execution_count": 98,
   "metadata": {
    "id": "3YVrJyLAjIQ_"
   },
   "outputs": [
    {
     "name": "stdout",
     "output_type": "stream",
     "text": [
      "Collecting pyttsx3\n",
      "  Downloading pyttsx3-2.90-py3-none-any.whl (39 kB)\n",
      "Collecting pyobjc>=2.4; platform_system == \"Darwin\"\n",
      "  Downloading pyobjc-7.1-py3-none-any.whl (3.0 kB)\n",
      "Collecting pyobjc-framework-PencilKit==7.1; platform_release >= \"19.0\"\n",
      "  Downloading pyobjc_framework_PencilKit-7.1-py2.py3-none-any.whl (3.1 kB)\n",
      "Collecting pyobjc-framework-Contacts==7.1; platform_release >= \"15.0\"\n",
      "  Downloading pyobjc_framework_Contacts-7.1-cp36-abi3-macosx_10_9_x86_64.whl (9.3 kB)\n",
      "Collecting pyobjc-framework-InstantMessage==7.1; platform_release >= \"9.0\"\n",
      "  Downloading pyobjc_framework_InstantMessage-7.1-py2.py3-none-any.whl (4.9 kB)\n",
      "Collecting pyobjc-framework-MediaToolbox==7.1; platform_release >= \"13.0\"\n",
      "  Downloading pyobjc_framework_MediaToolbox-7.1-cp36-abi3-macosx_10_9_x86_64.whl (8.4 kB)\n",
      "Collecting pyobjc-framework-AppleScriptKit==7.1\n",
      "  Downloading pyobjc_framework_AppleScriptKit-7.1-py2.py3-none-any.whl (3.8 kB)\n",
      "Collecting pyobjc-framework-CoreText==7.1\n",
      "  Downloading pyobjc_framework_CoreText-7.1-cp38-cp38-macosx_10_9_x86_64.whl (23 kB)\n",
      "Collecting pyobjc-framework-SyncServices==7.1\n",
      "  Downloading pyobjc_framework_SyncServices-7.1-cp36-abi3-macosx_10_9_x86_64.whl (10 kB)\n",
      "Collecting pyobjc-framework-DeviceCheck==7.1; platform_release >= \"19.0\"\n",
      "  Downloading pyobjc_framework_DeviceCheck-7.1-py2.py3-none-any.whl (3.1 kB)\n",
      "Collecting pyobjc-framework-CoreMedia==7.1; platform_release >= \"11.0\"\n",
      "  Downloading pyobjc_framework_CoreMedia-7.1-cp38-cp38-macosx_10_9_x86_64.whl (18 kB)\n",
      "Collecting pyobjc-framework-Automator==7.1\n",
      "  Downloading pyobjc_framework_Automator-7.1-py2.py3-none-any.whl (4.9 kB)\n",
      "Collecting pyobjc-framework-CoreData==7.1\n",
      "  Downloading pyobjc_framework_CoreData-7.1-cp36-abi3-macosx_10_9_x86_64.whl (12 kB)\n",
      "Collecting pyobjc-framework-NaturalLanguage==7.1; platform_release >= \"18.0\"\n",
      "  Downloading pyobjc_framework_NaturalLanguage-7.1-py2.py3-none-any.whl (4.2 kB)\n",
      "Collecting pyobjc-framework-LinkPresentation==7.1; platform_release >= \"19.0\"\n",
      "  Downloading pyobjc_framework_LinkPresentation-7.1-py2.py3-none-any.whl (3.2 kB)\n",
      "Collecting pyobjc-framework-MediaAccessibility==7.1; platform_release >= \"13.0\"\n",
      "  Downloading pyobjc_framework_MediaAccessibility-7.1-py2.py3-none-any.whl (3.8 kB)\n",
      "Collecting pyobjc-framework-CoreSpotlight==7.1; platform_release >= \"17.0\"\n",
      "  Downloading pyobjc_framework_CoreSpotlight-7.1-cp36-abi3-macosx_10_9_x86_64.whl (7.1 kB)\n",
      "Collecting pyobjc-framework-Social==7.1; platform_release >= \"12.0\"\n",
      "  Downloading pyobjc_framework_Social-7.1-py2.py3-none-any.whl (3.9 kB)\n",
      "Collecting pyobjc-framework-MediaPlayer==7.1; platform_release >= \"16.0\"\n",
      "  Downloading pyobjc_framework_MediaPlayer-7.1-py2.py3-none-any.whl (5.7 kB)\n",
      "Collecting pyobjc-framework-ImageCaptureCore==7.1; platform_release >= \"10.0\"\n",
      "  Downloading pyobjc_framework_ImageCaptureCore-7.1-cp36-abi3-macosx_10_9_x86_64.whl (12 kB)\n",
      "Collecting pyobjc-framework-LatentSemanticMapping==7.1\n",
      "  Downloading pyobjc_framework_LatentSemanticMapping-7.1-py2.py3-none-any.whl (4.9 kB)\n",
      "Collecting pyobjc-framework-SystemConfiguration==7.1\n",
      "  Downloading pyobjc_framework_SystemConfiguration-7.1-cp36-abi3-macosx_10_9_x86_64.whl (17 kB)\n",
      "Collecting pyobjc-framework-ColorSync==7.1; platform_release >= \"17.0\"\n",
      "  Downloading pyobjc_framework_ColorSync-7.1-py2.py3-none-any.whl (5.1 kB)\n",
      "Collecting pyobjc-framework-MediaLibrary==7.1; platform_release >= \"13.0\"\n",
      "  Downloading pyobjc_framework_MediaLibrary-7.1-py2.py3-none-any.whl (3.8 kB)\n",
      "Collecting pyobjc-framework-Virtualization==7.1; platform_release >= \"20.0\"\n",
      "  Downloading pyobjc_framework_Virtualization-7.1-cp36-abi3-macosx_10_9_x86_64.whl (6.2 kB)\n",
      "Collecting pyobjc-framework-AuthenticationServices==7.1; platform_release >= \"19.0\"\n",
      "  Downloading pyobjc_framework_AuthenticationServices-7.1-cp36-abi3-macosx_10_9_x86_64.whl (8.6 kB)\n",
      "Collecting pyobjc-framework-OSLog==7.1; platform_release >= \"19.0\"\n",
      "  Downloading pyobjc_framework_OSLog-7.1-cp36-abi3-macosx_10_9_x86_64.whl (5.9 kB)\n",
      "Collecting pyobjc-framework-MapKit==7.1; platform_release >= \"13.0\"\n",
      "  Downloading pyobjc_framework_MapKit-7.1-cp36-abi3-macosx_10_9_x86_64.whl (14 kB)\n",
      "Collecting pyobjc-framework-CFNetwork==7.1\n",
      "  Downloading pyobjc_framework_CFNetwork-7.1-cp36-abi3-macosx_10_9_x86_64.whl (12 kB)\n",
      "Collecting pyobjc-framework-ContactsUI==7.1; platform_release >= \"15.0\"\n",
      "  Downloading pyobjc_framework_ContactsUI-7.1-cp36-abi3-macosx_10_9_x86_64.whl (6.0 kB)\n",
      "Collecting pyobjc-framework-SafariServices==7.1; platform_release >= \"15.0\"\n",
      "  Downloading pyobjc_framework_SafariServices-7.1-cp36-abi3-macosx_10_9_x86_64.whl (6.0 kB)\n",
      "Collecting pyobjc-framework-MultipeerConnectivity==7.1; platform_release >= \"14.0\"\n",
      "  Downloading pyobjc_framework_MultipeerConnectivity-7.1-cp36-abi3-macosx_10_9_x86_64.whl (9.0 kB)\n",
      "Collecting pyobjc-framework-AddressBook==7.1\n",
      "  Downloading pyobjc_framework_AddressBook-7.1-cp36-abi3-macosx_10_9_x86_64.whl (10 kB)\n",
      "Collecting pyobjc-framework-Cocoa==7.1\n",
      "  Downloading pyobjc_framework_Cocoa-7.1-cp38-cp38-macosx_10_9_x86_64.whl (261 kB)\n",
      "\u001b[K     |████████████████████████████████| 261 kB 2.0 MB/s eta 0:00:01\n",
      "\u001b[?25hCollecting pyobjc-framework-IOSurface==7.1; platform_release >= \"10.0\"\n",
      "  Downloading pyobjc_framework_IOSurface-7.1-py2.py3-none-any.whl (4.3 kB)\n",
      "Collecting pyobjc-framework-Quartz==7.1\n",
      "  Downloading pyobjc_framework_Quartz-7.1-cp38-cp38-macosx_10_9_x86_64.whl (141 kB)\n",
      "\u001b[K     |████████████████████████████████| 141 kB 11.0 MB/s eta 0:00:01\n",
      "\u001b[?25hCollecting pyobjc-framework-PreferencePanes==7.1\n",
      "  Downloading pyobjc_framework_PreferencePanes-7.1-py2.py3-none-any.whl (4.2 kB)\n",
      "Collecting pyobjc-framework-AutomaticAssessmentConfiguration==7.1; platform_release >= \"19.0\"\n",
      "  Downloading pyobjc_framework_AutomaticAssessmentConfiguration-7.1-cp36-abi3-macosx_10_9_x86_64.whl (6.2 kB)\n",
      "Collecting pyobjc-framework-ScriptingBridge==7.1; platform_release >= \"9.0\"\n",
      "  Downloading pyobjc_framework_ScriptingBridge-7.1-cp36-abi3-macosx_10_9_x86_64.whl (6.8 kB)\n",
      "Collecting pyobjc-framework-ReplayKit==7.1; platform_release >= \"20.0\"\n",
      "  Downloading pyobjc_framework_ReplayKit-7.1-cp36-abi3-macosx_10_9_x86_64.whl (7.1 kB)\n",
      "Collecting pyobjc-framework-SecurityFoundation==7.1\n",
      "  Downloading pyobjc_framework_SecurityFoundation-7.1-py2.py3-none-any.whl (3.1 kB)\n",
      "Collecting pyobjc-framework-CoreMotion==7.1; platform_release >= \"19.0\"\n",
      "  Downloading pyobjc_framework_CoreMotion-7.1-py2.py3-none-any.whl (4.2 kB)\n",
      "Collecting pyobjc-framework-CoreMIDI==7.1\n",
      "  Downloading pyobjc_framework_CoreMIDI-7.1-cp36-abi3-macosx_10_9_x86_64.whl (9.0 kB)\n",
      "Collecting pyobjc-framework-DictionaryServices==7.1; platform_release >= \"9.0\"\n",
      "  Downloading pyobjc_framework_DictionaryServices-7.1-py2.py3-none-any.whl (3.4 kB)\n",
      "Collecting pyobjc-framework-CoreLocation==7.1; platform_release >= \"10.0\"\n",
      "  Downloading pyobjc_framework_CoreLocation-7.1-cp36-abi3-macosx_10_9_x86_64.whl (9.0 kB)\n",
      "Collecting pyobjc-framework-ExecutionPolicy==7.1; platform_release >= \"19.0\"\n",
      "  Downloading pyobjc_framework_ExecutionPolicy-7.1-py2.py3-none-any.whl (3.2 kB)\n",
      "Collecting pyobjc-framework-GameCenter==7.1; platform_release >= \"12.0\"\n",
      "  Downloading pyobjc_framework_GameCenter-7.1-cp36-abi3-macosx_10_9_x86_64.whl (12 kB)\n",
      "Collecting pyobjc-framework-LaunchServices==7.1\n",
      "  Downloading pyobjc_framework_LaunchServices-7.1-py2.py3-none-any.whl (3.3 kB)\n",
      "Collecting pyobjc-framework-Intents==7.1; platform_release >= \"16.0\"\n",
      "  Downloading pyobjc_framework_Intents-7.1-cp36-abi3-macosx_10_9_x86_64.whl (19 kB)\n",
      "Collecting pyobjc-framework-ScreenSaver==7.1\n",
      "  Downloading pyobjc_framework_ScreenSaver-7.1-cp36-abi3-macosx_10_9_x86_64.whl (6.2 kB)\n",
      "Collecting pyobjc-framework-ExceptionHandling==7.1\n",
      "  Downloading pyobjc_framework_ExceptionHandling-7.1-py2.py3-none-any.whl (7.3 kB)\n",
      "Collecting pyobjc-framework-CoreHaptics==7.1; platform_release >= \"19.0\"\n",
      "  Downloading pyobjc_framework_CoreHaptics-7.1-py2.py3-none-any.whl (4.4 kB)\n",
      "Collecting pyobjc-framework-AVFoundation==7.1; platform_release >= \"11.0\"\n",
      "  Downloading pyobjc_framework_AVFoundation-7.1-cp36-abi3-macosx_10_9_x86_64.whl (37 kB)\n",
      "Collecting pyobjc-framework-SecurityInterface==7.1\n",
      "  Downloading pyobjc_framework_SecurityInterface-7.1-cp36-abi3-macosx_10_9_x86_64.whl (7.8 kB)\n",
      "Collecting pyobjc-framework-SearchKit==7.1\n",
      "  Downloading pyobjc_framework_SearchKit-7.1-py2.py3-none-any.whl (3.3 kB)\n"
     ]
    },
    {
     "name": "stdout",
     "output_type": "stream",
     "text": [
      "Collecting pyobjc-framework-CoreMediaIO==7.1; platform_release >= \"11.0\"\n",
      "  Downloading pyobjc_framework_CoreMediaIO-7.1-cp36-abi3-macosx_10_9_x86_64.whl (10 kB)\n",
      "Collecting pyobjc-framework-DiskArbitration==7.1\n",
      "  Downloading pyobjc_framework_DiskArbitration-7.1-py2.py3-none-any.whl (4.3 kB)\n",
      "Collecting pyobjc-framework-CoreAudio==7.1\n",
      "  Downloading pyobjc_framework_CoreAudio-7.1-cp38-cp38-macosx_10_9_x86_64.whl (24 kB)\n",
      "Collecting pyobjc-framework-SystemExtensions==7.1; platform_release >= \"19.0\"\n",
      "  Downloading pyobjc_framework_SystemExtensions-7.1-cp36-abi3-macosx_10_9_x86_64.whl (6.4 kB)\n",
      "Collecting pyobjc-framework-AppTrackingTransparency==7.1; platform_release >= \"20.0\"\n",
      "  Downloading pyobjc_framework_AppTrackingTransparency-7.1-py2.py3-none-any.whl (3.2 kB)\n",
      "Collecting pyobjc-framework-WebKit==7.1\n",
      "  Downloading pyobjc_framework_WebKit-7.1-cp36-abi3-macosx_10_9_x86_64.whl (26 kB)\n",
      "Collecting pyobjc-framework-OpenDirectory==7.1; platform_release >= \"10.0\"\n",
      "  Downloading pyobjc_framework_OpenDirectory-7.1-py2.py3-none-any.whl (11 kB)\n",
      "Collecting pyobjc-framework-CalendarStore==7.1; platform_release >= \"9.0\"\n",
      "  Downloading pyobjc_framework_CalendarStore-7.1-py2.py3-none-any.whl (4.5 kB)\n",
      "Collecting pyobjc-framework-VideoSubscriberAccount==7.1; platform_release >= \"18.0\"\n",
      "  Downloading pyobjc_framework_VideoSubscriberAccount-7.1-py2.py3-none-any.whl (3.7 kB)\n",
      "Collecting pyobjc-framework-Metal==7.1; platform_release >= \"15.0\"\n",
      "  Downloading pyobjc_framework_Metal-7.1-cp36-abi3-macosx_10_9_x86_64.whl (26 kB)\n",
      "Collecting pyobjc-framework-MetalPerformanceShadersGraph==7.1; platform_release >= \"20.0\"\n",
      "  Downloading pyobjc_framework_MetalPerformanceShadersGraph-7.1-py2.py3-none-any.whl (3.6 kB)\n",
      "Collecting pyobjc-core==7.1\n",
      "  Downloading pyobjc_core-7.1-cp38-cp38-macosx_10_9_x86_64.whl (292 kB)\n",
      "\u001b[K     |████████████████████████████████| 292 kB 10.0 MB/s eta 0:00:01\n",
      "\u001b[?25hCollecting pyobjc-framework-Vision==7.1; platform_release >= \"17.0\"\n",
      "  Downloading pyobjc_framework_Vision-7.1-cp36-abi3-macosx_10_9_x86_64.whl (9.3 kB)\n",
      "Collecting pyobjc-framework-FSEvents==7.1; platform_release >= \"9.0\"\n",
      "  Downloading pyobjc_framework_FSEvents-7.1-cp36-abi3-macosx_10_9_x86_64.whl (9.1 kB)\n",
      "Collecting pyobjc-framework-CryptoTokenKit==7.1; platform_release >= \"14.0\"\n",
      "  Downloading pyobjc_framework_CryptoTokenKit-7.1-cp36-abi3-macosx_10_9_x86_64.whl (9.4 kB)\n",
      "Collecting pyobjc-framework-NetworkExtension==7.1; platform_release >= \"15.0\"\n",
      "  Downloading pyobjc_framework_NetworkExtension-7.1-cp36-abi3-macosx_10_9_x86_64.whl (10 kB)\n",
      "Collecting pyobjc-framework-Accounts==7.1; platform_release >= \"12.0\"\n",
      "  Downloading pyobjc_framework_Accounts-7.1-py2.py3-none-any.whl (4.5 kB)\n",
      "Collecting pyobjc-framework-VideoToolbox==7.1; platform_release >= \"12.0\"\n",
      "  Downloading pyobjc_framework_VideoToolbox-7.1-cp36-abi3-macosx_10_9_x86_64.whl (9.3 kB)\n",
      "Collecting pyobjc-framework-UserNotificationsUI==7.1; platform_release >= \"20.0\"\n",
      "  Downloading pyobjc_framework_UserNotificationsUI-7.1-py2.py3-none-any.whl (3.4 kB)\n",
      "Collecting pyobjc-framework-Collaboration==7.1; platform_release >= \"9.0\"\n",
      "  Downloading pyobjc_framework_Collaboration-7.1-py2.py3-none-any.whl (4.3 kB)\n",
      "Collecting pyobjc-framework-LocalAuthentication==7.1; platform_release >= \"14.0\"\n",
      "  Downloading pyobjc_framework_LocalAuthentication-7.1-py2.py3-none-any.whl (4.8 kB)\n",
      "Collecting pyobjc-framework-InputMethodKit==7.1; platform_release >= \"9.0\"\n",
      "  Downloading pyobjc_framework_InputMethodKit-7.1-cp36-abi3-macosx_10_9_x86_64.whl (7.6 kB)\n",
      "Collecting pyobjc-framework-IMServicePlugIn==7.1; platform_release >= \"11.0\"\n",
      "  Downloading pyobjc_framework_IMServicePlugIn-7.1-cp36-abi3-macosx_10_9_x86_64.whl (9.7 kB)\n",
      "Collecting pyobjc-framework-AppleScriptObjC==7.1; platform_release >= \"10.0\"\n",
      "  Downloading pyobjc_framework_AppleScriptObjC-7.1-py2.py3-none-any.whl (3.9 kB)\n",
      "Collecting pyobjc-framework-ExternalAccessory==7.1; platform_release >= \"17.0\"\n",
      "  Downloading pyobjc_framework_ExternalAccessory-7.1-cp36-abi3-macosx_10_9_x86_64.whl (6.7 kB)\n",
      "Collecting pyobjc-framework-CoreBluetooth==7.1; platform_release >= \"14.0\"\n",
      "  Downloading pyobjc_framework_CoreBluetooth-7.1-cp36-abi3-macosx_10_9_x86_64.whl (9.8 kB)\n",
      "Collecting pyobjc-framework-UserNotifications==7.1; platform_release >= \"18.0\"\n",
      "  Downloading pyobjc_framework_UserNotifications-7.1-cp36-abi3-macosx_10_9_x86_64.whl (7.1 kB)\n",
      "Collecting pyobjc-framework-QuickLookThumbnailing==7.1; platform_release >= \"19.0\"\n",
      "  Downloading pyobjc_framework_QuickLookThumbnailing-7.1-py2.py3-none-any.whl (3.5 kB)\n",
      "Collecting pyobjc-framework-DVDPlayback==7.1\n",
      "  Downloading pyobjc_framework_DVDPlayback-7.1-py2.py3-none-any.whl (7.6 kB)\n",
      "Collecting pyobjc-framework-Security==7.1\n",
      "  Downloading pyobjc_framework_Security-7.1-cp38-cp38-macosx_10_9_x86_64.whl (30 kB)\n",
      "Collecting pyobjc-framework-CoreML==7.1; platform_release >= \"17.0\"\n",
      "  Downloading pyobjc_framework_CoreML-7.1-cp36-abi3-macosx_10_9_x86_64.whl (8.1 kB)\n",
      "Collecting pyobjc-framework-PushKit==7.1; platform_release >= \"19.0\"\n",
      "  Downloading pyobjc_framework_PushKit-7.1-cp36-abi3-macosx_10_9_x86_64.whl (6.1 kB)\n",
      "Collecting pyobjc-framework-CloudKit==7.1; platform_release >= \"14.0\"\n",
      "  Downloading pyobjc_framework_CloudKit-7.1-py2.py3-none-any.whl (7.2 kB)\n",
      "Collecting pyobjc-framework-Speech==7.1; platform_release >= \"19.0\"\n",
      "  Downloading pyobjc_framework_Speech-7.1-cp36-abi3-macosx_10_9_x86_64.whl (6.6 kB)\n",
      "Collecting pyobjc-framework-MetalKit==7.1; platform_release >= \"15.0\"\n",
      "  Downloading pyobjc_framework_MetalKit-7.1-cp36-abi3-macosx_10_9_x86_64.whl (6.6 kB)\n",
      "Collecting pyobjc-framework-ApplicationServices==7.1\n",
      "  Downloading pyobjc_framework_ApplicationServices-7.1-py2.py3-none-any.whl (19 kB)\n",
      "Collecting pyobjc-framework-EventKit==7.1; platform_release >= \"12.0\"\n",
      "  Downloading pyobjc_framework_EventKit-7.1-py2.py3-none-any.whl (5.6 kB)\n",
      "Collecting pyobjc-framework-ScreenTime==7.1; platform_release >= \"20.0\"\n",
      "  Downloading pyobjc_framework_ScreenTime-7.1-py2.py3-none-any.whl (3.1 kB)\n",
      "Collecting pyobjc-framework-InstallerPlugins==7.1\n",
      "  Downloading pyobjc_framework_InstallerPlugins-7.1-py2.py3-none-any.whl (4.3 kB)\n",
      "Collecting pyobjc-framework-BusinessChat==7.1; platform_release >= \"18.0\"\n",
      "  Downloading pyobjc_framework_BusinessChat-7.1-py2.py3-none-any.whl (2.9 kB)\n",
      "Collecting pyobjc-framework-DiscRecordingUI==7.1\n",
      "  Downloading pyobjc_framework_DiscRecordingUI-7.1-py2.py3-none-any.whl (4.2 kB)\n",
      "Collecting pyobjc-framework-ClassKit==7.1; platform_release >= \"20.0\"\n",
      "  Downloading pyobjc_framework_ClassKit-7.1-cp36-abi3-macosx_10_9_x86_64.whl (6.1 kB)\n",
      "Collecting pyobjc-framework-AdSupport==7.1; platform_release >= \"18.0\"\n",
      "  Downloading pyobjc_framework_AdSupport-7.1-py2.py3-none-any.whl (2.9 kB)\n",
      "Collecting pyobjc-framework-NetFS==7.1; platform_release >= \"10.0\"\n",
      "  Downloading pyobjc_framework_NetFS-7.1-py2.py3-none-any.whl (3.7 kB)\n",
      "Collecting pyobjc-framework-FinderSync==7.1; platform_release >= \"14.0\"\n",
      "  Downloading pyobjc_framework_FinderSync-7.1-py2.py3-none-any.whl (4.3 kB)\n",
      "Collecting pyobjc-framework-Accessibility==7.1; platform_release >= \"20.0\"\n",
      "  Downloading pyobjc_framework_Accessibility-7.1-cp36-abi3-macosx_10_9_x86_64.whl (5.4 kB)\n",
      "Collecting pyobjc-framework-ServiceManagement==7.1; platform_release >= \"10.0\"\n",
      "  Downloading pyobjc_framework_ServiceManagement-7.1-py2.py3-none-any.whl (4.4 kB)\n",
      "Collecting pyobjc-framework-NotificationCenter==7.1; platform_release >= \"14.0\"\n",
      "  Downloading pyobjc_framework_NotificationCenter-7.1-cp36-abi3-macosx_10_9_x86_64.whl (7.4 kB)\n",
      "Collecting pyobjc-framework-libdispatch==7.1; platform_release >= \"12.0\"\n",
      "  Downloading pyobjc_framework_libdispatch-7.1-cp38-cp38-macosx_10_9_x86_64.whl (12 kB)\n",
      "Collecting pyobjc-framework-FileProviderUI==7.1; platform_release >= \"19.0\"\n",
      "  Downloading pyobjc_framework_FileProviderUI-7.1-py2.py3-none-any.whl (3.1 kB)\n",
      "Collecting pyobjc-framework-GameController==7.1; platform_release >= \"13.0\"\n",
      "  Downloading pyobjc_framework_GameController-7.1-cp36-abi3-macosx_10_9_x86_64.whl (8.2 kB)\n",
      "Collecting pyobjc-framework-CoreAudioKit==7.1\n",
      "  Downloading pyobjc_framework_CoreAudioKit-7.1-cp36-abi3-macosx_10_9_x86_64.whl (5.7 kB)\n",
      "Collecting pyobjc-framework-KernelManagement==7.1; platform_release >= \"20.0\"\n",
      "  Downloading pyobjc_framework_KernelManagement-7.1-py2.py3-none-any.whl (3.2 kB)\n"
     ]
    },
    {
     "name": "stdout",
     "output_type": "stream",
     "text": [
      "Collecting pyobjc-framework-MLCompute==7.1; platform_release >= \"20.0\"\n",
      "  Downloading pyobjc_framework_MLCompute-7.1-py2.py3-none-any.whl (5.3 kB)\n",
      "Collecting pyobjc-framework-UniformTypeIdentifiers==7.1; platform_release >= \"20.0\"\n",
      "  Downloading pyobjc_framework_UniformTypeIdentifiers-7.1-py2.py3-none-any.whl (3.9 kB)\n",
      "Collecting pyobjc-framework-CoreServices==7.1\n",
      "  Downloading pyobjc_framework_CoreServices-7.1-cp36-abi3-macosx_10_9_x86_64.whl (27 kB)\n",
      "Collecting pyobjc-framework-SpriteKit==7.1; platform_release >= \"13.0\"\n",
      "  Downloading pyobjc_framework_SpriteKit-7.1-cp36-abi3-macosx_10_9_x86_64.whl (11 kB)\n",
      "Collecting pyobjc-framework-StoreKit==7.1; platform_release >= \"11.0\"\n",
      "  Downloading pyobjc_framework_StoreKit-7.1-cp36-abi3-macosx_10_9_x86_64.whl (8.5 kB)\n",
      "Collecting pyobjc-framework-PassKit==7.1; platform_release >= \"20.0\"\n",
      "  Downloading pyobjc_framework_PassKit-7.1-cp36-abi3-macosx_10_9_x86_64.whl (8.4 kB)\n",
      "Collecting pyobjc-framework-AdServices==7.1; platform_release >= \"20.0\"\n",
      "  Downloading pyobjc_framework_AdServices-7.1-py2.py3-none-any.whl (3.0 kB)\n",
      "Collecting pyobjc-framework-Photos==7.1; platform_release >= \"15.0\"\n",
      "  Downloading pyobjc_framework_Photos-7.1-cp36-abi3-macosx_10_9_x86_64.whl (9.1 kB)\n",
      "Collecting pyobjc-framework-DiscRecording==7.1\n",
      "  Downloading pyobjc_framework_DiscRecording-7.1-cp36-abi3-macosx_10_9_x86_64.whl (12 kB)\n",
      "Collecting pyobjc-framework-AVKit==7.1; platform_release >= \"13.0\"\n",
      "  Downloading pyobjc_framework_AVKit-7.1-cp36-abi3-macosx_10_9_x86_64.whl (7.4 kB)\n",
      "Collecting pyobjc-framework-CallKit==7.1; platform_release >= \"20.0\"\n",
      "  Downloading pyobjc_framework_CallKit-7.1-py2.py3-none-any.whl (4.2 kB)\n",
      "Collecting pyobjc-framework-FileProvider==7.1; platform_release >= \"19.0\"\n",
      "  Downloading pyobjc_framework_FileProvider-7.1-cp38-cp38-macosx_10_9_x86_64.whl (8.3 kB)\n",
      "Collecting pyobjc-framework-GameKit==7.1; platform_release >= \"12.0\"\n",
      "  Downloading pyobjc_framework_GameKit-7.1-cp36-abi3-macosx_10_9_x86_64.whl (14 kB)\n",
      "Collecting pyobjc-framework-GameplayKit==7.1; platform_release >= \"15.0\"\n",
      "  Downloading pyobjc_framework_GameplayKit-7.1-cp36-abi3-macosx_10_9_x86_64.whl (8.6 kB)\n",
      "Collecting pyobjc-framework-iTunesLibrary==7.1; platform_release >= \"10.0\"\n",
      "  Downloading pyobjc_framework_iTunesLibrary-7.1-py2.py3-none-any.whl (4.5 kB)\n",
      "Collecting pyobjc-framework-Network==7.1; platform_release >= \"18.0\"\n",
      "  Downloading pyobjc_framework_Network-7.1-cp36-abi3-macosx_10_9_x86_64.whl (13 kB)\n",
      "Collecting pyobjc-framework-PhotosUI==7.1; platform_release >= \"15.0\"\n",
      "  Downloading pyobjc_framework_PhotosUI-7.1-cp36-abi3-macosx_10_9_x86_64.whl (7.9 kB)\n",
      "Collecting pyobjc-framework-SoundAnalysis==7.1; platform_release >= \"19.0\"\n",
      "  Downloading pyobjc_framework_SoundAnalysis-7.1-py2.py3-none-any.whl (3.3 kB)\n",
      "Collecting pyobjc-framework-MetalPerformanceShaders==7.1; platform_release >= \"17.0\"\n",
      "  Downloading pyobjc_framework_MetalPerformanceShaders-7.1-cp36-abi3-macosx_10_9_x86_64.whl (16 kB)\n",
      "Collecting pyobjc-framework-SceneKit==7.1; platform_release >= \"11.0\"\n",
      "  Downloading pyobjc_framework_SceneKit-7.1-cp36-abi3-macosx_10_9_x86_64.whl (21 kB)\n",
      "Collecting pyobjc-framework-OSAKit==7.1\n",
      "  Downloading pyobjc_framework_OSAKit-7.1-py2.py3-none-any.whl (3.5 kB)\n",
      "Collecting pyobjc-framework-CoreWLAN==7.1; platform_release >= \"10.0\"\n",
      "  Downloading pyobjc_framework_CoreWLAN-7.1-cp36-abi3-macosx_10_9_x86_64.whl (8.3 kB)\n",
      "Collecting pyobjc-framework-ModelIO==7.1; platform_release >= \"15.0\"\n",
      "  Downloading pyobjc_framework_ModelIO-7.1-cp36-abi3-macosx_10_9_x86_64.whl (13 kB)\n",
      "Installing collected packages: pyobjc-core, pyobjc-framework-Cocoa, pyobjc-framework-PencilKit, pyobjc-framework-Contacts, pyobjc-framework-Quartz, pyobjc-framework-InstantMessage, pyobjc-framework-MediaToolbox, pyobjc-framework-AppleScriptKit, pyobjc-framework-CoreText, pyobjc-framework-CoreData, pyobjc-framework-SyncServices, pyobjc-framework-DeviceCheck, pyobjc-framework-CoreMedia, pyobjc-framework-Automator, pyobjc-framework-NaturalLanguage, pyobjc-framework-LinkPresentation, pyobjc-framework-MediaAccessibility, pyobjc-framework-CoreSpotlight, pyobjc-framework-Social, pyobjc-framework-AVFoundation, pyobjc-framework-MediaPlayer, pyobjc-framework-ImageCaptureCore, pyobjc-framework-LatentSemanticMapping, pyobjc-framework-SystemConfiguration, pyobjc-framework-ColorSync, pyobjc-framework-MediaLibrary, pyobjc-framework-Virtualization, pyobjc-framework-AuthenticationServices, pyobjc-framework-OSLog, pyobjc-framework-CoreLocation, pyobjc-framework-MapKit, pyobjc-framework-CFNetwork, pyobjc-framework-ContactsUI, pyobjc-framework-SafariServices, pyobjc-framework-MultipeerConnectivity, pyobjc-framework-AddressBook, pyobjc-framework-IOSurface, pyobjc-framework-PreferencePanes, pyobjc-framework-AutomaticAssessmentConfiguration, pyobjc-framework-ScriptingBridge, pyobjc-framework-ReplayKit, pyobjc-framework-Security, pyobjc-framework-SecurityFoundation, pyobjc-framework-CoreMotion, pyobjc-framework-CoreMIDI, pyobjc-framework-FSEvents, pyobjc-framework-CoreServices, pyobjc-framework-DictionaryServices, pyobjc-framework-ExecutionPolicy, pyobjc-framework-GameCenter, pyobjc-framework-LaunchServices, pyobjc-framework-Intents, pyobjc-framework-ScreenSaver, pyobjc-framework-ExceptionHandling, pyobjc-framework-CoreHaptics, pyobjc-framework-SecurityInterface, pyobjc-framework-SearchKit, pyobjc-framework-CoreMediaIO, pyobjc-framework-DiskArbitration, pyobjc-framework-CoreAudio, pyobjc-framework-SystemExtensions, pyobjc-framework-AppTrackingTransparency, pyobjc-framework-WebKit, pyobjc-framework-OpenDirectory, pyobjc-framework-CalendarStore, pyobjc-framework-VideoSubscriberAccount, pyobjc-framework-Metal, pyobjc-framework-MetalPerformanceShaders, pyobjc-framework-MetalPerformanceShadersGraph, pyobjc-framework-CoreML, pyobjc-framework-Vision, pyobjc-framework-CryptoTokenKit, pyobjc-framework-NetworkExtension, pyobjc-framework-Accounts, pyobjc-framework-VideoToolbox, pyobjc-framework-UserNotifications, pyobjc-framework-UserNotificationsUI, pyobjc-framework-Collaboration, pyobjc-framework-LocalAuthentication, pyobjc-framework-InputMethodKit, pyobjc-framework-IMServicePlugIn, pyobjc-framework-AppleScriptObjC, pyobjc-framework-ExternalAccessory, pyobjc-framework-CoreBluetooth, pyobjc-framework-QuickLookThumbnailing, pyobjc-framework-DVDPlayback, pyobjc-framework-PushKit, pyobjc-framework-CloudKit, pyobjc-framework-Speech, pyobjc-framework-MetalKit, pyobjc-framework-ApplicationServices, pyobjc-framework-EventKit, pyobjc-framework-ScreenTime, pyobjc-framework-InstallerPlugins, pyobjc-framework-BusinessChat, pyobjc-framework-DiscRecording, pyobjc-framework-DiscRecordingUI, pyobjc-framework-ClassKit, pyobjc-framework-AdSupport, pyobjc-framework-NetFS, pyobjc-framework-FinderSync, pyobjc-framework-Accessibility, pyobjc-framework-ServiceManagement, pyobjc-framework-NotificationCenter, pyobjc-framework-libdispatch, pyobjc-framework-FileProvider, pyobjc-framework-FileProviderUI, pyobjc-framework-GameController, pyobjc-framework-CoreAudioKit, pyobjc-framework-KernelManagement, pyobjc-framework-MLCompute, pyobjc-framework-UniformTypeIdentifiers, pyobjc-framework-SpriteKit, pyobjc-framework-StoreKit, pyobjc-framework-PassKit, pyobjc-framework-AdServices, pyobjc-framework-Photos, pyobjc-framework-AVKit, pyobjc-framework-CallKit, pyobjc-framework-GameKit, pyobjc-framework-GameplayKit, pyobjc-framework-iTunesLibrary, pyobjc-framework-Network, pyobjc-framework-PhotosUI, pyobjc-framework-SoundAnalysis, pyobjc-framework-SceneKit, pyobjc-framework-OSAKit, pyobjc-framework-CoreWLAN, pyobjc-framework-ModelIO, pyobjc, pyttsx3\n"
     ]
    },
    {
     "name": "stdout",
     "output_type": "stream",
     "text": [
      "Successfully installed pyobjc-7.1 pyobjc-core-7.1 pyobjc-framework-AVFoundation-7.1 pyobjc-framework-AVKit-7.1 pyobjc-framework-Accessibility-7.1 pyobjc-framework-Accounts-7.1 pyobjc-framework-AdServices-7.1 pyobjc-framework-AdSupport-7.1 pyobjc-framework-AddressBook-7.1 pyobjc-framework-AppTrackingTransparency-7.1 pyobjc-framework-AppleScriptKit-7.1 pyobjc-framework-AppleScriptObjC-7.1 pyobjc-framework-ApplicationServices-7.1 pyobjc-framework-AuthenticationServices-7.1 pyobjc-framework-AutomaticAssessmentConfiguration-7.1 pyobjc-framework-Automator-7.1 pyobjc-framework-BusinessChat-7.1 pyobjc-framework-CFNetwork-7.1 pyobjc-framework-CalendarStore-7.1 pyobjc-framework-CallKit-7.1 pyobjc-framework-ClassKit-7.1 pyobjc-framework-CloudKit-7.1 pyobjc-framework-Cocoa-7.1 pyobjc-framework-Collaboration-7.1 pyobjc-framework-ColorSync-7.1 pyobjc-framework-Contacts-7.1 pyobjc-framework-ContactsUI-7.1 pyobjc-framework-CoreAudio-7.1 pyobjc-framework-CoreAudioKit-7.1 pyobjc-framework-CoreBluetooth-7.1 pyobjc-framework-CoreData-7.1 pyobjc-framework-CoreHaptics-7.1 pyobjc-framework-CoreLocation-7.1 pyobjc-framework-CoreMIDI-7.1 pyobjc-framework-CoreML-7.1 pyobjc-framework-CoreMedia-7.1 pyobjc-framework-CoreMediaIO-7.1 pyobjc-framework-CoreMotion-7.1 pyobjc-framework-CoreServices-7.1 pyobjc-framework-CoreSpotlight-7.1 pyobjc-framework-CoreText-7.1 pyobjc-framework-CoreWLAN-7.1 pyobjc-framework-CryptoTokenKit-7.1 pyobjc-framework-DVDPlayback-7.1 pyobjc-framework-DeviceCheck-7.1 pyobjc-framework-DictionaryServices-7.1 pyobjc-framework-DiscRecording-7.1 pyobjc-framework-DiscRecordingUI-7.1 pyobjc-framework-DiskArbitration-7.1 pyobjc-framework-EventKit-7.1 pyobjc-framework-ExceptionHandling-7.1 pyobjc-framework-ExecutionPolicy-7.1 pyobjc-framework-ExternalAccessory-7.1 pyobjc-framework-FSEvents-7.1 pyobjc-framework-FileProvider-7.1 pyobjc-framework-FileProviderUI-7.1 pyobjc-framework-FinderSync-7.1 pyobjc-framework-GameCenter-7.1 pyobjc-framework-GameController-7.1 pyobjc-framework-GameKit-7.1 pyobjc-framework-GameplayKit-7.1 pyobjc-framework-IMServicePlugIn-7.1 pyobjc-framework-IOSurface-7.1 pyobjc-framework-ImageCaptureCore-7.1 pyobjc-framework-InputMethodKit-7.1 pyobjc-framework-InstallerPlugins-7.1 pyobjc-framework-InstantMessage-7.1 pyobjc-framework-Intents-7.1 pyobjc-framework-KernelManagement-7.1 pyobjc-framework-LatentSemanticMapping-7.1 pyobjc-framework-LaunchServices-7.1 pyobjc-framework-LinkPresentation-7.1 pyobjc-framework-LocalAuthentication-7.1 pyobjc-framework-MLCompute-7.1 pyobjc-framework-MapKit-7.1 pyobjc-framework-MediaAccessibility-7.1 pyobjc-framework-MediaLibrary-7.1 pyobjc-framework-MediaPlayer-7.1 pyobjc-framework-MediaToolbox-7.1 pyobjc-framework-Metal-7.1 pyobjc-framework-MetalKit-7.1 pyobjc-framework-MetalPerformanceShaders-7.1 pyobjc-framework-MetalPerformanceShadersGraph-7.1 pyobjc-framework-ModelIO-7.1 pyobjc-framework-MultipeerConnectivity-7.1 pyobjc-framework-NaturalLanguage-7.1 pyobjc-framework-NetFS-7.1 pyobjc-framework-Network-7.1 pyobjc-framework-NetworkExtension-7.1 pyobjc-framework-NotificationCenter-7.1 pyobjc-framework-OSAKit-7.1 pyobjc-framework-OSLog-7.1 pyobjc-framework-OpenDirectory-7.1 pyobjc-framework-PassKit-7.1 pyobjc-framework-PencilKit-7.1 pyobjc-framework-Photos-7.1 pyobjc-framework-PhotosUI-7.1 pyobjc-framework-PreferencePanes-7.1 pyobjc-framework-PushKit-7.1 pyobjc-framework-Quartz-7.1 pyobjc-framework-QuickLookThumbnailing-7.1 pyobjc-framework-ReplayKit-7.1 pyobjc-framework-SafariServices-7.1 pyobjc-framework-SceneKit-7.1 pyobjc-framework-ScreenSaver-7.1 pyobjc-framework-ScreenTime-7.1 pyobjc-framework-ScriptingBridge-7.1 pyobjc-framework-SearchKit-7.1 pyobjc-framework-Security-7.1 pyobjc-framework-SecurityFoundation-7.1 pyobjc-framework-SecurityInterface-7.1 pyobjc-framework-ServiceManagement-7.1 pyobjc-framework-Social-7.1 pyobjc-framework-SoundAnalysis-7.1 pyobjc-framework-Speech-7.1 pyobjc-framework-SpriteKit-7.1 pyobjc-framework-StoreKit-7.1 pyobjc-framework-SyncServices-7.1 pyobjc-framework-SystemConfiguration-7.1 pyobjc-framework-SystemExtensions-7.1 pyobjc-framework-UniformTypeIdentifiers-7.1 pyobjc-framework-UserNotifications-7.1 pyobjc-framework-UserNotificationsUI-7.1 pyobjc-framework-VideoSubscriberAccount-7.1 pyobjc-framework-VideoToolbox-7.1 pyobjc-framework-Virtualization-7.1 pyobjc-framework-Vision-7.1 pyobjc-framework-WebKit-7.1 pyobjc-framework-iTunesLibrary-7.1 pyobjc-framework-libdispatch-7.1 pyttsx3-2.90\r\n"
     ]
    }
   ],
   "source": [
    "!pip install pyttsx3\n",
    "import pyttsx3"
   ]
  },
  {
   "cell_type": "code",
   "execution_count": 99,
   "metadata": {
    "id": "_GGy-UA4jITg"
   },
   "outputs": [
    {
     "name": "stdout",
     "output_type": "stream",
     "text": [
      "Requirement already satisfied: pyttsx3 in /Users/alvin/opt/anaconda3/lib/python3.8/site-packages (2.90)\n",
      "Requirement already satisfied: pyobjc>=2.4; platform_system == \"Darwin\" in /Users/alvin/opt/anaconda3/lib/python3.8/site-packages (from pyttsx3) (7.1)\n",
      "Requirement already satisfied: pyobjc-framework-DictionaryServices==7.1; platform_release >= \"9.0\" in /Users/alvin/opt/anaconda3/lib/python3.8/site-packages (from pyobjc>=2.4; platform_system == \"Darwin\"->pyttsx3) (7.1)\n",
      "Requirement already satisfied: pyobjc-framework-ApplicationServices==7.1 in /Users/alvin/opt/anaconda3/lib/python3.8/site-packages (from pyobjc>=2.4; platform_system == \"Darwin\"->pyttsx3) (7.1)\n",
      "Requirement already satisfied: pyobjc-framework-IOSurface==7.1; platform_release >= \"10.0\" in /Users/alvin/opt/anaconda3/lib/python3.8/site-packages (from pyobjc>=2.4; platform_system == \"Darwin\"->pyttsx3) (7.1)\n",
      "Requirement already satisfied: pyobjc-framework-Contacts==7.1; platform_release >= \"15.0\" in /Users/alvin/opt/anaconda3/lib/python3.8/site-packages (from pyobjc>=2.4; platform_system == \"Darwin\"->pyttsx3) (7.1)\n",
      "Requirement already satisfied: pyobjc-framework-DVDPlayback==7.1 in /Users/alvin/opt/anaconda3/lib/python3.8/site-packages (from pyobjc>=2.4; platform_system == \"Darwin\"->pyttsx3) (7.1)\n",
      "Requirement already satisfied: pyobjc-framework-ColorSync==7.1; platform_release >= \"17.0\" in /Users/alvin/opt/anaconda3/lib/python3.8/site-packages (from pyobjc>=2.4; platform_system == \"Darwin\"->pyttsx3) (7.1)\n",
      "Requirement already satisfied: pyobjc-framework-ExecutionPolicy==7.1; platform_release >= \"19.0\" in /Users/alvin/opt/anaconda3/lib/python3.8/site-packages (from pyobjc>=2.4; platform_system == \"Darwin\"->pyttsx3) (7.1)\n",
      "Requirement already satisfied: pyobjc-framework-InputMethodKit==7.1; platform_release >= \"9.0\" in /Users/alvin/opt/anaconda3/lib/python3.8/site-packages (from pyobjc>=2.4; platform_system == \"Darwin\"->pyttsx3) (7.1)\n",
      "Requirement already satisfied: pyobjc-framework-Cocoa==7.1 in /Users/alvin/opt/anaconda3/lib/python3.8/site-packages (from pyobjc>=2.4; platform_system == \"Darwin\"->pyttsx3) (7.1)\n",
      "Requirement already satisfied: pyobjc-framework-PassKit==7.1; platform_release >= \"20.0\" in /Users/alvin/opt/anaconda3/lib/python3.8/site-packages (from pyobjc>=2.4; platform_system == \"Darwin\"->pyttsx3) (7.1)\n",
      "Requirement already satisfied: pyobjc-framework-MediaToolbox==7.1; platform_release >= \"13.0\" in /Users/alvin/opt/anaconda3/lib/python3.8/site-packages (from pyobjc>=2.4; platform_system == \"Darwin\"->pyttsx3) (7.1)\n",
      "Requirement already satisfied: pyobjc-framework-ReplayKit==7.1; platform_release >= \"20.0\" in /Users/alvin/opt/anaconda3/lib/python3.8/site-packages (from pyobjc>=2.4; platform_system == \"Darwin\"->pyttsx3) (7.1)\n",
      "Requirement already satisfied: pyobjc-framework-AutomaticAssessmentConfiguration==7.1; platform_release >= \"19.0\" in /Users/alvin/opt/anaconda3/lib/python3.8/site-packages (from pyobjc>=2.4; platform_system == \"Darwin\"->pyttsx3) (7.1)\n",
      "Requirement already satisfied: pyobjc-framework-SecurityInterface==7.1 in /Users/alvin/opt/anaconda3/lib/python3.8/site-packages (from pyobjc>=2.4; platform_system == \"Darwin\"->pyttsx3) (7.1)\n",
      "Requirement already satisfied: pyobjc-framework-ExceptionHandling==7.1 in /Users/alvin/opt/anaconda3/lib/python3.8/site-packages (from pyobjc>=2.4; platform_system == \"Darwin\"->pyttsx3) (7.1)\n",
      "Requirement already satisfied: pyobjc-framework-Security==7.1 in /Users/alvin/opt/anaconda3/lib/python3.8/site-packages (from pyobjc>=2.4; platform_system == \"Darwin\"->pyttsx3) (7.1)\n",
      "Requirement already satisfied: pyobjc-framework-CFNetwork==7.1 in /Users/alvin/opt/anaconda3/lib/python3.8/site-packages (from pyobjc>=2.4; platform_system == \"Darwin\"->pyttsx3) (7.1)\n",
      "Requirement already satisfied: pyobjc-framework-SyncServices==7.1 in /Users/alvin/opt/anaconda3/lib/python3.8/site-packages (from pyobjc>=2.4; platform_system == \"Darwin\"->pyttsx3) (7.1)\n",
      "Requirement already satisfied: pyobjc-framework-QuickLookThumbnailing==7.1; platform_release >= \"19.0\" in /Users/alvin/opt/anaconda3/lib/python3.8/site-packages (from pyobjc>=2.4; platform_system == \"Darwin\"->pyttsx3) (7.1)\n",
      "Requirement already satisfied: pyobjc-framework-Collaboration==7.1; platform_release >= \"9.0\" in /Users/alvin/opt/anaconda3/lib/python3.8/site-packages (from pyobjc>=2.4; platform_system == \"Darwin\"->pyttsx3) (7.1)\n",
      "Requirement already satisfied: pyobjc-framework-MediaLibrary==7.1; platform_release >= \"13.0\" in /Users/alvin/opt/anaconda3/lib/python3.8/site-packages (from pyobjc>=2.4; platform_system == \"Darwin\"->pyttsx3) (7.1)\n",
      "Requirement already satisfied: pyobjc-framework-SystemConfiguration==7.1 in /Users/alvin/opt/anaconda3/lib/python3.8/site-packages (from pyobjc>=2.4; platform_system == \"Darwin\"->pyttsx3) (7.1)\n",
      "Requirement already satisfied: pyobjc-framework-NetFS==7.1; platform_release >= \"10.0\" in /Users/alvin/opt/anaconda3/lib/python3.8/site-packages (from pyobjc>=2.4; platform_system == \"Darwin\"->pyttsx3) (7.1)\n",
      "Requirement already satisfied: pyobjc-framework-CoreMIDI==7.1 in /Users/alvin/opt/anaconda3/lib/python3.8/site-packages (from pyobjc>=2.4; platform_system == \"Darwin\"->pyttsx3) (7.1)\n",
      "Requirement already satisfied: pyobjc-framework-WebKit==7.1 in /Users/alvin/opt/anaconda3/lib/python3.8/site-packages (from pyobjc>=2.4; platform_system == \"Darwin\"->pyttsx3) (7.1)\n",
      "Requirement already satisfied: pyobjc-framework-AVFoundation==7.1; platform_release >= \"11.0\" in /Users/alvin/opt/anaconda3/lib/python3.8/site-packages (from pyobjc>=2.4; platform_system == \"Darwin\"->pyttsx3) (7.1)\n",
      "Requirement already satisfied: pyobjc-framework-SystemExtensions==7.1; platform_release >= \"19.0\" in /Users/alvin/opt/anaconda3/lib/python3.8/site-packages (from pyobjc>=2.4; platform_system == \"Darwin\"->pyttsx3) (7.1)\n",
      "Requirement already satisfied: pyobjc-framework-OpenDirectory==7.1; platform_release >= \"10.0\" in /Users/alvin/opt/anaconda3/lib/python3.8/site-packages (from pyobjc>=2.4; platform_system == \"Darwin\"->pyttsx3) (7.1)\n",
      "Requirement already satisfied: pyobjc-framework-DeviceCheck==7.1; platform_release >= \"19.0\" in /Users/alvin/opt/anaconda3/lib/python3.8/site-packages (from pyobjc>=2.4; platform_system == \"Darwin\"->pyttsx3) (7.1)\n",
      "Requirement already satisfied: pyobjc-framework-MetalKit==7.1; platform_release >= \"15.0\" in /Users/alvin/opt/anaconda3/lib/python3.8/site-packages (from pyobjc>=2.4; platform_system == \"Darwin\"->pyttsx3) (7.1)\n",
      "Requirement already satisfied: pyobjc-framework-Vision==7.1; platform_release >= \"17.0\" in /Users/alvin/opt/anaconda3/lib/python3.8/site-packages (from pyobjc>=2.4; platform_system == \"Darwin\"->pyttsx3) (7.1)\n",
      "Requirement already satisfied: pyobjc-framework-CoreMediaIO==7.1; platform_release >= \"11.0\" in /Users/alvin/opt/anaconda3/lib/python3.8/site-packages (from pyobjc>=2.4; platform_system == \"Darwin\"->pyttsx3) (7.1)\n",
      "Requirement already satisfied: pyobjc-framework-CoreML==7.1; platform_release >= \"17.0\" in /Users/alvin/opt/anaconda3/lib/python3.8/site-packages (from pyobjc>=2.4; platform_system == \"Darwin\"->pyttsx3) (7.1)\n",
      "Requirement already satisfied: pyobjc-framework-UniformTypeIdentifiers==7.1; platform_release >= \"20.0\" in /Users/alvin/opt/anaconda3/lib/python3.8/site-packages (from pyobjc>=2.4; platform_system == \"Darwin\"->pyttsx3) (7.1)\n",
      "Requirement already satisfied: pyobjc-framework-CallKit==7.1; platform_release >= \"20.0\" in /Users/alvin/opt/anaconda3/lib/python3.8/site-packages (from pyobjc>=2.4; platform_system == \"Darwin\"->pyttsx3) (7.1)\n",
      "Requirement already satisfied: pyobjc-framework-MetalPerformanceShaders==7.1; platform_release >= \"17.0\" in /Users/alvin/opt/anaconda3/lib/python3.8/site-packages (from pyobjc>=2.4; platform_system == \"Darwin\"->pyttsx3) (7.1)\n",
      "Requirement already satisfied: pyobjc-framework-CoreAudioKit==7.1 in /Users/alvin/opt/anaconda3/lib/python3.8/site-packages (from pyobjc>=2.4; platform_system == \"Darwin\"->pyttsx3) (7.1)\n",
      "Requirement already satisfied: pyobjc-framework-IMServicePlugIn==7.1; platform_release >= \"11.0\" in /Users/alvin/opt/anaconda3/lib/python3.8/site-packages (from pyobjc>=2.4; platform_system == \"Darwin\"->pyttsx3) (7.1)\n",
      "Requirement already satisfied: pyobjc-framework-AddressBook==7.1 in /Users/alvin/opt/anaconda3/lib/python3.8/site-packages (from pyobjc>=2.4; platform_system == \"Darwin\"->pyttsx3) (7.1)\n",
      "Requirement already satisfied: pyobjc-framework-ClassKit==7.1; platform_release >= \"20.0\" in /Users/alvin/opt/anaconda3/lib/python3.8/site-packages (from pyobjc>=2.4; platform_system == \"Darwin\"->pyttsx3) (7.1)\n",
      "Requirement already satisfied: pyobjc-framework-ServiceManagement==7.1; platform_release >= \"10.0\" in /Users/alvin/opt/anaconda3/lib/python3.8/site-packages (from pyobjc>=2.4; platform_system == \"Darwin\"->pyttsx3) (7.1)\n",
      "Requirement already satisfied: pyobjc-framework-AdSupport==7.1; platform_release >= \"18.0\" in /Users/alvin/opt/anaconda3/lib/python3.8/site-packages (from pyobjc>=2.4; platform_system == \"Darwin\"->pyttsx3) (7.1)\n",
      "Requirement already satisfied: pyobjc-framework-MediaPlayer==7.1; platform_release >= \"16.0\" in /Users/alvin/opt/anaconda3/lib/python3.8/site-packages (from pyobjc>=2.4; platform_system == \"Darwin\"->pyttsx3) (7.1)\n",
      "Requirement already satisfied: pyobjc-framework-AppleScriptObjC==7.1; platform_release >= \"10.0\" in /Users/alvin/opt/anaconda3/lib/python3.8/site-packages (from pyobjc>=2.4; platform_system == \"Darwin\"->pyttsx3) (7.1)\n",
      "Requirement already satisfied: pyobjc-framework-ModelIO==7.1; platform_release >= \"15.0\" in /Users/alvin/opt/anaconda3/lib/python3.8/site-packages (from pyobjc>=2.4; platform_system == \"Darwin\"->pyttsx3) (7.1)\n",
      "Requirement already satisfied: pyobjc-framework-NotificationCenter==7.1; platform_release >= \"14.0\" in /Users/alvin/opt/anaconda3/lib/python3.8/site-packages (from pyobjc>=2.4; platform_system == \"Darwin\"->pyttsx3) (7.1)\n",
      "Requirement already satisfied: pyobjc-framework-NetworkExtension==7.1; platform_release >= \"15.0\" in /Users/alvin/opt/anaconda3/lib/python3.8/site-packages (from pyobjc>=2.4; platform_system == \"Darwin\"->pyttsx3) (7.1)\n",
      "Requirement already satisfied: pyobjc-framework-InstantMessage==7.1; platform_release >= \"9.0\" in /Users/alvin/opt/anaconda3/lib/python3.8/site-packages (from pyobjc>=2.4; platform_system == \"Darwin\"->pyttsx3) (7.1)\n",
      "Requirement already satisfied: pyobjc-framework-CloudKit==7.1; platform_release >= \"14.0\" in /Users/alvin/opt/anaconda3/lib/python3.8/site-packages (from pyobjc>=2.4; platform_system == \"Darwin\"->pyttsx3) (7.1)\n",
      "Requirement already satisfied: pyobjc-framework-MapKit==7.1; platform_release >= \"13.0\" in /Users/alvin/opt/anaconda3/lib/python3.8/site-packages (from pyobjc>=2.4; platform_system == \"Darwin\"->pyttsx3) (7.1)\n",
      "Requirement already satisfied: pyobjc-framework-ScriptingBridge==7.1; platform_release >= \"9.0\" in /Users/alvin/opt/anaconda3/lib/python3.8/site-packages (from pyobjc>=2.4; platform_system == \"Darwin\"->pyttsx3) (7.1)\n"
     ]
    },
    {
     "name": "stdout",
     "output_type": "stream",
     "text": [
      "Requirement already satisfied: pyobjc-framework-PencilKit==7.1; platform_release >= \"19.0\" in /Users/alvin/opt/anaconda3/lib/python3.8/site-packages (from pyobjc>=2.4; platform_system == \"Darwin\"->pyttsx3) (7.1)\n",
      "Requirement already satisfied: pyobjc-framework-iTunesLibrary==7.1; platform_release >= \"10.0\" in /Users/alvin/opt/anaconda3/lib/python3.8/site-packages (from pyobjc>=2.4; platform_system == \"Darwin\"->pyttsx3) (7.1)\n",
      "Requirement already satisfied: pyobjc-framework-CoreBluetooth==7.1; platform_release >= \"14.0\" in /Users/alvin/opt/anaconda3/lib/python3.8/site-packages (from pyobjc>=2.4; platform_system == \"Darwin\"->pyttsx3) (7.1)\n",
      "Requirement already satisfied: pyobjc-framework-UserNotificationsUI==7.1; platform_release >= \"20.0\" in /Users/alvin/opt/anaconda3/lib/python3.8/site-packages (from pyobjc>=2.4; platform_system == \"Darwin\"->pyttsx3) (7.1)\n",
      "Requirement already satisfied: pyobjc-framework-AppTrackingTransparency==7.1; platform_release >= \"20.0\" in /Users/alvin/opt/anaconda3/lib/python3.8/site-packages (from pyobjc>=2.4; platform_system == \"Darwin\"->pyttsx3) (7.1)\n",
      "Requirement already satisfied: pyobjc-framework-Accounts==7.1; platform_release >= \"12.0\" in /Users/alvin/opt/anaconda3/lib/python3.8/site-packages (from pyobjc>=2.4; platform_system == \"Darwin\"->pyttsx3) (7.1)\n",
      "Requirement already satisfied: pyobjc-framework-Quartz==7.1 in /Users/alvin/opt/anaconda3/lib/python3.8/site-packages (from pyobjc>=2.4; platform_system == \"Darwin\"->pyttsx3) (7.1)\n",
      "Requirement already satisfied: pyobjc-framework-Intents==7.1; platform_release >= \"16.0\" in /Users/alvin/opt/anaconda3/lib/python3.8/site-packages (from pyobjc>=2.4; platform_system == \"Darwin\"->pyttsx3) (7.1)\n",
      "Requirement already satisfied: pyobjc-framework-CoreData==7.1 in /Users/alvin/opt/anaconda3/lib/python3.8/site-packages (from pyobjc>=2.4; platform_system == \"Darwin\"->pyttsx3) (7.1)\n",
      "Requirement already satisfied: pyobjc-framework-UserNotifications==7.1; platform_release >= \"18.0\" in /Users/alvin/opt/anaconda3/lib/python3.8/site-packages (from pyobjc>=2.4; platform_system == \"Darwin\"->pyttsx3) (7.1)\n",
      "Requirement already satisfied: pyobjc-framework-VideoToolbox==7.1; platform_release >= \"12.0\" in /Users/alvin/opt/anaconda3/lib/python3.8/site-packages (from pyobjc>=2.4; platform_system == \"Darwin\"->pyttsx3) (7.1)\n",
      "Requirement already satisfied: pyobjc-framework-EventKit==7.1; platform_release >= \"12.0\" in /Users/alvin/opt/anaconda3/lib/python3.8/site-packages (from pyobjc>=2.4; platform_system == \"Darwin\"->pyttsx3) (7.1)\n",
      "Requirement already satisfied: pyobjc-framework-GameController==7.1; platform_release >= \"13.0\" in /Users/alvin/opt/anaconda3/lib/python3.8/site-packages (from pyobjc>=2.4; platform_system == \"Darwin\"->pyttsx3) (7.1)\n",
      "Requirement already satisfied: pyobjc-framework-FSEvents==7.1; platform_release >= \"9.0\" in /Users/alvin/opt/anaconda3/lib/python3.8/site-packages (from pyobjc>=2.4; platform_system == \"Darwin\"->pyttsx3) (7.1)\n",
      "Requirement already satisfied: pyobjc-framework-ExternalAccessory==7.1; platform_release >= \"17.0\" in /Users/alvin/opt/anaconda3/lib/python3.8/site-packages (from pyobjc>=2.4; platform_system == \"Darwin\"->pyttsx3) (7.1)\n",
      "Requirement already satisfied: pyobjc-framework-StoreKit==7.1; platform_release >= \"11.0\" in /Users/alvin/opt/anaconda3/lib/python3.8/site-packages (from pyobjc>=2.4; platform_system == \"Darwin\"->pyttsx3) (7.1)\n",
      "Requirement already satisfied: pyobjc-framework-GameKit==7.1; platform_release >= \"12.0\" in /Users/alvin/opt/anaconda3/lib/python3.8/site-packages (from pyobjc>=2.4; platform_system == \"Darwin\"->pyttsx3) (7.1)\n",
      "Requirement already satisfied: pyobjc-framework-MultipeerConnectivity==7.1; platform_release >= \"14.0\" in /Users/alvin/opt/anaconda3/lib/python3.8/site-packages (from pyobjc>=2.4; platform_system == \"Darwin\"->pyttsx3) (7.1)\n",
      "Requirement already satisfied: pyobjc-framework-CoreText==7.1 in /Users/alvin/opt/anaconda3/lib/python3.8/site-packages (from pyobjc>=2.4; platform_system == \"Darwin\"->pyttsx3) (7.1)\n",
      "Requirement already satisfied: pyobjc-framework-libdispatch==7.1; platform_release >= \"12.0\" in /Users/alvin/opt/anaconda3/lib/python3.8/site-packages (from pyobjc>=2.4; platform_system == \"Darwin\"->pyttsx3) (7.1)\n",
      "Requirement already satisfied: pyobjc-framework-PreferencePanes==7.1 in /Users/alvin/opt/anaconda3/lib/python3.8/site-packages (from pyobjc>=2.4; platform_system == \"Darwin\"->pyttsx3) (7.1)\n",
      "Requirement already satisfied: pyobjc-framework-CoreServices==7.1 in /Users/alvin/opt/anaconda3/lib/python3.8/site-packages (from pyobjc>=2.4; platform_system == \"Darwin\"->pyttsx3) (7.1)\n",
      "Requirement already satisfied: pyobjc-framework-SearchKit==7.1 in /Users/alvin/opt/anaconda3/lib/python3.8/site-packages (from pyobjc>=2.4; platform_system == \"Darwin\"->pyttsx3) (7.1)\n",
      "Requirement already satisfied: pyobjc-framework-OSLog==7.1; platform_release >= \"19.0\" in /Users/alvin/opt/anaconda3/lib/python3.8/site-packages (from pyobjc>=2.4; platform_system == \"Darwin\"->pyttsx3) (7.1)\n",
      "Requirement already satisfied: pyobjc-framework-Social==7.1; platform_release >= \"12.0\" in /Users/alvin/opt/anaconda3/lib/python3.8/site-packages (from pyobjc>=2.4; platform_system == \"Darwin\"->pyttsx3) (7.1)\n",
      "Requirement already satisfied: pyobjc-framework-MediaAccessibility==7.1; platform_release >= \"13.0\" in /Users/alvin/opt/anaconda3/lib/python3.8/site-packages (from pyobjc>=2.4; platform_system == \"Darwin\"->pyttsx3) (7.1)\n",
      "Requirement already satisfied: pyobjc-framework-FinderSync==7.1; platform_release >= \"14.0\" in /Users/alvin/opt/anaconda3/lib/python3.8/site-packages (from pyobjc>=2.4; platform_system == \"Darwin\"->pyttsx3) (7.1)\n",
      "Requirement already satisfied: pyobjc-core==7.1 in /Users/alvin/opt/anaconda3/lib/python3.8/site-packages (from pyobjc>=2.4; platform_system == \"Darwin\"->pyttsx3) (7.1)\n",
      "Requirement already satisfied: pyobjc-framework-VideoSubscriberAccount==7.1; platform_release >= \"18.0\" in /Users/alvin/opt/anaconda3/lib/python3.8/site-packages (from pyobjc>=2.4; platform_system == \"Darwin\"->pyttsx3) (7.1)\n",
      "Requirement already satisfied: pyobjc-framework-CoreLocation==7.1; platform_release >= \"10.0\" in /Users/alvin/opt/anaconda3/lib/python3.8/site-packages (from pyobjc>=2.4; platform_system == \"Darwin\"->pyttsx3) (7.1)\n",
      "Requirement already satisfied: pyobjc-framework-FileProvider==7.1; platform_release >= \"19.0\" in /Users/alvin/opt/anaconda3/lib/python3.8/site-packages (from pyobjc>=2.4; platform_system == \"Darwin\"->pyttsx3) (7.1)\n",
      "Requirement already satisfied: pyobjc-framework-AVKit==7.1; platform_release >= \"13.0\" in /Users/alvin/opt/anaconda3/lib/python3.8/site-packages (from pyobjc>=2.4; platform_system == \"Darwin\"->pyttsx3) (7.1)\n",
      "Requirement already satisfied: pyobjc-framework-ContactsUI==7.1; platform_release >= \"15.0\" in /Users/alvin/opt/anaconda3/lib/python3.8/site-packages (from pyobjc>=2.4; platform_system == \"Darwin\"->pyttsx3) (7.1)\n",
      "Requirement already satisfied: pyobjc-framework-AuthenticationServices==7.1; platform_release >= \"19.0\" in /Users/alvin/opt/anaconda3/lib/python3.8/site-packages (from pyobjc>=2.4; platform_system == \"Darwin\"->pyttsx3) (7.1)\n",
      "Requirement already satisfied: pyobjc-framework-PhotosUI==7.1; platform_release >= \"15.0\" in /Users/alvin/opt/anaconda3/lib/python3.8/site-packages (from pyobjc>=2.4; platform_system == \"Darwin\"->pyttsx3) (7.1)\n",
      "Requirement already satisfied: pyobjc-framework-MetalPerformanceShadersGraph==7.1; platform_release >= \"20.0\" in /Users/alvin/opt/anaconda3/lib/python3.8/site-packages (from pyobjc>=2.4; platform_system == \"Darwin\"->pyttsx3) (7.1)\n",
      "Requirement already satisfied: pyobjc-framework-CoreHaptics==7.1; platform_release >= \"19.0\" in /Users/alvin/opt/anaconda3/lib/python3.8/site-packages (from pyobjc>=2.4; platform_system == \"Darwin\"->pyttsx3) (7.1)\n",
      "Requirement already satisfied: pyobjc-framework-Accessibility==7.1; platform_release >= \"20.0\" in /Users/alvin/opt/anaconda3/lib/python3.8/site-packages (from pyobjc>=2.4; platform_system == \"Darwin\"->pyttsx3) (7.1)\n",
      "Requirement already satisfied: pyobjc-framework-AppleScriptKit==7.1 in /Users/alvin/opt/anaconda3/lib/python3.8/site-packages (from pyobjc>=2.4; platform_system == \"Darwin\"->pyttsx3) (7.1)\n",
      "Requirement already satisfied: pyobjc-framework-LaunchServices==7.1 in /Users/alvin/opt/anaconda3/lib/python3.8/site-packages (from pyobjc>=2.4; platform_system == \"Darwin\"->pyttsx3) (7.1)\n",
      "Requirement already satisfied: pyobjc-framework-CoreWLAN==7.1; platform_release >= \"10.0\" in /Users/alvin/opt/anaconda3/lib/python3.8/site-packages (from pyobjc>=2.4; platform_system == \"Darwin\"->pyttsx3) (7.1)\n",
      "Requirement already satisfied: pyobjc-framework-SafariServices==7.1; platform_release >= \"15.0\" in /Users/alvin/opt/anaconda3/lib/python3.8/site-packages (from pyobjc>=2.4; platform_system == \"Darwin\"->pyttsx3) (7.1)\n",
      "Requirement already satisfied: pyobjc-framework-Metal==7.1; platform_release >= \"15.0\" in /Users/alvin/opt/anaconda3/lib/python3.8/site-packages (from pyobjc>=2.4; platform_system == \"Darwin\"->pyttsx3) (7.1)\n",
      "Requirement already satisfied: pyobjc-framework-Speech==7.1; platform_release >= \"19.0\" in /Users/alvin/opt/anaconda3/lib/python3.8/site-packages (from pyobjc>=2.4; platform_system == \"Darwin\"->pyttsx3) (7.1)\n",
      "Requirement already satisfied: pyobjc-framework-LocalAuthentication==7.1; platform_release >= \"14.0\" in /Users/alvin/opt/anaconda3/lib/python3.8/site-packages (from pyobjc>=2.4; platform_system == \"Darwin\"->pyttsx3) (7.1)\n",
      "Requirement already satisfied: pyobjc-framework-NaturalLanguage==7.1; platform_release >= \"18.0\" in /Users/alvin/opt/anaconda3/lib/python3.8/site-packages (from pyobjc>=2.4; platform_system == \"Darwin\"->pyttsx3) (7.1)\n",
      "Requirement already satisfied: pyobjc-framework-GameplayKit==7.1; platform_release >= \"15.0\" in /Users/alvin/opt/anaconda3/lib/python3.8/site-packages (from pyobjc>=2.4; platform_system == \"Darwin\"->pyttsx3) (7.1)\n",
      "Requirement already satisfied: pyobjc-framework-GameCenter==7.1; platform_release >= \"12.0\" in /Users/alvin/opt/anaconda3/lib/python3.8/site-packages (from pyobjc>=2.4; platform_system == \"Darwin\"->pyttsx3) (7.1)\n",
      "Requirement already satisfied: pyobjc-framework-MLCompute==7.1; platform_release >= \"20.0\" in /Users/alvin/opt/anaconda3/lib/python3.8/site-packages (from pyobjc>=2.4; platform_system == \"Darwin\"->pyttsx3) (7.1)\n",
      "Requirement already satisfied: pyobjc-framework-DiscRecordingUI==7.1 in /Users/alvin/opt/anaconda3/lib/python3.8/site-packages (from pyobjc>=2.4; platform_system == \"Darwin\"->pyttsx3) (7.1)\n",
      "Requirement already satisfied: pyobjc-framework-LatentSemanticMapping==7.1 in /Users/alvin/opt/anaconda3/lib/python3.8/site-packages (from pyobjc>=2.4; platform_system == \"Darwin\"->pyttsx3) (7.1)\n",
      "Requirement already satisfied: pyobjc-framework-FileProviderUI==7.1; platform_release >= \"19.0\" in /Users/alvin/opt/anaconda3/lib/python3.8/site-packages (from pyobjc>=2.4; platform_system == \"Darwin\"->pyttsx3) (7.1)\n",
      "Requirement already satisfied: pyobjc-framework-DiskArbitration==7.1 in /Users/alvin/opt/anaconda3/lib/python3.8/site-packages (from pyobjc>=2.4; platform_system == \"Darwin\"->pyttsx3) (7.1)\n",
      "Requirement already satisfied: pyobjc-framework-Automator==7.1 in /Users/alvin/opt/anaconda3/lib/python3.8/site-packages (from pyobjc>=2.4; platform_system == \"Darwin\"->pyttsx3) (7.1)\n"
     ]
    },
    {
     "name": "stdout",
     "output_type": "stream",
     "text": [
      "Requirement already satisfied: pyobjc-framework-InstallerPlugins==7.1 in /Users/alvin/opt/anaconda3/lib/python3.8/site-packages (from pyobjc>=2.4; platform_system == \"Darwin\"->pyttsx3) (7.1)\n",
      "Requirement already satisfied: pyobjc-framework-CoreMotion==7.1; platform_release >= \"19.0\" in /Users/alvin/opt/anaconda3/lib/python3.8/site-packages (from pyobjc>=2.4; platform_system == \"Darwin\"->pyttsx3) (7.1)\n",
      "Requirement already satisfied: pyobjc-framework-ImageCaptureCore==7.1; platform_release >= \"10.0\" in /Users/alvin/opt/anaconda3/lib/python3.8/site-packages (from pyobjc>=2.4; platform_system == \"Darwin\"->pyttsx3) (7.1)\n",
      "Requirement already satisfied: pyobjc-framework-KernelManagement==7.1; platform_release >= \"20.0\" in /Users/alvin/opt/anaconda3/lib/python3.8/site-packages (from pyobjc>=2.4; platform_system == \"Darwin\"->pyttsx3) (7.1)\n",
      "Requirement already satisfied: pyobjc-framework-SecurityFoundation==7.1 in /Users/alvin/opt/anaconda3/lib/python3.8/site-packages (from pyobjc>=2.4; platform_system == \"Darwin\"->pyttsx3) (7.1)\n",
      "Requirement already satisfied: pyobjc-framework-Photos==7.1; platform_release >= \"15.0\" in /Users/alvin/opt/anaconda3/lib/python3.8/site-packages (from pyobjc>=2.4; platform_system == \"Darwin\"->pyttsx3) (7.1)\n",
      "Requirement already satisfied: pyobjc-framework-SpriteKit==7.1; platform_release >= \"13.0\" in /Users/alvin/opt/anaconda3/lib/python3.8/site-packages (from pyobjc>=2.4; platform_system == \"Darwin\"->pyttsx3) (7.1)\n",
      "Requirement already satisfied: pyobjc-framework-CoreMedia==7.1; platform_release >= \"11.0\" in /Users/alvin/opt/anaconda3/lib/python3.8/site-packages (from pyobjc>=2.4; platform_system == \"Darwin\"->pyttsx3) (7.1)\n",
      "Requirement already satisfied: pyobjc-framework-SceneKit==7.1; platform_release >= \"11.0\" in /Users/alvin/opt/anaconda3/lib/python3.8/site-packages (from pyobjc>=2.4; platform_system == \"Darwin\"->pyttsx3) (7.1)\n",
      "Requirement already satisfied: pyobjc-framework-CoreSpotlight==7.1; platform_release >= \"17.0\" in /Users/alvin/opt/anaconda3/lib/python3.8/site-packages (from pyobjc>=2.4; platform_system == \"Darwin\"->pyttsx3) (7.1)\n",
      "Requirement already satisfied: pyobjc-framework-SoundAnalysis==7.1; platform_release >= \"19.0\" in /Users/alvin/opt/anaconda3/lib/python3.8/site-packages (from pyobjc>=2.4; platform_system == \"Darwin\"->pyttsx3) (7.1)\n",
      "Requirement already satisfied: pyobjc-framework-Virtualization==7.1; platform_release >= \"20.0\" in /Users/alvin/opt/anaconda3/lib/python3.8/site-packages (from pyobjc>=2.4; platform_system == \"Darwin\"->pyttsx3) (7.1)\n",
      "Requirement already satisfied: pyobjc-framework-ScreenTime==7.1; platform_release >= \"20.0\" in /Users/alvin/opt/anaconda3/lib/python3.8/site-packages (from pyobjc>=2.4; platform_system == \"Darwin\"->pyttsx3) (7.1)\n",
      "Requirement already satisfied: pyobjc-framework-LinkPresentation==7.1; platform_release >= \"19.0\" in /Users/alvin/opt/anaconda3/lib/python3.8/site-packages (from pyobjc>=2.4; platform_system == \"Darwin\"->pyttsx3) (7.1)\n",
      "Requirement already satisfied: pyobjc-framework-CryptoTokenKit==7.1; platform_release >= \"14.0\" in /Users/alvin/opt/anaconda3/lib/python3.8/site-packages (from pyobjc>=2.4; platform_system == \"Darwin\"->pyttsx3) (7.1)\n",
      "Requirement already satisfied: pyobjc-framework-OSAKit==7.1 in /Users/alvin/opt/anaconda3/lib/python3.8/site-packages (from pyobjc>=2.4; platform_system == \"Darwin\"->pyttsx3) (7.1)\n",
      "Requirement already satisfied: pyobjc-framework-PushKit==7.1; platform_release >= \"19.0\" in /Users/alvin/opt/anaconda3/lib/python3.8/site-packages (from pyobjc>=2.4; platform_system == \"Darwin\"->pyttsx3) (7.1)\n",
      "Requirement already satisfied: pyobjc-framework-CalendarStore==7.1; platform_release >= \"9.0\" in /Users/alvin/opt/anaconda3/lib/python3.8/site-packages (from pyobjc>=2.4; platform_system == \"Darwin\"->pyttsx3) (7.1)\n",
      "Requirement already satisfied: pyobjc-framework-BusinessChat==7.1; platform_release >= \"18.0\" in /Users/alvin/opt/anaconda3/lib/python3.8/site-packages (from pyobjc>=2.4; platform_system == \"Darwin\"->pyttsx3) (7.1)\n",
      "Requirement already satisfied: pyobjc-framework-ScreenSaver==7.1 in /Users/alvin/opt/anaconda3/lib/python3.8/site-packages (from pyobjc>=2.4; platform_system == \"Darwin\"->pyttsx3) (7.1)\n",
      "Requirement already satisfied: pyobjc-framework-AdServices==7.1; platform_release >= \"20.0\" in /Users/alvin/opt/anaconda3/lib/python3.8/site-packages (from pyobjc>=2.4; platform_system == \"Darwin\"->pyttsx3) (7.1)\n",
      "Requirement already satisfied: pyobjc-framework-Network==7.1; platform_release >= \"18.0\" in /Users/alvin/opt/anaconda3/lib/python3.8/site-packages (from pyobjc>=2.4; platform_system == \"Darwin\"->pyttsx3) (7.1)\n",
      "Requirement already satisfied: pyobjc-framework-DiscRecording==7.1 in /Users/alvin/opt/anaconda3/lib/python3.8/site-packages (from pyobjc>=2.4; platform_system == \"Darwin\"->pyttsx3) (7.1)\n",
      "Requirement already satisfied: pyobjc-framework-CoreAudio==7.1 in /Users/alvin/opt/anaconda3/lib/python3.8/site-packages (from pyobjc>=2.4; platform_system == \"Darwin\"->pyttsx3) (7.1)\n"
     ]
    }
   ],
   "source": [
    "!pip3 install pyttsx3"
   ]
  },
  {
   "cell_type": "code",
   "execution_count": 100,
   "metadata": {
    "id": "THZRdqWEjIV8"
   },
   "outputs": [],
   "source": [
    "import pyttsx3"
   ]
  },
  {
   "cell_type": "code",
   "execution_count": 105,
   "metadata": {
    "id": "OkrCem-FjIYI"
   },
   "outputs": [],
   "source": [
    "a = pyttsx3.init()\n",
    "a.say(\"안녕하세요 데이터 강의를 수강중입니다. 이 강의는\")\n",
    "a.runAndWait()"
   ]
  },
  {
   "cell_type": "code",
   "execution_count": null,
   "metadata": {
    "id": "kXt28yjKjIbF"
   },
   "outputs": [],
   "source": []
  },
  {
   "cell_type": "code",
   "execution_count": null,
   "metadata": {
    "id": "KaXtSC9IjIdX"
   },
   "outputs": [],
   "source": []
  },
  {
   "cell_type": "code",
   "execution_count": null,
   "metadata": {
    "id": "zebCr-gtjIe5"
   },
   "outputs": [],
   "source": []
  },
  {
   "cell_type": "code",
   "execution_count": null,
   "metadata": {
    "id": "zyL3Ua3VjIhG"
   },
   "outputs": [],
   "source": []
  },
  {
   "cell_type": "code",
   "execution_count": null,
   "metadata": {
    "id": "pxUWW0bFjIjV"
   },
   "outputs": [],
   "source": []
  },
  {
   "cell_type": "code",
   "execution_count": null,
   "metadata": {
    "id": "fo6Y4XMtjIlv"
   },
   "outputs": [],
   "source": []
  },
  {
   "cell_type": "code",
   "execution_count": null,
   "metadata": {
    "id": "cKyNjXlfjIn9"
   },
   "outputs": [],
   "source": []
  },
  {
   "cell_type": "code",
   "execution_count": null,
   "metadata": {
    "id": "_ltsOUwajIp3"
   },
   "outputs": [],
   "source": []
  },
  {
   "cell_type": "code",
   "execution_count": null,
   "metadata": {
    "id": "R4nPEi09jIsG"
   },
   "outputs": [],
   "source": []
  },
  {
   "cell_type": "code",
   "execution_count": null,
   "metadata": {
    "id": "_lLjp5KxjIuz"
   },
   "outputs": [],
   "source": []
  },
  {
   "cell_type": "code",
   "execution_count": null,
   "metadata": {
    "id": "erSBok64jIwk"
   },
   "outputs": [],
   "source": []
  },
  {
   "cell_type": "code",
   "execution_count": null,
   "metadata": {
    "id": "Kyz4w6Y3jIyw"
   },
   "outputs": [],
   "source": []
  },
  {
   "cell_type": "code",
   "execution_count": null,
   "metadata": {
    "id": "9ul6mUEojI0w"
   },
   "outputs": [],
   "source": []
  },
  {
   "cell_type": "code",
   "execution_count": null,
   "metadata": {
    "id": "hBSRQSDPguhy"
   },
   "outputs": [],
   "source": []
  },
  {
   "cell_type": "code",
   "execution_count": null,
   "metadata": {
    "id": "DMxutzeIgufe"
   },
   "outputs": [],
   "source": []
  },
  {
   "cell_type": "code",
   "execution_count": null,
   "metadata": {
    "id": "rCMsHoePgubT"
   },
   "outputs": [],
   "source": []
  },
  {
   "cell_type": "code",
   "execution_count": null,
   "metadata": {
    "id": "H_y1ngqXguZD"
   },
   "outputs": [],
   "source": []
  },
  {
   "cell_type": "code",
   "execution_count": null,
   "metadata": {
    "id": "5ZjwLdd-guXN"
   },
   "outputs": [],
   "source": []
  },
  {
   "cell_type": "code",
   "execution_count": null,
   "metadata": {
    "id": "ne0Pj3GFguVC"
   },
   "outputs": [],
   "source": []
  },
  {
   "cell_type": "code",
   "execution_count": null,
   "metadata": {
    "id": "gIdUP5dKguTL"
   },
   "outputs": [],
   "source": []
  },
  {
   "cell_type": "code",
   "execution_count": null,
   "metadata": {
    "id": "hpbCj5-BguRp"
   },
   "outputs": [],
   "source": []
  },
  {
   "cell_type": "code",
   "execution_count": null,
   "metadata": {
    "id": "1136ymRSguPm"
   },
   "outputs": [],
   "source": []
  },
  {
   "cell_type": "code",
   "execution_count": null,
   "metadata": {
    "id": "R3D7ZV0HguNs"
   },
   "outputs": [],
   "source": []
  },
  {
   "cell_type": "code",
   "execution_count": null,
   "metadata": {
    "id": "Li5iJ5TEguLz"
   },
   "outputs": [],
   "source": []
  },
  {
   "cell_type": "code",
   "execution_count": null,
   "metadata": {
    "id": "OYoHpsUUguJg"
   },
   "outputs": [],
   "source": []
  },
  {
   "cell_type": "code",
   "execution_count": null,
   "metadata": {
    "id": "jLLS0XX4guHr"
   },
   "outputs": [],
   "source": []
  },
  {
   "cell_type": "code",
   "execution_count": null,
   "metadata": {
    "id": "HCIgDp0JguFJ"
   },
   "outputs": [],
   "source": []
  },
  {
   "cell_type": "code",
   "execution_count": null,
   "metadata": {
    "id": "lUH-WJKeguDM"
   },
   "outputs": [],
   "source": []
  },
  {
   "cell_type": "code",
   "execution_count": null,
   "metadata": {
    "id": "D1XV7lLTguA6"
   },
   "outputs": [],
   "source": []
  },
  {
   "cell_type": "code",
   "execution_count": null,
   "metadata": {
    "id": "9L9w_J-5gt-6"
   },
   "outputs": [],
   "source": []
  },
  {
   "cell_type": "code",
   "execution_count": null,
   "metadata": {
    "id": "5_coozCtgt85"
   },
   "outputs": [],
   "source": []
  },
  {
   "cell_type": "code",
   "execution_count": null,
   "metadata": {
    "id": "yMr6wC4Igt6_"
   },
   "outputs": [],
   "source": []
  },
  {
   "cell_type": "code",
   "execution_count": null,
   "metadata": {
    "id": "d29u412ogt5U"
   },
   "outputs": [],
   "source": []
  },
  {
   "cell_type": "code",
   "execution_count": null,
   "metadata": {
    "id": "BcxqaK5Agt3T"
   },
   "outputs": [],
   "source": []
  },
  {
   "cell_type": "code",
   "execution_count": null,
   "metadata": {
    "id": "yfbei034gt1x"
   },
   "outputs": [],
   "source": []
  },
  {
   "cell_type": "code",
   "execution_count": null,
   "metadata": {
    "id": "z-TdR7lNgtzP"
   },
   "outputs": [],
   "source": []
  },
  {
   "cell_type": "code",
   "execution_count": null,
   "metadata": {
    "id": "UkLOVbsbgtxM"
   },
   "outputs": [],
   "source": []
  },
  {
   "cell_type": "code",
   "execution_count": null,
   "metadata": {
    "id": "_-CvZEJ9gtvF"
   },
   "outputs": [],
   "source": []
  },
  {
   "cell_type": "code",
   "execution_count": null,
   "metadata": {
    "id": "ucMNMTtDgtsX"
   },
   "outputs": [],
   "source": []
  },
  {
   "cell_type": "code",
   "execution_count": null,
   "metadata": {
    "id": "UnKRzudAgtqJ"
   },
   "outputs": [],
   "source": []
  },
  {
   "cell_type": "code",
   "execution_count": null,
   "metadata": {
    "id": "r93ovSscgtmB"
   },
   "outputs": [],
   "source": [
    "def cal_sum(x, y):\n",
    "    z = x + y\n",
    "    return z\n",
    "\n",
    "def cal_minus(x, y):\n",
    "    z = x - y\n",
    "    return z\n",
    "\n",
    "def cal_multi(x, y):\n",
    "    z = x * y\n",
    "    return z\n",
    "\n",
    "def cal_divide(x, y):\n",
    "    z = x / y\n",
    "    return z1, z2"
   ]
  },
  {
   "cell_type": "code",
   "execution_count": null,
   "metadata": {
    "id": "FBLgTsO6gtj4"
   },
   "outputs": [],
   "source": [
    "def sum_sum(x):\n",
    "    total = 0\n",
    "    for i in x:\n",
    "        total = total + i\n",
    "    \n",
    "    return total"
   ]
  },
  {
   "cell_type": "code",
   "execution_count": null,
   "metadata": {
    "id": "76GvMKDqgthd"
   },
   "outputs": [],
   "source": [
    "def max_max(x):\n",
    "    high = 0\n",
    "    for i in x:\n",
    "        if i > high:\n",
    "            high = i\n",
    "    \n",
    "    return high"
   ]
  },
  {
   "cell_type": "code",
   "execution_count": null,
   "metadata": {
    "id": "V5YzQmoPjSdI"
   },
   "outputs": [],
   "source": [
    "import random\n",
    "lotto = []\n",
    "for i in range(6):\n",
    "    num = random.randint(1, 45)\n",
    "    lotto.append(num)\n",
    "lotto"
   ]
  },
  {
   "cell_type": "code",
   "execution_count": null,
   "metadata": {
    "id": "f-O-8vu3jSZ_"
   },
   "outputs": [],
   "source": [
    "import random\n",
    "lotto = []\n",
    "while True:\n",
    "    num = random.randint(1, 45)\n",
    "    if num in lotto:\n",
    "        pass\n",
    "    else:\n",
    "        lotto.append(num)\n",
    "    if len(lotto) == 6:\n",
    "        break\n",
    "lotto"
   ]
  },
  {
   "cell_type": "code",
   "execution_count": null,
   "metadata": {
    "id": "2c2cCUSLjSXL"
   },
   "outputs": [],
   "source": [
    "import random\n",
    "game = []\n",
    "for i in range(5):\n",
    "    lotto = []\n",
    "    while True:\n",
    "        num = random.randint(1, 45)\n",
    "        if num in lotto:\n",
    "            pass\n",
    "        else:\n",
    "            lotto.append(num)\n",
    "        if len(lotto) == 6:\n",
    "            break\n",
    "    game.append(lotto)\n",
    "game"
   ]
  },
  {
   "cell_type": "code",
   "execution_count": null,
   "metadata": {
    "id": "_uWwPEV-jSUo"
   },
   "outputs": [],
   "source": [
    "import random\n",
    "\n",
    "# 옵션\n",
    "# a = input('게임에 사용할 가장 작은 숫자를 입력하세요 :')\n",
    "# b = input('게임에 사용할 가장 작은 큰를 입력하세요 :')\n",
    "\n",
    "computer = random.randint(0, 100) # 옵션 0, 100 대신 a, b 사용\n",
    "count = 0\n",
    "for i in range(10):\n",
    "    gamer = input('숫자를 입력하세요 : ')\n",
    "    gamer = int(gamer)\n",
    "    if computer > gamer:\n",
    "        print('업')\n",
    "    elif computer < gamer:\n",
    "        print('다운')\n",
    "    elif computer == gamer:\n",
    "        print('정답입니다.')\n",
    "        break\n",
    "    if i == 9:\n",
    "        print('실패입니다.')\n",
    "    else:\n",
    "        pass"
   ]
  },
  {
   "cell_type": "code",
   "execution_count": null,
   "metadata": {
    "id": "UdftlDfSgtfU"
   },
   "outputs": [],
   "source": [
    "# 전사와 마법사 생성후 모의전투\n",
    "import numpy as np\n",
    "import random\n",
    "import time\n",
    "\n",
    "class Caractor:\n",
    "\n",
    "    def __init__(self, job):\n",
    "        self.job = job\n",
    "        self.vital = 100\n",
    "        self.defence = 10\n",
    "        self.attack = 15\n",
    "        if self.job == '전사':\n",
    "            self.vital = self.vital + random.randint(5, 10)\n",
    "            self.defence = self.defence + random.randint(5, 10)\n",
    "        elif self.job == '마법사':\n",
    "            self.attack = self.attack + random.randint(7, 15)\n",
    "            self.defence = self.defence - random.randint(1, 5)\n",
    "            \n",
    "class battle:\n",
    "    \n",
    "    def __init__(self, p1, p2):\n",
    "        self.p1 = p1\n",
    "        self.p2 = p2\n",
    "    \n",
    "    def fight(self):\n",
    "\n",
    "        for i in range(30):\n",
    "            time.sleep(2)\n",
    "            print(str(i+1) + '텀 전투결과')\n",
    "            self.p1.vital = self.p1.vital - ((self.p2.attack + random.randint(-2, 2)) - self.p1.defence)\n",
    "            print(self.p1.job + '가 ' + self.p2.job + '의 ' + str(self.p2.attack + random.randint(-1, 1)) + ' 의 공격을 받아 체력이 ' + str(self.p1.vital) + '이 되었습니다.')\n",
    "            self.p2.vital = self.p2.vital - ((self.p1.attack + random.randint(-1, 1)) - self.p2.defence)\n",
    "            print(self.p2.job + '가 ' + self.p1.job + '의 ' + str(self.p1.attack + random.randint(-2, 2)) + ' 의 공격을 받아 체력이 ' + str(self.p2.vital) + '이 되었습니다.')\n",
    "            if self.p1.vital <= 0 or self.p2.vital <= 0:\n",
    "                print('전투종료')\n",
    "                break"
   ]
  }
 ],
 "metadata": {
  "colab": {
   "authorship_tag": "ABX9TyMAyFyy5DegSnIMVJz66pAz",
   "collapsed_sections": [],
   "name": "04_python_function_class.ipynb",
   "provenance": [],
   "toc_visible": true
  },
  "kernelspec": {
   "display_name": "Python 3",
   "language": "python",
   "name": "python3"
  },
  "language_info": {
   "codemirror_mode": {
    "name": "ipython",
    "version": 3
   },
   "file_extension": ".py",
   "mimetype": "text/x-python",
   "name": "python",
   "nbconvert_exporter": "python",
   "pygments_lexer": "ipython3",
   "version": "3.8.5"
  }
 },
 "nbformat": 4,
 "nbformat_minor": 1
}
