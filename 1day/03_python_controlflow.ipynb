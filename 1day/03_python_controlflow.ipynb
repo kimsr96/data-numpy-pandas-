{
 "cells": [
  {
   "cell_type": "markdown",
   "metadata": {
    "id": "1yLgZlPRoZEU"
   },
   "source": [
    "# **흐름제어문(controlflow)**\n",
    "    데이터 혹은 사용자가 설정한 조건에 따라 코드의 작동 및 프로그램이 제어 되도록 하는 구문\n",
    "    판별문 혹은 조건문 if, elif, else\n",
    "    반복문 for, while\n",
    "    예외처리 break, try, except, continue\n",
    "    흐름제어문을 구분하기 위해 indentation block(들여쓰기) 4칸, 혹은 tab을 사용한다."
   ]
  },
  {
   "cell_type": "markdown",
   "metadata": {
    "id": "1HSEY2vKoru2"
   },
   "source": [
    "### 흐름제어문의 구성\n",
    "    순차 : 위에서부터 아래 방향으로 코드가 순서대로 실행된다.\n",
    "    분기 : 판별문\n",
    "    반복 : while, for \n",
    "    반복 - 함수, 클래스"
   ]
  },
  {
   "cell_type": "markdown",
   "metadata": {
    "id": "QQb2NZItoycG"
   },
   "source": [
    "## **1. if, elif, else**\n",
    "    코드의 무조건 적인 실행이 아닌 사용자의 조건에 맞을 경우에만 코드가 실행되는 구조\n",
    "    같은 프로그램 내 다양한 경우의 수가 있을 경우 사용\n",
    "    코드의 흐름을 나누는 분기"
   ]
  },
  {
   "cell_type": "markdown",
   "metadata": {
    "id": "HwFGzU4MpJ5q"
   },
   "source": [
    "### 1-1. if 구문의 구조\n",
    "    if [조건식]:         만약 ~라면 : if는 하나의 if문에서 딱 1번 나올 수 있다.\n",
    "        [실행코드]\n",
    "    elif [조건식]:       그게 아니라 ~라면 : 0~무제한 등장\n",
    "        [실행코드]\n",
    "    else:              그게 전부다 아니라면 : 0~1번 등장\n",
    "        [실행코드]\n",
    "\n",
    "\n",
    "    조건식 : 명제 - 참, 거짓을 판별할 수 있는 문장\n",
    "        - 참, 거짓으로 결과가 나오는 코드(연산)\n",
    "        - True, False = Bool\n",
    "        \n",
    "    조건식, 비교연산자\n",
    "    a > b\n",
    "    a < b\n",
    "    a >= b\n",
    "    a <= b\n",
    "    a == b\n",
    "    a != b\n"
   ]
  },
  {
   "cell_type": "markdown",
   "metadata": {
    "id": "4TXSgDaJpcFB"
   },
   "source": [
    "### 1-2. 간단한 if 구문"
   ]
  },
  {
   "cell_type": "code",
   "execution_count": null,
   "metadata": {
    "id": "FZeLz9sQpEXM"
   },
   "outputs": [],
   "source": [
    "# 조건을 True, False\n",
    "if True:\n",
    "    print('참입니다.') \n",
    "else:\n",
    "    print('거짓입니다.')"
   ]
  },
  {
   "cell_type": "code",
   "execution_count": null,
   "metadata": {
    "id": "nI00SfqCpi1g"
   },
   "outputs": [],
   "source": [
    "# 조건식을 사용\n",
    "if 4 > 3:\n",
    "    print('참입니다.')"
   ]
  },
  {
   "cell_type": "code",
   "execution_count": null,
   "metadata": {
    "id": "Svi93VFHpkdg"
   },
   "outputs": [],
   "source": [
    "# 변수와 조건식을 사용\n",
    "a = 10\n",
    "if a > 5:\n",
    "    print('참입니다.')\n",
    "elif a < 5:\n",
    "    print('거짓입니다.')"
   ]
  },
  {
   "cell_type": "markdown",
   "metadata": {
    "id": "g9SMNPmxpw2g"
   },
   "source": [
    "### 1-3. 제어문의 흐름을 파악해보기"
   ]
  },
  {
   "cell_type": "code",
   "execution_count": null,
   "metadata": {
    "id": "MQLG844zp4ST"
   },
   "outputs": [],
   "source": [
    "# 코드의 실행 결과는 무엇이 출력될까요?\n",
    "'''\n",
    "print(1)\n",
    "if True:\n",
    "    print(2)\n",
    "    if False:\n",
    "        print(3)\n",
    "        print(4)\n",
    "    elif True:\n",
    "        print(5)\n",
    "        if True:\n",
    "            print(6)\n",
    "            print(7)\n",
    "            if False:\n",
    "                print(8)\n",
    "            elif True:\n",
    "                print(9)\n",
    "    else:\n",
    "        print(10)\n",
    "    if True:\n",
    "        print(11)\n",
    "    print(12)\n",
    "print(13)\n",
    "'''"
   ]
  },
  {
   "cell_type": "code",
   "execution_count": null,
   "metadata": {
    "id": "PS36HWFHqEHD"
   },
   "outputs": [],
   "source": [
    "'''\n",
    "a = 15\n",
    "\n",
    "if a > 100:\n",
    "    print(\"크다\")\n",
    "    \n",
    "elif a > 1000:\n",
    "    print(\"엄청크다\")\n",
    "    \n",
    "elif a < 10:\n",
    "    print(\"작다\")\n",
    "    \n",
    "else:\n",
    "    print(\"알 수 없다.\")\n",
    "'''"
   ]
  },
  {
   "cell_type": "markdown",
   "metadata": {
    "id": "hx4D6ObiqHgT"
   },
   "source": [
    "### 조금 프로그램다운 코드를 작성해보고자 입력을 추가해보겠습니다.\n",
    "    input('입력받을 데이터의 설명 : ') 문구가 문자형식으로 들어가야합니다.\n",
    "    입력받은 결과를 변수에 함께 저장합니다.\n",
    "    입력받은 결과 또한 문자형식으로 저장됩니다.\n",
    "    숫자형태로 인식하기 위해서는 데이터 타입 변환이 필요합니다."
   ]
  },
  {
   "cell_type": "code",
   "execution_count": null,
   "metadata": {
    "id": "7KavNpOiqh73"
   },
   "outputs": [],
   "source": [
    "# 사용자로부터 숫자를 입력받아 a 변수에 저장\n",
    "# 입력과 저장을 한꺼번에\n",
    "a = input('숫자를 입력하세요 :')"
   ]
  },
  {
   "cell_type": "code",
   "execution_count": null,
   "metadata": {
    "id": "fvJOvM7PqrZJ"
   },
   "outputs": [],
   "source": [
    "# 입력값을 정수타입 형태로 형변환(casting)\n",
    "a = int(input('숫자를 입력하세요 :'))"
   ]
  },
  {
   "cell_type": "markdown",
   "metadata": {
    "id": "a0gjTYJYrkKQ"
   },
   "source": [
    "### 1-4. 연습문제\n",
    "    지난시간 우리는 변수와 데이터의 타입에 대해서 배웠습니다.\n",
    "    이번에는 방금 학습한 input함수를 사용하여 사용자로부터 키, 몸무게를 입력받아 변수에 저장하고\n",
    "    변수를 사용하여 bmi를 계산 후 아래 조건식에 따라 사용자의 체형을 출력해주는 프로그램을 작성해보겠습니다.\n",
    "    \n",
    "    bmi = 체중(kg) / 키(m)^2\n",
    "    20 미만 - 저체중\n",
    "    20 ~ 24미만 - 표준체중\n",
    "    24 ~ 30미만 - 과체중\n",
    "    30 이상 - 비만"
   ]
  },
  {
   "cell_type": "code",
   "execution_count": 2,
   "metadata": {},
   "outputs": [
    {
     "name": "stdout",
     "output_type": "stream",
     "text": [
      "172\n",
      "70\n",
      "비만\n"
     ]
    }
   ],
   "source": [
    "weight = int(input())\n",
    "height = int(input())\n",
    "bmi = weight / (height/100)**2\n",
    "\n",
    "if bmi < 20:\n",
    "    print(\"저체중\")\n",
    "elif 20 <= bmi <24:\n",
    "    print(\"표준체중\")\n",
    "elif bmi >= 24 and bmi < 30:\n",
    "    print(\"과체중\")\n",
    "else:\n",
    "    print(\"비만\")"
   ]
  },
  {
   "cell_type": "markdown",
   "metadata": {
    "id": "geTn3S1NsMlQ"
   },
   "source": [
    "## **2. for, break**\n",
    "    코드의 반복적인 실행을 위한 구문\n",
    "    반복실행해야 하는 범위가 있을 때 사용\n",
    "    보통은 데이터의 갯수 혹은 분석하고자 하는 데이터의 범위 내에서 반복작업을 할 때 사용\n",
    "    if 문과 함께 주로 사용되는 반복구문"
   ]
  },
  {
   "cell_type": "code",
   "execution_count": null,
   "metadata": {
    "id": "1qJxHTWEsUBe"
   },
   "outputs": [],
   "source": [
    "# 단순반복 작업을 효율적으로 하기위함. 4개는 손으로 해도 10개 100개는 어떻게?\n",
    "print(1)\n",
    "print(2)\n",
    "print(3)\n",
    "print(4)"
   ]
  },
  {
   "cell_type": "markdown",
   "metadata": {
    "id": "efX5-_94sbNf"
   },
   "source": [
    "### 2-1. for 문의 구조\n",
    "    for [반복자] in [반복범위]:    반복범위 안에서 반복자가 정의되며\n",
    "        [실행코드]               실행코드가 실행\n",
    "    \n",
    "    반복자 : 구간(범위)를 순환하며 정의되는 변수\n",
    "    관례적으로 심플한 반복자는 영문자 i(iterator)를 사용한다.\n",
    "    \n",
    "    for 문의 반복범위는 list, dict, 순서가 있는 자료구조\n",
    "    혹은 range() 명령어로 혹은 반복작업 횟수로 설정 가능\n",
    "    \n",
    "    range() 명령어\n",
    "    range(횟수) 횟수만큼의 범위 생성\n",
    "    range(x, y, z) x 부터 y-1 까지 z스텝 범위를 만들어주는 함수\n",
    "    \n",
    "### 2-1. break 구문\n",
    "    반복 작업 중 작업을 종료해야 할 때 사용"
   ]
  },
  {
   "cell_type": "markdown",
   "metadata": {
    "id": "G1eKAwo6subH"
   },
   "source": [
    "### 2-2. 간단한 for 구문\n"
   ]
  },
  {
   "cell_type": "code",
   "execution_count": null,
   "metadata": {
    "id": "8Oqp5qoasUfr"
   },
   "outputs": [],
   "source": [
    "# 기본적인 for 구문 \n",
    "# _ 혹은 i를 반복자로 사용(iterator 변수로서 사용 가능)\n",
    "for i in range(10):\n",
    "    print('안녕하세요')\n",
    "    \n",
    "# 반복을 진행하다가 멈추고 싶다\n",
    "    #if i > 5:\n",
    "        #break"
   ]
  },
  {
   "cell_type": "code",
   "execution_count": null,
   "metadata": {
    "id": "eQFWlw3ftYSO"
   },
   "outputs": [],
   "source": [
    "# range 함수의 조건 추가"
   ]
  },
  {
   "cell_type": "markdown",
   "metadata": {
    "id": "4FzMoTqsuBTu"
   },
   "source": [
    "### 2-3. for문의 다양한 활용방법"
   ]
  },
  {
   "cell_type": "code",
   "execution_count": null,
   "metadata": {
    "id": "wLOJC4QAtrkO"
   },
   "outputs": [],
   "source": [
    "# 구간이 정해져 있는 데이터를 순환하면서 작업\n",
    "test_list = [1, 2, 3, 4, 5, 6, 7, 8, 9]\n",
    "for i in test_list:\n",
    "    print(i)"
   ]
  },
  {
   "cell_type": "code",
   "execution_count": 3,
   "metadata": {
    "id": "I1grCYw0uOrW"
   },
   "outputs": [
    {
     "name": "stdout",
     "output_type": "stream",
     "text": [
      "0 서울\n",
      "1 용산구\n",
      "2 해방촌\n",
      "3 르카페\n",
      "4 재즈\n",
      "5 치즈\n",
      "6 요리\n"
     ]
    }
   ],
   "source": [
    "# enumerate() 함수안의 자료구조의 순번과 함께 반복\n",
    "test_list = ['서울', '용산구', '해방촌', '르카페', '재즈', '치즈', '요리']\n",
    "for index, item in enumerate(test_list):\n",
    "    print(index, item)"
   ]
  },
  {
   "cell_type": "code",
   "execution_count": 4,
   "metadata": {
    "id": "LzVqDQsbuXXf"
   },
   "outputs": [
    {
     "name": "stdout",
     "output_type": "stream",
     "text": [
      "이름 변치웅\n",
      "사는곳 서울 용산구\n",
      "사는동네 해방촌\n",
      "좋아하는 카페 르카페\n",
      "음악 재즈\n",
      "반려묘 치즈\n",
      "취미 요리\n"
     ]
    }
   ],
   "source": [
    "# zip() 함수로 갯수가 같은 다른 자료구조와 함께 작업\n",
    "test_list1 = ['이름', '사는곳', '사는동네', '좋아하는 카페', '음악', '반려묘', '취미']\n",
    "test_list2 = ['변치웅', '서울 용산구', '해방촌', '르카페', '재즈', '치즈', '요리']\n",
    "for item1, item2 in zip(test_list1, test_list2):\n",
    "    print(item1, item2)"
   ]
  },
  {
   "cell_type": "code",
   "execution_count": 5,
   "metadata": {
    "id": "vs66g1eButUO"
   },
   "outputs": [
    {
     "data": {
      "text/plain": [
       "[0, 1, 2, 3, 4, 5, 6, 7, 8, 9]"
      ]
     },
     "execution_count": 5,
     "metadata": {},
     "output_type": "execute_result"
    }
   ],
   "source": [
    "# 그렇다면 미리 정해진 숫자 혹은 데이터로만 사용이 가능할까?\n",
    "# 생성할 때도 용이함\n",
    "test_list = []\n",
    "for i in range(10):\n",
    "    test_list.append(i)\n",
    "test_list"
   ]
  },
  {
   "cell_type": "markdown",
   "metadata": {
    "id": "k8hJ0pZ7uws5"
   },
   "source": [
    "### 2-4. 입력받은 숫자까지 의 합을 계산해주는 코드를 작성해 봅시다."
   ]
  },
  {
   "cell_type": "code",
   "execution_count": 13,
   "metadata": {},
   "outputs": [
    {
     "name": "stdout",
     "output_type": "stream",
     "text": [
      "숫자를 입력해주세요10\n",
      "55\n"
     ]
    }
   ],
   "source": [
    "a = int(input('숫자를 입력해주세요'))\n",
    "sum = 0\n",
    "for i in range(a+1):\n",
    "    sum+= i\n",
    "print(sum)\n"
   ]
  },
  {
   "cell_type": "markdown",
   "metadata": {
    "id": "_gdCLt_Au4iT"
   },
   "source": [
    "## **3. while(무한루프)**\n",
    "    코드의 반복적인 실행을 위한 반복문\n",
    "    조건식이 참일 경우 반복구문이 계속 실행 됨\n",
    "    보통은 프로그램을 실행 대기상태로 두거나 입력값을 받는 등의 용도로 사용."
   ]
  },
  {
   "cell_type": "markdown",
   "metadata": {
    "id": "J9ZVJbYnvDTI"
   },
   "source": [
    "### 3-1. while문의 구조\n",
    "    whiel [조건식]:\n",
    "        [실행코드]\n",
    "        \n",
    "    while문은 while문의 조건식이 참일 경우 무조건 실행되게끔 짜여진 구조. \n",
    "    while문을 사용할 때는 항상 반복구문을 어떻게 종료해야하는지를 설정해야 함."
   ]
  },
  {
   "cell_type": "markdown",
   "metadata": {
    "id": "ONeVLuP0vJ7r"
   },
   "source": [
    "### 3-2. 간단한 while 구문"
   ]
  },
  {
   "cell_type": "code",
   "execution_count": null,
   "metadata": {
    "id": "IflEL76vvAjE"
   },
   "outputs": [],
   "source": [
    "# for문과는 달리 조건식을 while 구문 바로 뒤에 적어줌\n",
    "# while문의 무한루프를 컨트롤 하기위한 변수 설정하고 조건식을 추가하여 코드실행을 컨트롤\n",
    "\n",
    "a = 0\n",
    "while True:\n",
    "    print('무한루프에 빠졌습니다.')\n",
    "    \n",
    "# 반복을 진행하다가 멈추고 싶다\n",
    "    # a += 1\n",
    "    # if a > 50:\n",
    "    #    break"
   ]
  },
  {
   "cell_type": "markdown",
   "metadata": {
    "id": "rQvz8GrzxFY-"
   },
   "source": [
    "### 3-3. while 문과 for 문 비교해보기"
   ]
  },
  {
   "cell_type": "code",
   "execution_count": null,
   "metadata": {
    "id": "2bOnM_p2vZfS"
   },
   "outputs": [],
   "source": [
    "# 1~100까지 출력되도록\n",
    "# while문\n",
    "a = 1\n",
    "while a < 101:\n",
    "    print(a)\n",
    "    a = a + 1\n",
    "    # a += 1\n",
    "    \n",
    "# for 문\n",
    "for a in range(1,101):\n",
    "    print(a)"
   ]
  },
  {
   "cell_type": "code",
   "execution_count": null,
   "metadata": {
    "id": "xF8lIt4lxSu-"
   },
   "outputs": [],
   "source": [
    "# 100~1까지 출력되도록 while문과 for문 구성해보자\n",
    "# while문\n",
    "\n",
    "    \n",
    "# for문\n",
    "\n"
   ]
  },
  {
   "cell_type": "code",
   "execution_count": null,
   "metadata": {
    "id": "_Sb6sCBsxVMr"
   },
   "outputs": [],
   "source": [
    "# 1~5까지의 합을 구해서 출력\n",
    "# while문\n",
    "a = 1\n",
    "total = 0\n",
    "while a < 6:\n",
    "    total = total + a\n",
    "    a = a + 1\n",
    "print(total)\n",
    "\n",
    "# for문\n",
    "total = 0\n",
    "for a in range(1,6):\n",
    "    total += a\n",
    "print(total)"
   ]
  },
  {
   "cell_type": "code",
   "execution_count": null,
   "metadata": {
    "id": "-et6N9qMxX7I"
   },
   "outputs": [],
   "source": [
    "# 1~100까지의 합을 구해서 출력하도록 while문과 for문 구성하기\n",
    "# while문\n",
    "a = 1\n",
    "total = 0\n",
    "while a < 101:\n",
    "    total = total + a\n",
    "    a = a + 1\n",
    "print(total)\n",
    "\n",
    "# for문\n",
    "total = 0\n",
    "for a in range(1,101):\n",
    "    total += a\n",
    "print(total)"
   ]
  },
  {
   "cell_type": "markdown",
   "metadata": {
    "id": "_gQuyPAgx1ZY"
   },
   "source": [
    "## **(참고)고오급 python 스킬**\n",
    "    list comprehension\n",
    "    controlflow를 활용하여 간단하게 리스트 생성 가능\n",
    "    데이터의 특정 부분만을 따로 변수로 사용하고자 할 때 굉장히 많이 사용하는 파이썬 코딩스킬"
   ]
  },
  {
   "cell_type": "code",
   "execution_count": null,
   "metadata": {
    "id": "vXIaoK4Mx4PM"
   },
   "outputs": [],
   "source": [
    "# for문 활용\n",
    "test_list"
   ]
  },
  {
   "cell_type": "code",
   "execution_count": 18,
   "metadata": {
    "id": "J0_M3YP2yD-4"
   },
   "outputs": [
    {
     "ename": "SyntaxError",
     "evalue": "invalid syntax (<ipython-input-18-dfb6954fc2a4>, line 2)",
     "output_type": "error",
     "traceback": [
      "\u001b[0;36m  File \u001b[0;32m\"<ipython-input-18-dfb6954fc2a4>\"\u001b[0;36m, line \u001b[0;32m2\u001b[0m\n\u001b[0;31m    test_list2 = [x for x in range(10) if x<5 10 ]\u001b[0m\n\u001b[0m                                              ^\u001b[0m\n\u001b[0;31mSyntaxError\u001b[0m\u001b[0;31m:\u001b[0m invalid syntax\n"
     ]
    }
   ],
   "source": [
    "# for문과 if 조건문을 함께 사용한 경우\n",
    "test_list2 = [x for x in range(10) if x<5 10 ]\n",
    "test_list2"
   ]
  },
  {
   "cell_type": "code",
   "execution_count": null,
   "metadata": {
    "id": "UUhT9hF3yWSM"
   },
   "outputs": [],
   "source": [
    "# 위 코드를 풀어쓴다면?"
   ]
  },
  {
   "cell_type": "markdown",
   "metadata": {
    "id": "b20LgWW1zb7z"
   },
   "source": [
    "## **4-1. 연습문제**\n",
    "    컴퓨터와 스무고개 게임을 하는 프로그램을 만들어보겠습니다.\n",
    "    우선 컴퓨터가 저장 할 숫자를 사용자에게 입력받아 저장하고, 게이머에게 입력받은 숫자를 판별하여 업, 다운, 정답을 출력하는 프로그램입니다.\n",
    "    게임 횟수는 10회이며, 10회 동안 정답을 못 맞출 경우 실패 문구를 출력하도록 프로그램을 짜 보겠습니다."
   ]
  },
  {
   "cell_type": "code",
   "execution_count": null,
   "metadata": {},
   "outputs": [],
   "source": [
    "\n",
    "b= 33\n",
    "\n",
    "for i in range(10):\n",
    " \n",
    "    a = int(input())\n",
    "        \n",
    "\n",
    "\n",
    "    if a < b:\n",
    "        print(\"업\")\n",
    "    elif a == b:\n",
    "        print(\"정답\")\n",
    "    elif a > b:\n",
    "        print(\"다운\")"
   ]
  },
  {
   "cell_type": "markdown",
   "metadata": {
    "id": "4Jl1pejczpeZ"
   },
   "source": [
    "## **4-2. 연습문제**\n",
    "    간단한 ATM기 시스템을 만들어보겠습니다.\n",
    "    \n",
    "    사용자로부터 메뉴를 입력받습니다.\n",
    "    1. 입금\n",
    "    2. 출금\n",
    "    3. 잔액확인\n",
    "    4. 종료\n",
    "    \n",
    "    입력받은 메뉴에 따라 계좌잔액에 입금과 출금을 적용하고 잔액을 출력해봅시다.\n",
    "    종료메뉴는 while 문을 빠져나오도록 프로그램을 종료시킵니다."
   ]
  },
  {
   "cell_type": "markdown",
   "metadata": {
    "id": "7SOwoyMbliwp"
   },
   "source": [
    "## **5.try, except(오류처리 혹은 예외처리)**\n",
    "    try, except 구문은 오류 발생가능성이 있는 구문을 처리하거나\n",
    "    반드시 오류가 발생하는 구문을 감싸 정상적인 프로그램 흐름이 이어질 수 있도록 처리하는 예외처리 구문입니다.\n",
    "\n",
    "    try:\n",
    "        [처리하고 싶은 코드]\n",
    "    except [오류명]:\n",
    "        [try로 처리하지 못한 작업을 처리하기 위한 코드]\n"
   ]
  },
  {
   "cell_type": "code",
   "execution_count": null,
   "metadata": {
    "id": "qhY3DsKhzixY"
   },
   "outputs": [],
   "source": [
    "# input함수로 결과값을 받아 에러를 발생시키고 예외처리 해보기"
   ]
  },
  {
   "cell_type": "code",
   "execution_count": null,
   "metadata": {
    "id": "A236RWZMz0OE"
   },
   "outputs": [],
   "source": []
  },
  {
   "cell_type": "code",
   "execution_count": null,
   "metadata": {
    "id": "nmQ4JlLuz0MJ"
   },
   "outputs": [],
   "source": []
  },
  {
   "cell_type": "code",
   "execution_count": null,
   "metadata": {
    "id": "cj5XDqcCz0I_"
   },
   "outputs": [],
   "source": []
  },
  {
   "cell_type": "code",
   "execution_count": null,
   "metadata": {
    "id": "udoUyEP8z0GQ"
   },
   "outputs": [],
   "source": []
  },
  {
   "cell_type": "code",
   "execution_count": null,
   "metadata": {
    "id": "QRj5rZkwz0D6"
   },
   "outputs": [],
   "source": []
  },
  {
   "cell_type": "code",
   "execution_count": null,
   "metadata": {
    "id": "uPY65JNbz0A2"
   },
   "outputs": [],
   "source": []
  },
  {
   "cell_type": "code",
   "execution_count": null,
   "metadata": {
    "id": "GhPFxVyZzz-f"
   },
   "outputs": [],
   "source": []
  },
  {
   "cell_type": "code",
   "execution_count": null,
   "metadata": {
    "id": "NKvuUUXpzz8A"
   },
   "outputs": [],
   "source": []
  },
  {
   "cell_type": "code",
   "execution_count": null,
   "metadata": {
    "id": "W6VKJHHkzz5d"
   },
   "outputs": [],
   "source": []
  },
  {
   "cell_type": "code",
   "execution_count": null,
   "metadata": {
    "id": "RTTXfPHHzz3F"
   },
   "outputs": [],
   "source": []
  },
  {
   "cell_type": "code",
   "execution_count": null,
   "metadata": {
    "id": "265y4oOEzz0W"
   },
   "outputs": [],
   "source": []
  },
  {
   "cell_type": "code",
   "execution_count": null,
   "metadata": {
    "id": "5PjGhX4Dzzxs"
   },
   "outputs": [],
   "source": []
  },
  {
   "cell_type": "code",
   "execution_count": null,
   "metadata": {
    "id": "Dy24M9aUzzvN"
   },
   "outputs": [],
   "source": []
  },
  {
   "cell_type": "code",
   "execution_count": null,
   "metadata": {
    "id": "Vs8RhmEOzzsv"
   },
   "outputs": [],
   "source": []
  },
  {
   "cell_type": "code",
   "execution_count": null,
   "metadata": {
    "id": "tNiguTufzzp9"
   },
   "outputs": [],
   "source": []
  },
  {
   "cell_type": "code",
   "execution_count": null,
   "metadata": {
    "id": "S0IeisdSzzna"
   },
   "outputs": [],
   "source": []
  },
  {
   "cell_type": "code",
   "execution_count": null,
   "metadata": {
    "id": "ROTdeZ5rzzk5"
   },
   "outputs": [],
   "source": []
  },
  {
   "cell_type": "code",
   "execution_count": null,
   "metadata": {
    "id": "VfMVhQHQzzia"
   },
   "outputs": [],
   "source": []
  },
  {
   "cell_type": "code",
   "execution_count": null,
   "metadata": {
    "id": "zGT7yOrqzzfz"
   },
   "outputs": [],
   "source": []
  },
  {
   "cell_type": "code",
   "execution_count": null,
   "metadata": {
    "id": "0XgFkLSKzzdQ"
   },
   "outputs": [],
   "source": []
  },
  {
   "cell_type": "code",
   "execution_count": null,
   "metadata": {
    "id": "RyMP318ozzaZ"
   },
   "outputs": [],
   "source": []
  },
  {
   "cell_type": "code",
   "execution_count": null,
   "metadata": {
    "id": "v47TXrLezzX-"
   },
   "outputs": [],
   "source": []
  },
  {
   "cell_type": "code",
   "execution_count": null,
   "metadata": {
    "id": "F1fv_xffzzWB"
   },
   "outputs": [],
   "source": []
  },
  {
   "cell_type": "code",
   "execution_count": null,
   "metadata": {
    "id": "O3rH3H0mzzTO"
   },
   "outputs": [],
   "source": []
  },
  {
   "cell_type": "code",
   "execution_count": null,
   "metadata": {
    "id": "yNzSbX_FzzQV"
   },
   "outputs": [],
   "source": []
  },
  {
   "cell_type": "code",
   "execution_count": null,
   "metadata": {
    "id": "Lfe1jwYdzzNx"
   },
   "outputs": [],
   "source": []
  },
  {
   "cell_type": "code",
   "execution_count": null,
   "metadata": {
    "id": "1GOho7IUzzLl"
   },
   "outputs": [],
   "source": []
  },
  {
   "cell_type": "code",
   "execution_count": null,
   "metadata": {
    "id": "jsHMlptGzzJY"
   },
   "outputs": [],
   "source": []
  },
  {
   "cell_type": "code",
   "execution_count": null,
   "metadata": {
    "id": "Rpjn32WEzzGr"
   },
   "outputs": [],
   "source": []
  },
  {
   "cell_type": "code",
   "execution_count": null,
   "metadata": {
    "id": "8GdbsQTVzzEi"
   },
   "outputs": [],
   "source": []
  },
  {
   "cell_type": "code",
   "execution_count": null,
   "metadata": {
    "id": "U8u-WxrIzzCw"
   },
   "outputs": [],
   "source": []
  },
  {
   "cell_type": "code",
   "execution_count": null,
   "metadata": {
    "id": "ZXVy3QgxzzAa"
   },
   "outputs": [],
   "source": []
  },
  {
   "cell_type": "code",
   "execution_count": null,
   "metadata": {
    "id": "jU1EadMHzy-T"
   },
   "outputs": [],
   "source": []
  },
  {
   "cell_type": "code",
   "execution_count": null,
   "metadata": {
    "id": "SnBnkDpBzy8I"
   },
   "outputs": [],
   "source": []
  },
  {
   "cell_type": "code",
   "execution_count": null,
   "metadata": {
    "id": "zawjHpvSzy5r"
   },
   "outputs": [],
   "source": []
  },
  {
   "cell_type": "code",
   "execution_count": null,
   "metadata": {
    "id": "4894_Prezy3Z"
   },
   "outputs": [],
   "source": []
  },
  {
   "cell_type": "code",
   "execution_count": null,
   "metadata": {
    "id": "P90SWJdQzy1l"
   },
   "outputs": [],
   "source": []
  },
  {
   "cell_type": "code",
   "execution_count": null,
   "metadata": {
    "id": "o8rWwG6Gzyy8"
   },
   "outputs": [],
   "source": []
  },
  {
   "cell_type": "code",
   "execution_count": null,
   "metadata": {
    "id": "2bhkp70kzywu"
   },
   "outputs": [],
   "source": []
  },
  {
   "cell_type": "code",
   "execution_count": null,
   "metadata": {
    "id": "shTtnLidzyuV"
   },
   "outputs": [],
   "source": []
  },
  {
   "cell_type": "code",
   "execution_count": null,
   "metadata": {
    "id": "8EF5ODcfzyrn"
   },
   "outputs": [],
   "source": []
  },
  {
   "cell_type": "code",
   "execution_count": null,
   "metadata": {
    "id": "gvUaVWNOzypX"
   },
   "outputs": [],
   "source": []
  },
  {
   "cell_type": "code",
   "execution_count": null,
   "metadata": {
    "id": "JqwiQ7KQzynB"
   },
   "outputs": [],
   "source": [
    "name = input('이름을 입력하세요 : ')\n",
    "height = input('키를 입력하세요 : ')\n",
    "height = float(height) / 100\n",
    "weight = input('몸무게를 입력하세요 : ')\n",
    "weight = float(weight)\n",
    "bmi = weight / (height * height)\n",
    "\n",
    "print(f'{name}님의 bmi 지수는 {bmi}입니다.')\n",
    "if bmi < 20:\n",
    "    print('bmi에 따라 구분한 체중은 저체중입니다.')\n",
    "elif 20 <= bmi < 24:\n",
    "    print('bmi에 따라 구분한 체중은 표준체중입니다.')\n",
    "elif 24 <= bmi < 30:\n",
    "    print('bmi에 따라 구분한 체중은 과체중입니다.')\n",
    "else:\n",
    "    print('bmi에 따라 구분한 체중은 비만입니다.')"
   ]
  },
  {
   "cell_type": "code",
   "execution_count": null,
   "metadata": {
    "id": "Pad7AOPFz4Mg"
   },
   "outputs": [],
   "source": [
    "total = 0\n",
    "number = input('합을 계산할 숫자(정수)를 입력해주세요 : ')\n",
    "number = int(number)\n",
    "for i in range(number+1):\n",
    "    total = total + i\n",
    "\n",
    "print(total)"
   ]
  },
  {
   "cell_type": "code",
   "execution_count": null,
   "metadata": {
    "id": "XdBA7GuJz8ak"
   },
   "outputs": [],
   "source": [
    "computer = input('컴퓨터의 저장 숫자를 입력하세요 : ')\n",
    "computer = int(computer)\n",
    "for i in range(10):\n",
    "    gamer = input('컴퓨터의 숫자를 맞춰보세요 : ')\n",
    "    gamer = int(gamer)\n",
    "    if computer > gamer:\n",
    "        print('업')\n",
    "    elif computer < gamer:\n",
    "        print('다운')\n",
    "    elif computer == gamer:\n",
    "        print('정답입니다.')\n",
    "        break\n",
    "if i == 9:\n",
    "    print('실패입니다.')"
   ]
  },
  {
   "cell_type": "code",
   "execution_count": null,
   "metadata": {
    "id": "KEhPzGANz-0Q"
   },
   "outputs": [],
   "source": [
    "while True:\n",
    "    computer = input('컴퓨터의 저장 숫자를 입력하세요 : ')\n",
    "    computer = int(computer)\n",
    "    for i in range(10):\n",
    "        gamer = input('컴퓨터의 숫자를 맞춰보세요 : ')\n",
    "        gamer = int(gamer)\n",
    "        if computer > gamer:\n",
    "            print('업')\n",
    "        elif computer < gamer:\n",
    "            print('다운')\n",
    "        elif computer == gamer:\n",
    "            print('정답입니다.')\n",
    "            break\n",
    "    if i == 9:\n",
    "        print('실패입니다.')"
   ]
  },
  {
   "cell_type": "code",
   "execution_count": null,
   "metadata": {
    "id": "-O72EbmE0GlQ"
   },
   "outputs": [],
   "source": [
    "balance = 0\n",
    "while True:\n",
    "    \n",
    "    print()\n",
    "    print('어서오세요 fitror 뱅크입니다.')\n",
    "    print('원하시는 서비스 메뉴를 선택해주세요.')\n",
    "    print('---------------------------')\n",
    "    print('1. 입금')\n",
    "    print('2. 출금')\n",
    "    print('3. 잔액확인')\n",
    "    print('4. 종료')\n",
    "    print('---------------------------')\n",
    "    print()\n",
    "    \n",
    "    menu = input('메뉴를 입력해주세요 : ')\n",
    "    menu = int(menu)\n",
    "    if menu == 1:\n",
    "        saving = input('입금하실 금액을 입력해주세요 : ')\n",
    "        saving = int(saving)\n",
    "        balance = balance + saving\n",
    "    elif menu == 2:\n",
    "        withdrow = input('출금하실 금액을 입력해주세요 : ')\n",
    "        withdrow = int(withdrow)\n",
    "        balance = balance - withdrow\n",
    "    elif menu == 3:\n",
    "        print(f'계좌 잔액은 {balance}원 입니다.')\n",
    "    elif menu == 4:\n",
    "        print()\n",
    "        print('이용해주셔서 감사합니다.')\n",
    "        print()\n",
    "        break\n",
    "    else:\n",
    "        print('메뉴입력이 잘못 되었습니다. 메뉴를 다시 선택해주세요.')"
   ]
  }
 ],
 "metadata": {
  "colab": {
   "authorship_tag": "ABX9TyOx6FqkkStpUTQc8K4sfe25",
   "collapsed_sections": [],
   "name": "03_python_controlflow.ipynb",
   "provenance": [],
   "toc_visible": true
  },
  "kernelspec": {
   "display_name": "Python 3",
   "language": "python",
   "name": "python3"
  },
  "language_info": {
   "codemirror_mode": {
    "name": "ipython",
    "version": 3
   },
   "file_extension": ".py",
   "mimetype": "text/x-python",
   "name": "python",
   "nbconvert_exporter": "python",
   "pygments_lexer": "ipython3",
   "version": "3.8.5"
  }
 },
 "nbformat": 4,
 "nbformat_minor": 1
}
