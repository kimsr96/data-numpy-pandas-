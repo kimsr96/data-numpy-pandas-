{
 "cells": [
  {
   "cell_type": "code",
   "execution_count": 1,
   "metadata": {
    "ExecuteTime": {
     "end_time": "2021-02-04T00:19:35.233192Z",
     "start_time": "2021-02-04T00:19:34.322653Z"
    }
   },
   "outputs": [],
   "source": [
    "import pandas as pd\n",
    "import numpy as np\n",
    "import matplotlib.pyplot as plt\n",
    "import seaborn as sns\n",
    "import requests\n",
    "import json\n",
    "import time\n",
    "from pandas.io.json import json_normalize\n",
    "from bs4 import BeautifulSoup"
   ]
  },
  {
   "cell_type": "markdown",
   "metadata": {},
   "source": [
    "# 네이버 영화 클레멘타인 평점크롤링\n",
    "\n",
    "네이버 영화 클레멘타인에 유저들이 작성한 평점 댓글을 크롤링 해보겠습니다.\n",
    "\n",
    "아래 굵은 글씨로 기술된 테스크들을 완수하세요."
   ]
  },
  {
   "cell_type": "markdown",
   "metadata": {},
   "source": [
    "**네이버 영화 클레멘타인 URL**\n",
    "\n",
    "https://movie.naver.com/movie/bi/mi/point.nhn?code=37886"
   ]
  },
  {
   "cell_type": "markdown",
   "metadata": {},
   "source": [
    "**1. 요청할 url 정의하기**\n",
    "\n",
    "위 URL 페이지를 확인해보면 댓글평점 페이지가 넘어가도 URL이 변하지 않는 것을 확인 할 수 있습니다.\n",
    "\n",
    "동적페이지 크롤링을 위해 개발자 도구로 숨겨진 URL을 확인 해봅시다.\n",
    "\n",
    "우선 1페이지 크롤링을 해보겠습니다."
   ]
  },
  {
   "cell_type": "code",
   "execution_count": 14,
   "metadata": {},
   "outputs": [],
   "source": [
    "url = 'https://movie.naver.com/movie/bi/mi/pointWriteFormList.nhn?code=37886&type=after&isActualPointWriteExecute=false&isMileageSubscriptionAlready=false&isMileageSubscriptionReject=false&page=1'"
   ]
  },
  {
   "cell_type": "markdown",
   "metadata": {},
   "source": [
    "**2. response 변수명으로 requests로 url 요청한 데이터의 text를 저장합니다.**"
   ]
  },
  {
   "cell_type": "code",
   "execution_count": 15,
   "metadata": {
    "ExecuteTime": {
     "end_time": "2021-02-03T23:48:06.791213Z",
     "start_time": "2021-02-03T23:48:06.700322Z"
    }
   },
   "outputs": [],
   "source": [
    "# CODE\n",
    "response = requests.get(url).text"
   ]
  },
  {
   "cell_type": "markdown",
   "metadata": {},
   "source": [
    "**3. response 결과값 앞 1000글자 확인 및 어떤형태의 데이터인지 파악하기**"
   ]
  },
  {
   "cell_type": "code",
   "execution_count": 53,
   "metadata": {},
   "outputs": [
    {
     "data": {
      "text/plain": [
       "'\\r\\n\\r\\n\\r\\n\\r\\n<!DOCTYPE html>\\r\\n<html lang=\"ko\">\\r\\n<head>\\r\\n<meta charset=\"utf-8\">\\r\\n<meta http-equiv=\"X-UA-Compatible\" content=\"IE=edge\">\\r\\n<title>네이버 영화</title>\\r\\n\\n\\n\\n\\t\\n\\t\\n\\t\\n\\t\\n\\t\\t<link rel=\"shortcut icon\" href=\"https://ssl.pstatic.net/static/m/movie/icons/naver_movie_favicon.ico\" type=\"image/x-icon\">\\n\\t\\t\\t\\n\\n\\r\\n\\n<link rel=\"stylesheet\" type=\"text/css\" href=\"/css/common.css?20210125185427\" />\\r\\n\\n<link rel=\"stylesheet\" type=\"text/css\" href=\"/css/movie_tablet.css?20210125185427\" />\\n<link rel=\"stylesheet\" type=\"text/css\" href=\"/css/movie_end.css?20210125185427\" />\\r\\n\\r\\n\\n\\n\\n<script type=\"text/javascript\" src=\"/js/deploy/movie.all.js?20210125185427\"></script>\\n\\n\\n\\r\\n</head>\\r\\n<body>\\r\\n\\t<!-- content -->\\r\\n<input type=\"hidden\" name=\"movieCode\" id=\"movieCode\" value=\"37886\"/>\\r\\n<input type=\"hidden\" name=\"onlyActualPointYn\" id=\"onlyActualPointYn\" value=\"N\"/>\\r\\n<input type=\"hidden\" name=\"includeSpoilerYn\" id=\"includeSpoilerYn\" value=\"N\"/>\\r\\n<input type=\"hidden\" name=\"order\" id=\"order\" value=\"sympathyScore\"/>\\r\\n<input type=\"hidde'"
      ]
     },
     "execution_count": 53,
     "metadata": {},
     "output_type": "execute_result"
    }
   ],
   "source": [
    "# CODE\n",
    "response[:1000]"
   ]
  },
  {
   "cell_type": "code",
   "execution_count": 7,
   "metadata": {},
   "outputs": [
    {
     "data": {
      "text/plain": [
       "'\\r\\n\\r\\n\\r\\n\\r\\n<!DOCTYPE html>\\r\\n<html lang=\"ko\">\\r\\n<head>\\r\\n<meta charset=\"utf-8\">\\r\\n<meta http-equiv=\"X-UA-Compatible\" content=\"IE=edge\">\\r\\n<title>네이버 영화</title>\\r\\n\\n\\n\\n\\t\\n\\t\\n\\t\\n\\t\\n\\t\\t<link rel=\"shortcut icon\" href=\"https://ssl.pstatic.net/static/m/movie/icons/naver_movie_favicon.ico\" type=\"image/x-icon\">\\n\\t\\t\\t\\n\\n\\r\\n\\n<link rel=\"stylesheet\" type=\"text/css\" href=\"/css/common.css?20200629181825\" />\\r\\n\\n<link rel=\"stylesheet\" type=\"text/css\" href=\"/css/movie_tablet.css?20200629181825\" />\\n<link rel=\"stylesheet\" type=\"text/css\" href=\"/css/movie_end.css?20200629181825\" />\\r\\n\\r\\n\\n\\n\\n<script type=\"text/javascript\" src=\"/js/deploy/movie.all.js?20200629181825\"></script>\\n\\n\\n\\r\\n</head>\\r\\n<body>\\r\\n\\t<!-- content -->\\r\\n<input type=\"hidden\" name=\"movieCode\" id=\"movieCode\" value=\"37886\"/>\\r\\n<input type=\"hidden\" name=\"onlyActualPointYn\" id=\"onlyActualPointYn\" value=\"N\"/>\\r\\n<input type=\"hidden\" name=\"includeSpoilerYn\" id=\"includeSpoilerYn\" value=\"N\"/>\\r\\n<input type=\"hidden\" name=\"order\" id=\"order\" value=\"sympathyScore\"/>\\r\\n<input type=\"hidde'"
      ]
     },
     "execution_count": 7,
     "metadata": {},
     "output_type": "execute_result"
    }
   ],
   "source": []
  },
  {
   "cell_type": "markdown",
   "metadata": {},
   "source": [
    "**4. response 결과에 따라 적절한 변환 함수를 사용하여 data라는 변수명에 저장합니다.**"
   ]
  },
  {
   "cell_type": "code",
   "execution_count": 56,
   "metadata": {
    "ExecuteTime": {
     "end_time": "2021-02-03T23:48:12.689002Z",
     "start_time": "2021-02-03T23:48:12.667274Z"
    }
   },
   "outputs": [],
   "source": [
    "# CODE\n",
    "data = BeautifulSoup(response, 'html.parser')    "
   ]
  },
  {
   "cell_type": "markdown",
   "metadata": {},
   "source": [
    "**5. 전설적인 댓글평점 '이 영화를 보고 암이 나았습니다.' 에 selector를 사용하여 접근해봅시다.**"
   ]
  },
  {
   "cell_type": "code",
   "execution_count": 58,
   "metadata": {},
   "outputs": [
    {
     "data": {
      "text/plain": [
       "[<span id=\"_filtered_ment_0\">\n",
       " \t\t\t\t\t\t\t\t\t\t\t\t\t\t\n",
       " \t\t\t\t\t\t\t\t\t\t\t\t\t\t\t\n",
       " \t\t\t\t\t\t\t\t\t\t\t\t\t\t\t\n",
       " \t\t\t\t\t\t\t\t\t\t\t\t\t\t\t\t이 영화를 보고 암이 나았습니다. \n",
       " \t\t\t\t\t\t\t\t\t\t\t\t\t\t\t\n",
       " \t\t\t\t\t\t\t\t\t\t\t\t\t\t\n",
       " \t\t\t\t\t\t\t\t\t\t\t\t\t\t\n",
       " \t\t\t\t\t\t\t\t\t\t\t\t\t</span>]"
      ]
     },
     "execution_count": 58,
     "metadata": {},
     "output_type": "execute_result"
    }
   ],
   "source": [
    "# CODE\n",
    "data.select('span#_filtered_ment_0')"
   ]
  },
  {
   "cell_type": "code",
   "execution_count": 42,
   "metadata": {},
   "outputs": [
    {
     "data": {
      "text/plain": [
       "[<span id=\"_filtered_ment_0\">\n",
       " \t\t\t\t\t\t\t\t\t\t\t\t\t\t\n",
       " \t\t\t\t\t\t\t\t\t\t\t\t\t\t\t\n",
       " \t\t\t\t\t\t\t\t\t\t\t\t\t\t\t\n",
       " \t\t\t\t\t\t\t\t\t\t\t\t\t\t\t\t이 영화를 보고 암이 나았습니다. \n",
       " \t\t\t\t\t\t\t\t\t\t\t\t\t\t\t\n",
       " \t\t\t\t\t\t\t\t\t\t\t\t\t\t\n",
       " \t\t\t\t\t\t\t\t\t\t\t\t\t\t\n",
       " \t\t\t\t\t\t\t\t\t\t\t\t\t</span>]"
      ]
     },
     "execution_count": 42,
     "metadata": {},
     "output_type": "execute_result"
    }
   ],
   "source": []
  },
  {
   "cell_type": "markdown",
   "metadata": {},
   "source": [
    "**6. selector로 선택한 항목에서 텍스트만을 추려봅시다. Hint: .strip()**"
   ]
  },
  {
   "cell_type": "code",
   "execution_count": 63,
   "metadata": {},
   "outputs": [
    {
     "data": {
      "text/plain": [
       "'이 영화를 보고 암이 나았습니다.'"
      ]
     },
     "execution_count": 63,
     "metadata": {},
     "output_type": "execute_result"
    }
   ],
   "source": [
    "# CODE\n",
    "data.select('#_filtered_ment_0')[0].text.strip()"
   ]
  },
  {
   "cell_type": "code",
   "execution_count": 43,
   "metadata": {},
   "outputs": [
    {
     "data": {
      "text/plain": [
       "'이 영화를 보고 암이 나았습니다.'"
      ]
     },
     "execution_count": 43,
     "metadata": {},
     "output_type": "execute_result"
    }
   ],
   "source": []
  },
  {
   "cell_type": "markdown",
   "metadata": {},
   "source": [
    "**7. 1페이지의 모든 숫자평점과, 댓글평점을 프린트해 봅시다.**"
   ]
  },
  {
   "cell_type": "code",
   "execution_count": 52,
   "metadata": {},
   "outputs": [
    {
     "name": "stdout",
     "output_type": "stream",
     "text": [
      "[<div class=\"star_score\">\n",
      "<span class=\"st_off\"><span class=\"st_on\" style=\"width:100.0%\"></span></span><em>10</em>\n",
      "</div>, <div class=\"star_score\">\n",
      "<span class=\"st_off\"><span class=\"st_on\" style=\"width:10.0%\"></span></span><em>1</em>\n",
      "</div>, <div class=\"star_score\">\n",
      "<span class=\"st_off\"><span class=\"st_on\" style=\"width:100.0%\"></span></span><em>10</em>\n",
      "</div>, <div class=\"star_score\">\n",
      "<span class=\"st_off\"><span class=\"st_on\" style=\"width:100.0%\"></span></span><em>10</em>\n",
      "</div>, <div class=\"star_score\">\n",
      "<span class=\"st_off\"><span class=\"st_on\" style=\"width:100.0%\"></span></span><em>10</em>\n",
      "</div>, <div class=\"star_score\">\n",
      "<span class=\"st_off\"><span class=\"st_on\" style=\"width:100.0%\"></span></span><em>10</em>\n",
      "</div>, <div class=\"star_score\">\n",
      "<span class=\"st_off\"><span class=\"st_on\" style=\"width:100.0%\"></span></span><em>10</em>\n",
      "</div>, <div class=\"star_score\">\n",
      "<span class=\"st_off\"><span class=\"st_on\" style=\"width:100.0%\"></span></span><em>10</em>\n",
      "</div>, <div class=\"star_score\">\n",
      "<span class=\"st_off\"><span class=\"st_on\" style=\"width:100.0%\"></span></span><em>10</em>\n",
      "</div>, <div class=\"star_score\">\n",
      "<span class=\"st_off\"><span class=\"st_on\" style=\"width:100.0%\"></span></span><em>10</em>\n",
      "</div>, <div class=\"score_reple\">\n",
      "<p>\n",
      "<!-- 스포일러 컨텐츠로 처리되는지 여부 -->\n",
      "<span id=\"_filtered_ment_0\">\r\n",
      "\t\t\t\t\t\t\t\t\t\t\t\t\t\t\r\n",
      "\t\t\t\t\t\t\t\t\t\t\t\t\t\t\t\r\n",
      "\t\t\t\t\t\t\t\t\t\t\t\t\t\t\t\r\n",
      "\t\t\t\t\t\t\t\t\t\t\t\t\t\t\t\t이 영화를 보고 암이 나았습니다. \r\n",
      "\t\t\t\t\t\t\t\t\t\t\t\t\t\t\t\r\n",
      "\t\t\t\t\t\t\t\t\t\t\t\t\t\t\r\n",
      "\t\t\t\t\t\t\t\t\t\t\t\t\t\t\r\n",
      "\t\t\t\t\t\t\t\t\t\t\t\t\t</span>\n",
      "</p>\n",
      "<dl>\n",
      "<dt>\n",
      "<em>\n",
      "<a href=\"#\" onclick=\"javascript:showPointListByNid(7719905, 'after');parent.clickcr(this, 'ara.uid', '', '', event); return false;\" target=\"_top\">\n",
      "<span>maan****</span>\n",
      "</a>\n",
      "</em>\n",
      "<em>2013.07.09 14:25</em>\n",
      "</dt>\n",
      "<dd>\n",
      "<a class=\"go_report2\" href=\"#\" onclick=\"parent.clickcr(this, 'ara.report', '', '', event); common.report('false','maan****', 'DphvWUP+r4dZgDS3p4A7YadQEHDZ8P+Tc/2Srb9HSoU=', '이 영화를 보고 암이 나았습니다. ', '7719905', 'point_after', false);return false;\"><em>신고</em></a>\n",
      "</dd>\n",
      "</dl>\n",
      "</div>, <div class=\"score_reple\">\n",
      "<p>\n",
      "<!-- 스포일러 컨텐츠로 처리되는지 여부 -->\n",
      "<span id=\"_filtered_ment_1\">\r\n",
      "\t\t\t\t\t\t\t\t\t\t\t\t\t\t\r\n",
      "\t\t\t\t\t\t\t\t\t\t\t\t\t\t\t\r\n",
      "\t\t\t\t\t\t\t\t\t\t\t\t\t\t\t\r\n",
      "\t\t\t\t\t\t\t\t\t\t\t\t\t\t\t\t이것은절대1점이아니다11점을주고싶은 내마음이다 \r\n",
      "\t\t\t\t\t\t\t\t\t\t\t\t\t\t\t\r\n",
      "\t\t\t\t\t\t\t\t\t\t\t\t\t\t\r\n",
      "\t\t\t\t\t\t\t\t\t\t\t\t\t\t\r\n",
      "\t\t\t\t\t\t\t\t\t\t\t\t\t</span>\n",
      "</p>\n",
      "<dl>\n",
      "<dt>\n",
      "<em>\n",
      "<a href=\"#\" onclick=\"javascript:showPointListByNid(7706096, 'after');parent.clickcr(this, 'ara.uid', '', '', event); return false;\" target=\"_top\">\n",
      "<span>joke****</span>\n",
      "</a>\n",
      "</em>\n",
      "<em>2013.07.05 01:41</em>\n",
      "</dt>\n",
      "<dd>\n",
      "<a class=\"go_report2\" href=\"#\" onclick=\"parent.clickcr(this, 'ara.report', '', '', event); common.report('false','joke****', 'tYGfcoBLiCRPTYGoOL+h7kvAV5GhzvIrsnu+cSgXBiw=', '이것은절대1점이아니다11점을주고싶은 내마음이다 ', '7706096', 'point_after', false);return false;\"><em>신고</em></a>\n",
      "</dd>\n",
      "</dl>\n",
      "</div>, <div class=\"score_reple\">\n",
      "<p>\n",
      "<!-- 스포일러 컨텐츠로 처리되는지 여부 -->\n",
      "<span id=\"_filtered_ment_2\">\r\n",
      "\t\t\t\t\t\t\t\t\t\t\t\t\t\t\r\n",
      "\t\t\t\t\t\t\t\t\t\t\t\t\t\t\t\r\n",
      "\t\t\t\t\t\t\t\t\t\t\t\t\t\t\t\r\n",
      "\t\t\t\t\t\t\t\t\t\t\t\t\t\t\t\t모니터도 울고 외장하드도 울고 숨어있던 바이러스도 울었다 \r\n",
      "\t\t\t\t\t\t\t\t\t\t\t\t\t\t\t\r\n",
      "\t\t\t\t\t\t\t\t\t\t\t\t\t\t\r\n",
      "\t\t\t\t\t\t\t\t\t\t\t\t\t\t\r\n",
      "\t\t\t\t\t\t\t\t\t\t\t\t\t</span>\n",
      "</p>\n",
      "<dl>\n",
      "<dt>\n",
      "<em>\n",
      "<a href=\"#\" onclick=\"javascript:showPointListByNid(7558782, 'after');parent.clickcr(this, 'ara.uid', '', '', event); return false;\" target=\"_top\">\n",
      "<span>샤브레(dccm****)</span>\n",
      "</a>\n",
      "</em>\n",
      "<em>2013.05.27 20:57</em>\n",
      "</dt>\n",
      "<dd>\n",
      "<a class=\"go_report2\" href=\"#\" onclick=\"parent.clickcr(this, 'ara.report', '', '', event); common.report('false','dccm****', 'VA1Dghj4Ny2EOQLazGQK6ADBDouL04zhMrfwhjeaYCU=', '모니터도 울고 외장하드도 울고 숨어있던 바이러스도 울었다 ', '7558782', 'point_after', false);return false;\"><em>신고</em></a>\n",
      "</dd>\n",
      "</dl>\n",
      "</div>, <div class=\"score_reple\">\n",
      "<p>\n",
      "<!-- 스포일러 컨텐츠로 처리되는지 여부 -->\n",
      "<span id=\"_filtered_ment_3\">\r\n",
      "\t\t\t\t\t\t\t\t\t\t\t\t\t\t\r\n",
      "\t\t\t\t\t\t\t\t\t\t\t\t\t\t\t\r\n",
      "\t\t\t\t\t\t\t\t\t\t\t\t\t\t\t\r\n",
      "\t\t\t\t\t\t\t\t\t\t\t\t\t\t\t\t당신이 이 영화를 보지 않았다면  아직 살아있을 이유 하나를 간직하고 있는 것이다. \r\n",
      "\t\t\t\t\t\t\t\t\t\t\t\t\t\t\t\r\n",
      "\t\t\t\t\t\t\t\t\t\t\t\t\t\t\r\n",
      "\t\t\t\t\t\t\t\t\t\t\t\t\t\t\r\n",
      "\t\t\t\t\t\t\t\t\t\t\t\t\t</span>\n",
      "</p>\n",
      "<dl>\n",
      "<dt>\n",
      "<em>\n",
      "<a href=\"#\" onclick=\"javascript:showPointListByNid(7582795, 'after');parent.clickcr(this, 'ara.uid', '', '', event); return false;\" target=\"_top\">\n",
      "<span>그라운드(hank****)</span>\n",
      "</a>\n",
      "</em>\n",
      "<em>2013.06.05 18:20</em>\n",
      "</dt>\n",
      "<dd>\n",
      "<a class=\"go_report2\" href=\"#\" onclick=\"parent.clickcr(this, 'ara.report', '', '', event); common.report('false','hank****', 'aaCer06vYziIOfx4/r7EJK8aIbt3T6FYWHGP12lAKzs=', '당신이 이 영화를 보지 않았다면  아직 살아있을 이유 하나를 간직하고 있는 것이다. ', '7582795', 'point_after', false);return false;\"><em>신고</em></a>\n",
      "</dd>\n",
      "</dl>\n",
      "</div>, <div class=\"score_reple\">\n",
      "<p>\n",
      "<!-- 스포일러 컨텐츠로 처리되는지 여부 -->\n",
      "<span id=\"_filtered_ment_4\">\r\n",
      "\t\t\t\t\t\t\t\t\t\t\t\t\t\t\r\n",
      "\t\t\t\t\t\t\t\t\t\t\t\t\t\t\t\r\n",
      "\t\t\t\t\t\t\t\t\t\t\t\t\t\t\t\r\n",
      "\t\t\t\t\t\t\t\t\t\t\t\t\t\t\t\t영화계엔 BC와 AC가 있다. Before Clementain, After Clementain... \r\n",
      "\t\t\t\t\t\t\t\t\t\t\t\t\t\t\t\r\n",
      "\t\t\t\t\t\t\t\t\t\t\t\t\t\t\r\n",
      "\t\t\t\t\t\t\t\t\t\t\t\t\t\t\r\n",
      "\t\t\t\t\t\t\t\t\t\t\t\t\t</span>\n",
      "</p>\n",
      "<dl>\n",
      "<dt>\n",
      "<em>\n",
      "<a href=\"#\" onclick=\"javascript:showPointListByNid(7645656, 'after');parent.clickcr(this, 'ara.uid', '', '', event); return false;\" target=\"_top\">\n",
      "<span>Kyle(pool****)</span>\n",
      "</a>\n",
      "</em>\n",
      "<em>2013.06.16 01:38</em>\n",
      "</dt>\n",
      "<dd>\n",
      "<a class=\"go_report2\" href=\"#\" onclick=\"parent.clickcr(this, 'ara.report', '', '', event); common.report('false','pool****', 'Lwu8Od8ryRM4DoQDjV7NDcCYclywzaSWxNYMjWKpBqo=', '영화계엔 BC와 AC가 있다. Before Clementain, After Clementain... ', '7645656', 'point_after', false);return false;\"><em>신고</em></a>\n",
      "</dd>\n",
      "</dl>\n",
      "</div>, <div class=\"score_reple\">\n",
      "<p>\n",
      "<!-- 스포일러 컨텐츠로 처리되는지 여부 -->\n",
      "<span id=\"_filtered_ment_5\">\r\n",
      "\t\t\t\t\t\t\t\t\t\t\t\t\t\t\r\n",
      "\t\t\t\t\t\t\t\t\t\t\t\t\t\t\t\r\n",
      "\t\t\t\t\t\t\t\t\t\t\t\t\t\t\t\r\n",
      "\t\t\t\t\t\t\t\t\t\t\t\t\t\t\t\t남친 집에서 클레멘타인 DVD를 발견했고, 결혼을 결심했습니다. \r\n",
      "\t\t\t\t\t\t\t\t\t\t\t\t\t\t\t\r\n",
      "\t\t\t\t\t\t\t\t\t\t\t\t\t\t\r\n",
      "\t\t\t\t\t\t\t\t\t\t\t\t\t\t\r\n",
      "\t\t\t\t\t\t\t\t\t\t\t\t\t</span>\n",
      "</p>\n",
      "<dl>\n",
      "<dt>\n",
      "<em>\n",
      "<a href=\"#\" onclick=\"javascript:showPointListByNid(8519064, 'after');parent.clickcr(this, 'ara.uid', '', '', event); return false;\" target=\"_top\">\n",
      "<span>미단스(mida****)</span>\n",
      "</a>\n",
      "</em>\n",
      "<em>2014.02.18 17:00</em>\n",
      "</dt>\n",
      "<dd>\n",
      "<a class=\"go_report2\" href=\"#\" onclick=\"parent.clickcr(this, 'ara.report', '', '', event); common.report('false','mida****', '+sVIj4dG3+w2Qyq4DTPN/J6wkbGXnFNXjvUWK00biEY=', '남친 집에서 클레멘타인 DVD를 발견했고, 결혼을 결심했습니다. ', '8519064', 'point_after', false);return false;\"><em>신고</em></a>\n",
      "</dd>\n",
      "</dl>\n",
      "</div>, <div class=\"score_reple\">\n",
      "<p>\n",
      "<!-- 스포일러 컨텐츠로 처리되는지 여부 -->\n",
      "<span id=\"_filtered_ment_6\">\r\n",
      "\t\t\t\t\t\t\t\t\t\t\t\t\t\t\r\n",
      "\t\t\t\t\t\t\t\t\t\t\t\t\t\t\t\r\n",
      "\t\t\t\t\t\t\t\t\t\t\t\t\t\t\t\r\n",
      "\t\t\t\t\t\t\t\t\t\t\t\t\t\t\t\t드디어 보았네요. 나이 40대 중반에 이런 감동을 느낄 수 있음에 스스로도 대견한 생각이 듭니다. 먼 훗날 제 아이들도 이 영화를 보고 저와 같은 감동을 느끼길 바라는 건 그저 바램이겠지요? \r\n",
      "\t\t\t\t\t\t\t\t\t\t\t\t\t\t\t\r\n",
      "\t\t\t\t\t\t\t\t\t\t\t\t\t\t\r\n",
      "\t\t\t\t\t\t\t\t\t\t\t\t\t\t\r\n",
      "\t\t\t\t\t\t\t\t\t\t\t\t\t</span>\n",
      "</p>\n",
      "<dl>\n",
      "<dt>\n",
      "<em>\n",
      "<a href=\"#\" onclick=\"javascript:showPointListByNid(7717821, 'after');parent.clickcr(this, 'ara.uid', '', '', event); return false;\" target=\"_top\">\n",
      "<span>통달선생(hars****)</span>\n",
      "</a>\n",
      "</em>\n",
      "<em>2013.07.08 17:14</em>\n",
      "</dt>\n",
      "<dd>\n",
      "<a class=\"go_report2\" href=\"#\" onclick=\"parent.clickcr(this, 'ara.report', '', '', event); common.report('false','hars****', 'DQyo7fXpKoltaYffBOSH9uIHmWsETHVjXiq9FuIgVEw=', '드디어 보았네요. 나이 40대 중반에 이런 감동을 느낄 수 있음에 스스로도 대견한 생각이 듭니다. 먼 훗날 제 아이들도 이 영화를 보고 저와 같은 감동을 느끼길 바라는 건 그저 바램이겠지요? ', '7717821', 'point_after', false);return false;\"><em>신고</em></a>\n",
      "</dd>\n",
      "</dl>\n",
      "</div>, <div class=\"score_reple\">\n",
      "<p>\n",
      "<!-- 스포일러 컨텐츠로 처리되는지 여부 -->\n",
      "<span id=\"_filtered_ment_7\">\r\n",
      "\t\t\t\t\t\t\t\t\t\t\t\t\t\t\r\n",
      "\t\t\t\t\t\t\t\t\t\t\t\t\t\t\t\r\n",
      "\t\t\t\t\t\t\t\t\t\t\t\t\t\t\t\r\n",
      "\t\t\t\t\t\t\t\t\t\t\t\t\t\t\t\t평점깍아내리는 낚시글 몇개있는데 제발그만해라 이기적인새끼들아좋은건 나누는거다 \r\n",
      "\t\t\t\t\t\t\t\t\t\t\t\t\t\t\t\r\n",
      "\t\t\t\t\t\t\t\t\t\t\t\t\t\t\r\n",
      "\t\t\t\t\t\t\t\t\t\t\t\t\t\t\r\n",
      "\t\t\t\t\t\t\t\t\t\t\t\t\t</span>\n",
      "</p>\n",
      "<dl>\n",
      "<dt>\n",
      "<em>\n",
      "<a href=\"#\" onclick=\"javascript:showPointListByNid(7660079, 'after');parent.clickcr(this, 'ara.uid', '', '', event); return false;\" target=\"_top\">\n",
      "<span>와라이탁(qna0****)</span>\n",
      "</a>\n",
      "</em>\n",
      "<em>2013.06.20 18:36</em>\n",
      "</dt>\n",
      "<dd>\n",
      "<a class=\"go_report2\" href=\"#\" onclick=\"parent.clickcr(this, 'ara.report', '', '', event); common.report('false','qna0****', '0R3tMxQ1sCyVt6YvqGKHZip9kp0XuZH83zSHPl9T6PU=', '평점깍아내리는 낚시글 몇개있는데 제발그만해라 이기적인새끼들아좋은건 나누는거다 ', '7660079', 'point_after', false);return false;\"><em>신고</em></a>\n",
      "</dd>\n",
      "</dl>\n",
      "</div>, <div class=\"score_reple\">\n",
      "<p>\n",
      "<!-- 스포일러 컨텐츠로 처리되는지 여부 -->\n",
      "<span id=\"_filtered_ment_8\">\r\n",
      "\t\t\t\t\t\t\t\t\t\t\t\t\t\t\r\n",
      "\t\t\t\t\t\t\t\t\t\t\t\t\t\t\t\r\n",
      "\t\t\t\t\t\t\t\t\t\t\t\t\t\t\t\r\n",
      "\t\t\t\t\t\t\t\t\t\t\t\t\t\t\t\t장난으로 쓰지마라... 본인은 2004년에 실제로 극장에서 이 영화를 봤다 \r\n",
      "\t\t\t\t\t\t\t\t\t\t\t\t\t\t\t\r\n",
      "\t\t\t\t\t\t\t\t\t\t\t\t\t\t\r\n",
      "\t\t\t\t\t\t\t\t\t\t\t\t\t\t\r\n",
      "\t\t\t\t\t\t\t\t\t\t\t\t\t</span>\n",
      "</p>\n",
      "<dl>\n",
      "<dt>\n",
      "<em>\n",
      "<a href=\"#\" onclick=\"javascript:showPointListByNid(8922451, 'after');parent.clickcr(this, 'ara.uid', '', '', event); return false;\" target=\"_top\">\n",
      "<span>소이탄(tjrg****)</span>\n",
      "</a>\n",
      "</em>\n",
      "<em>2014.07.17 00:31</em>\n",
      "</dt>\n",
      "<dd>\n",
      "<a class=\"go_report2\" href=\"#\" onclick=\"parent.clickcr(this, 'ara.report', '', '', event); common.report('false','tjrg****', 'vLCdXLD2BWBf5YdM7xZtX3M/CNAG2wYBhyrh1GX2hwI=', '장난으로 쓰지마라... 본인은 2004년에 실제로 극장에서 이 영화를 봤다 ', '8922451', 'point_after', false);return false;\"><em>신고</em></a>\n",
      "</dd>\n",
      "</dl>\n",
      "</div>, <div class=\"score_reple\">\n",
      "<p>\n",
      "<!-- 스포일러 컨텐츠로 처리되는지 여부 -->\n",
      "<span id=\"_filtered_ment_9\">\n",
      "<span class=\"_unfold_ment\" id=\"_unfold_ment9\">\n",
      "<a data-src=\"프로포즈 선물로 다이아반지 대신 클레멘타인 파일을 USB에담아 목걸이로 만들어 그녀 목에 걸어주었다. 눈물로 대신 대답한 그녀...그리고 2세이름은 그녀의 의견을 반영해 이동준과 스티븐시갈의 이름을 딴 이동갈로 지을 예정이다. \" href=\"javascript:void(0);\" onclick=\"unfoldPointMent(this);\">\r\n",
      "\t\t\t\t\t\t\t\t\t\t\t\t\t\t\t\t\t\t프로포즈 선물로 다이아반지 대신 클레멘타인 파일을 USB에담아 목걸이로 만들어 그녀 목에 걸어주었다. 눈물로 대신 대답한 그녀...그리고 2세이름은 그녀의 의견을 반영해 이동준과 스티븐시갈의 이름을 딴 이동갈로 지을...\r\n",
      "\t\t\t\t\t\t\t\t\t\t\t\t\t\t\t\t\t</a>\n",
      "</span>\n",
      "</span>\n",
      "</p>\n",
      "<dl>\n",
      "<dt>\n",
      "<em>\n",
      "<a href=\"#\" onclick=\"javascript:showPointListByNid(8924525, 'after');parent.clickcr(this, 'ara.uid', '', '', event); return false;\" target=\"_top\">\n",
      "<span>잉잉(beat****)</span>\n",
      "</a>\n",
      "</em>\n",
      "<em>2014.07.17 14:49</em>\n",
      "</dt>\n",
      "<dd>\n",
      "<a class=\"go_report2\" href=\"#\" onclick=\"parent.clickcr(this, 'ara.report', '', '', event); common.report('false','beat****', 'A9WKVDJY9DRnuegbqj4VgIt9SMeNHBuIlpQ4+3aY9Iw=', '프로포즈 선물로 다이아반지 대신 클레멘타인 파일을 USB에담아 목걸이로 만들어 그녀 목에 걸어주었다. 눈물로 대신 대답한 그녀...그리고 2세이름은 그녀의 의견을 반영해 이동준과 스티븐시갈의 이름을 딴 이동갈로 지을 예정이다. ', '8924525', 'point_after', false);return false;\"><em>신고</em></a>\n",
      "</dd>\n",
      "</dl>\n",
      "</div>]\n"
     ]
    }
   ],
   "source": [
    "# CODE\n",
    "star = []\n",
    "cmt = []\n",
    "for i in html.select('.star_score'):\n",
    "    star.append(i)\n",
    "for j in html.select('.score_reple'):\n",
    "    star.append(j)\n",
    "    \n",
    "print(star)"
   ]
  },
  {
   "cell_type": "code",
   "execution_count": 65,
   "metadata": {},
   "outputs": [
    {
     "data": {
      "text/plain": [
       "[<em>10</em>,\n",
       " <em>1</em>,\n",
       " <em>10</em>,\n",
       " <em>10</em>,\n",
       " <em>10</em>,\n",
       " <em>10</em>,\n",
       " <em>10</em>,\n",
       " <em>10</em>,\n",
       " <em>10</em>,\n",
       " <em>10</em>]"
      ]
     },
     "execution_count": 65,
     "metadata": {},
     "output_type": "execute_result"
    }
   ],
   "source": [
    "data.select('div.star_score em')"
   ]
  },
  {
   "cell_type": "code",
   "execution_count": 67,
   "metadata": {},
   "outputs": [
    {
     "name": "stdout",
     "output_type": "stream",
     "text": [
      "10 이 영화를 보고 암이 나았습니다.\n",
      "1 이것은절대1점이아니다11점을주고싶은 내마음이다\n",
      "10 모니터도 울고 외장하드도 울고 숨어있던 바이러스도 울었다\n",
      "10 당신이 이 영화를 보지 않았다면  아직 살아있을 이유 하나를 간직하고 있는 것이다.\n",
      "10 영화계엔 BC와 AC가 있다. Before Clementain, After Clementain...\n",
      "10 남친 집에서 클레멘타인 DVD를 발견했고, 결혼을 결심했습니다.\n",
      "10 드디어 보았네요. 나이 40대 중반에 이런 감동을 느낄 수 있음에 스스로도 대견한 생각이 듭니다. 먼 훗날 제 아이들도 이 영화를 보고 저와 같은 감동을 느끼길 바라는 건 그저 바램이겠지요?\n",
      "10 평점깍아내리는 낚시글 몇개있는데 제발그만해라 이기적인새끼들아좋은건 나누는거다\n",
      "10 장난으로 쓰지마라... 본인은 2004년에 실제로 극장에서 이 영화를 봤다\n",
      "10 프로포즈 선물로 다이아반지 대신 클레멘타인 파일을 USB에담아 목걸이로 만들어 그녀 목에 걸어주었다. 눈물로 대신 대답한 그녀...그리고 2세이름은 그녀의 의견을 반영해 이동준과 스티븐시갈의 이름을 딴 이동갈로 지을...\n"
     ]
    }
   ],
   "source": [
    "for i in range(10):\n",
    "    print(data.select('div.star_score em')[i].text, data.select(f'span#_filtered_ment_{i}')[0].text.strip())"
   ]
  },
  {
   "cell_type": "code",
   "execution_count": 80,
   "metadata": {},
   "outputs": [
    {
     "name": "stdout",
     "output_type": "stream",
     "text": [
      "10 이 영화를 보고 암이 나았습니다.\n",
      "1 이것은절대1점이아니다11점을주고싶은 내마음이다\n",
      "10 모니터도 울고 외장하드도 울고 숨어있던 바이러스도 울었다\n",
      "10 당신이 이 영화를 보지 않았다면  아직 살아있을 이유 하나를 간직하고 있는 것이다.\n",
      "10 영화계엔 BC와 AC가 있다. Before Clementain, After Clementain...\n",
      "10 남친 집에서 클레멘타인 DVD를 발견했고, 결혼을 결심했습니다.\n",
      "10 드디어 보았네요. 나이 40대 중반에 이런 감동을 느낄 수 있음에 스스로도 대견한 생각이 듭니다. 먼 훗날 제 아이들도 이 영화를 보고 저와 같은 감동을 느끼길 바라는 건 그저 바램이겠지요?\n",
      "10 평점깍아내리는 낚시글 몇개있는데 제발그만해라 이기적인새끼들아좋은건 나누는거다\n",
      "10 장난으로 쓰지마라... 본인은 2004년에 실제로 극장에서 이 영화를 봤다\n",
      "10 프로포즈 선물로 다이아반지 대신 클레멘타인 파일을 USB에담아 목걸이로 만들어 그녀 목에 걸어주었다. 눈물로 대신 대답한 그녀...그리고 2세이름은 그녀의 의견을 반영해 이동준과 스티븐시갈의 이름을 딴 이동갈로 지을...\n"
     ]
    }
   ],
   "source": []
  },
  {
   "cell_type": "markdown",
   "metadata": {},
   "source": [
    "**8. 1페이지의 숫자평점과 댓글평점을 데이터프레임으로 만들어봅시다.**"
   ]
  },
  {
   "cell_type": "code",
   "execution_count": null,
   "metadata": {
    "ExecuteTime": {
     "end_time": "2021-02-04T00:19:38.667953Z",
     "start_time": "2021-02-04T00:19:38.643314Z"
    }
   },
   "outputs": [],
   "source": [
    "# CODE\n",
    "\n",
    "# 저장할 데이터프레임과 리스트 생성\n",
    "df = pd.DataFrame(columns=['star', 'reply'])\n",
    "star_list = []\n",
    "reply_list = []\n",
    "\n",
    "# 반복문을 사용하여 리스트에 추출정보를 저장\n",
    "for i in range(10):\n",
    "    star_list.append(data.select('div.star_score em')[i].text)\n",
    "    reply_list.append(data.select(f'span#_filtered_ment_{i}')[0].text.strip())\n",
    "\n",
    "# 리스트정보를 데이터프레임에 저장\n",
    "df['star'] = star_list\n",
    "df['reply'] = reply_list\n",
    "df"
   ]
  },
  {
   "cell_type": "code",
   "execution_count": 85,
   "metadata": {},
   "outputs": [
    {
     "data": {
      "text/html": [
       "<div>\n",
       "<style scoped>\n",
       "    .dataframe tbody tr th:only-of-type {\n",
       "        vertical-align: middle;\n",
       "    }\n",
       "\n",
       "    .dataframe tbody tr th {\n",
       "        vertical-align: top;\n",
       "    }\n",
       "\n",
       "    .dataframe thead th {\n",
       "        text-align: right;\n",
       "    }\n",
       "</style>\n",
       "<table border=\"1\" class=\"dataframe\">\n",
       "  <thead>\n",
       "    <tr style=\"text-align: right;\">\n",
       "      <th></th>\n",
       "      <th>star</th>\n",
       "      <th>reply</th>\n",
       "    </tr>\n",
       "  </thead>\n",
       "  <tbody>\n",
       "    <tr>\n",
       "      <th>0</th>\n",
       "      <td>10</td>\n",
       "      <td>이 영화를 보고 암이 나았습니다.</td>\n",
       "    </tr>\n",
       "    <tr>\n",
       "      <th>1</th>\n",
       "      <td>1</td>\n",
       "      <td>이것은절대1점이아니다11점을주고싶은 내마음이다</td>\n",
       "    </tr>\n",
       "    <tr>\n",
       "      <th>2</th>\n",
       "      <td>10</td>\n",
       "      <td>모니터도 울고 외장하드도 울고 숨어있던 바이러스도 울었다</td>\n",
       "    </tr>\n",
       "    <tr>\n",
       "      <th>3</th>\n",
       "      <td>10</td>\n",
       "      <td>당신이 이 영화를 보지 않았다면  아직 살아있을 이유 하나를 간직하고 있는 것이다.</td>\n",
       "    </tr>\n",
       "    <tr>\n",
       "      <th>4</th>\n",
       "      <td>10</td>\n",
       "      <td>영화계엔 BC와 AC가 있다. Before Clementain, After Clem...</td>\n",
       "    </tr>\n",
       "    <tr>\n",
       "      <th>5</th>\n",
       "      <td>10</td>\n",
       "      <td>남친 집에서 클레멘타인 DVD를 발견했고, 결혼을 결심했습니다.</td>\n",
       "    </tr>\n",
       "    <tr>\n",
       "      <th>6</th>\n",
       "      <td>10</td>\n",
       "      <td>드디어 보았네요. 나이 40대 중반에 이런 감동을 느낄 수 있음에 스스로도 대견한 ...</td>\n",
       "    </tr>\n",
       "    <tr>\n",
       "      <th>7</th>\n",
       "      <td>10</td>\n",
       "      <td>평점깍아내리는 낚시글 몇개있는데 제발그만해라 이기적인새끼들아좋은건 나누는거다</td>\n",
       "    </tr>\n",
       "    <tr>\n",
       "      <th>8</th>\n",
       "      <td>10</td>\n",
       "      <td>장난으로 쓰지마라... 본인은 2004년에 실제로 극장에서 이 영화를 봤다</td>\n",
       "    </tr>\n",
       "    <tr>\n",
       "      <th>9</th>\n",
       "      <td>10</td>\n",
       "      <td>프로포즈 선물로 다이아반지 대신 클레멘타인 파일을 USB에담아 목걸이로 만들어 그녀...</td>\n",
       "    </tr>\n",
       "  </tbody>\n",
       "</table>\n",
       "</div>"
      ],
      "text/plain": [
       "  star                                              reply\n",
       "0   10                                 이 영화를 보고 암이 나았습니다.\n",
       "1    1                          이것은절대1점이아니다11점을주고싶은 내마음이다\n",
       "2   10                    모니터도 울고 외장하드도 울고 숨어있던 바이러스도 울었다\n",
       "3   10     당신이 이 영화를 보지 않았다면  아직 살아있을 이유 하나를 간직하고 있는 것이다.\n",
       "4   10  영화계엔 BC와 AC가 있다. Before Clementain, After Clem...\n",
       "5   10                남친 집에서 클레멘타인 DVD를 발견했고, 결혼을 결심했습니다.\n",
       "6   10  드디어 보았네요. 나이 40대 중반에 이런 감동을 느낄 수 있음에 스스로도 대견한 ...\n",
       "7   10         평점깍아내리는 낚시글 몇개있는데 제발그만해라 이기적인새끼들아좋은건 나누는거다\n",
       "8   10          장난으로 쓰지마라... 본인은 2004년에 실제로 극장에서 이 영화를 봤다\n",
       "9   10  프로포즈 선물로 다이아반지 대신 클레멘타인 파일을 USB에담아 목걸이로 만들어 그녀..."
      ]
     },
     "execution_count": 85,
     "metadata": {},
     "output_type": "execute_result"
    }
   ],
   "source": []
  },
  {
   "cell_type": "markdown",
   "metadata": {},
   "source": [
    "**10. 우리가 수집한 데이터를 바탕으로 이 영화를 추천할 수 있을까요? 여러분의 생각은 어떠한가요?**"
   ]
  }
 ],
 "metadata": {
  "kernelspec": {
   "display_name": "Python 3",
   "language": "python",
   "name": "python3"
  },
  "language_info": {
   "codemirror_mode": {
    "name": "ipython",
    "version": 3
   },
   "file_extension": ".py",
   "mimetype": "text/x-python",
   "name": "python",
   "nbconvert_exporter": "python",
   "pygments_lexer": "ipython3",
   "version": "3.8.5"
  },
  "toc": {
   "base_numbering": 1,
   "nav_menu": {},
   "number_sections": true,
   "sideBar": true,
   "skip_h1_title": true,
   "title_cell": "Table of Contents",
   "title_sidebar": "Contents",
   "toc_cell": false,
   "toc_position": {},
   "toc_section_display": true,
   "toc_window_display": false
  }
 },
 "nbformat": 4,
 "nbformat_minor": 2
}
