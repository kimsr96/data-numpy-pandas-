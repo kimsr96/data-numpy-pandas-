{
 "cells": [
  {
   "cell_type": "markdown",
   "metadata": {
    "id": "UsZSmAj47LXm",
    "slideshow": {
     "slide_type": "slide"
    }
   },
   "source": [
    "# **데이터 크롤링**"
   ]
  },
  {
   "cell_type": "markdown",
   "metadata": {
    "id": "qGMeSCoV7QTQ",
    "slideshow": {
     "slide_type": "slide"
    }
   },
   "source": [
    "## **1. 크롤링이란?**\n",
    "    크롤러(crawler)는 자동화된 방법으로 웹을 탐색하는 컴퓨터 프로그램\n",
    "\n",
    "    '웹 크롤링'(web crawling)??\n",
    "    \n",
    "    '데이터 크롤링'(data crawling)!!"
   ]
  },
  {
   "cell_type": "markdown",
   "metadata": {
    "id": "WboqZ6A47Yqe",
    "slideshow": {
     "slide_type": "slide"
    }
   },
   "source": [
    "    우리는 매일 크롤러도 사용하고 있습니다."
   ]
  },
  {
   "cell_type": "markdown",
   "metadata": {
    "id": "5PfW0HG17td5",
    "slideshow": {
     "slide_type": "slide"
    }
   },
   "source": [
    "## **2. 웹 크롤링**\n",
    "    웹 서비스 내 정보를 수집하는 일\n",
    "    \n",
    "    필요한 정보가 있다면?\n",
    "    API 확인 -> 없으면 직접 크롤링\n",
    "    \n",
    "    다만 서비스 제공자의 입장에서는??"
   ]
  },
  {
   "cell_type": "markdown",
   "metadata": {
    "id": "e0ITGMAN70Da",
    "slideshow": {
     "slide_type": "slide"
    }
   },
   "source": [
    "### 웹 서핑을 하는 의식의 흐름\n",
    "    브라우저 오픈\n",
    "    원하는 인터넷페이지 주소 입력\n",
    "    화면이 열리면 찾고자 하는 정보를 스크롤 하면서 찾기\n",
    "    문자, 그림, 동영상 조회"
   ]
  },
  {
   "cell_type": "markdown",
   "metadata": {
    "id": "AWcggzcG728P",
    "slideshow": {
     "slide_type": "slide"
    }
   },
   "source": [
    "### 웹 크롤링 하는 의식의 흐름\n",
    "    정보를 가져오고자 하는 url 정의\n",
    "    url 정보로 requests로 정보 요청\n",
    "    text 정보를 html로 변환\n",
    "    html에서 우리가 필요한 정보만 선별"
   ]
  },
  {
   "cell_type": "markdown",
   "metadata": {
    "id": "XT464CpR75Uh",
    "slideshow": {
     "slide_type": "slide"
    }
   },
   "source": [
    "### 웹 크롤링을 위해 BeautifulSoup 사용\n",
    "    requests는 요청을 받기는 하지만 text로만 받음\n",
    "    API는 통신을 위해 정형화 된 데이터 형태의 text\n",
    "    우리가 원하는 데이터로 가공하기 위해 편의상 html로 변환\n",
    "    text를 html로 변환하는 모듈이 beautifulSoup"
   ]
  },
  {
   "cell_type": "markdown",
   "metadata": {
    "id": "5j1oR5fO78FW",
    "slideshow": {
     "slide_type": "slide"
    }
   },
   "source": [
    "### 간단한 데이터 크롤링으로 기본 개념잡기"
   ]
  },
  {
   "cell_type": "code",
   "execution_count": 3,
   "metadata": {
    "ExecuteTime": {
     "end_time": "2021-02-03T02:35:06.532637Z",
     "start_time": "2021-02-03T02:35:06.312281Z"
    }
   },
   "outputs": [
    {
     "data": {
      "text/plain": [
       "[<img alt=\"\" height=\"49\" src=\"https://static-whale.pstatic.net/main/img_darkmode@2x.png\" style=\"padding-left: 48px;\" width=\"303\"/>,\n",
       " <img alt=\"한국수어의 날\" class=\"special_img\" height=\"160\" src=\"https://s.pstatic.net/static/www/mobile/edit/2021/0202/mobile_19413044811.gif\" width=\"415\"/>,\n",
       " <img alt=\"한국수어의 날\" class=\"special_img_fold\" height=\"60\" src=\"https://s.pstatic.net/static/www/mobile/edit/2021/0202/mobile_194148164738.png\" width=\"58\"/>,\n",
       " <img alt=\"동아일보\" class=\"news_logo\" height=\"20\" src=\"https://s.pstatic.net/static/newsstand/2020/logo/light/0604/020.png\"/>,\n",
       " <img alt=\"국민일보\" class=\"news_logo\" height=\"20\" src=\"https://s.pstatic.net/static/newsstand/2020/logo/light/0604/005.png\"/>,\n",
       " <img alt=\"세계일보\" class=\"news_logo\" height=\"20\" src=\"https://s.pstatic.net/static/newsstand/2020/logo/light/0604/022.png\"/>,\n",
       " <img alt=\"조선일보\" class=\"news_logo\" height=\"20\" src=\"https://s.pstatic.net/static/newsstand/up/2020/0903/nsd185255316.png\"/>,\n",
       " <img alt=\"아시아경제\" class=\"news_logo\" height=\"20\" src=\"https://s.pstatic.net/static/newsstand/2020/logo/light/0604/277.png\"/>,\n",
       " <img alt=\"블로터\" class=\"news_logo\" height=\"20\" src=\"https://s.pstatic.net/static/newsstand/2020/logo/light/0604/293.png\"/>,\n",
       " <img alt=\"프레시안\" class=\"news_logo\" height=\"20\" src=\"https://s.pstatic.net/static/newsstand/2020/logo/light/0604/002.png\"/>,\n",
       " <img alt=\"YTN\" class=\"news_logo\" height=\"20\" src=\"https://s.pstatic.net/static/newsstand/2020/logo/light/0604/052.png\"/>,\n",
       " <img alt=\"머니투데이\" class=\"news_logo\" height=\"20\" src=\"https://s.pstatic.net/static/newsstand/2020/logo/light/0604/008.png\"/>,\n",
       " <img alt=\"한국경제\" class=\"news_logo\" height=\"20\" src=\"https://s.pstatic.net/static/newsstand/2020/logo/light/0604/015.png\"/>,\n",
       " <img alt=\"지지통신\" class=\"news_logo\" height=\"20\" src=\"https://s.pstatic.net/static/newsstand/2020/logo/light/0604/376.png\"/>,\n",
       " <img alt=\"코리아헤럴드\" class=\"news_logo\" height=\"20\" src=\"https://s.pstatic.net/static/newsstand/2020/logo/light/0604/044.png\"/>,\n",
       " <img alt=\"MBC\" class=\"news_logo\" height=\"20\" src=\"https://s.pstatic.net/static/newsstand/2020/logo/light/0604/214.png\"/>,\n",
       " <img alt=\"스포츠서울\" class=\"news_logo\" height=\"20\" src=\"https://s.pstatic.net/static/newsstand/up/2020/0708/nsd94830278.png\"/>,\n",
       " <img alt=\"이데일리\" class=\"news_logo\" height=\"20\" src=\"https://s.pstatic.net/static/newsstand/2020/logo/light/0604/018.png\"/>,\n",
       " <img alt=\"이코노미스트\" class=\"news_logo\" height=\"20\" src=\"https://s.pstatic.net/static/newsstand/2020/logo/light/0604/243.png\"/>,\n",
       " <img alt=\"뉴스컬처\" class=\"news_logo\" height=\"20\" src=\"https://s.pstatic.net/static/newsstand/2020/logo/light/0604/912.png\"/>,\n",
       " <img alt=\"에너지경제\" class=\"news_logo\" height=\"20\" src=\"https://s.pstatic.net/static/newsstand/2020/logo/light/0604/963.png\"/>,\n",
       " <img alt=\"이투데이\" class=\"news_logo\" height=\"20\" src=\"https://s.pstatic.net/static/newsstand/2020/logo/light/0604/922.png\"/>,\n",
       " <img alt=\"스포츠Q\" class=\"news_logo\" height=\"20\" src=\"https://s.pstatic.net/static/newsstand/2020/logo/light/0604/802.png\"/>,\n",
       " <img alt=\"에이블뉴스\" class=\"news_logo\" height=\"20\" src=\"https://s.pstatic.net/static/newsstand/2020/logo/light/0604/328.png\"/>,\n",
       " <img alt=\"CNB뉴스\" class=\"news_logo\" height=\"20\" src=\"https://s.pstatic.net/static/newsstand/2020/logo/light/0604/954.png\"/>,\n",
       " <img alt=\"시사저널\" class=\"news_logo\" height=\"20\" src=\"https://s.pstatic.net/static/newsstand/2020/logo/light/0604/135.png\"/>,\n",
       " <img alt=\"뉴스엔\" class=\"news_logo\" height=\"20\" src=\"https://s.pstatic.net/static/newsstand/2020/logo/light/0604/447.png\"/>,\n",
       " <img alt=\"EP.127 : 귀여운데 열심히까지 하니 성공만 하지!!!!!\" data-src=\"https://s.pstatic.net/static/www/mobile/edit/2021/0202/cropImg_728x360_54197004942984212.jpeg\" height=\"180\" src=\"https://s.pstatic.net/static/www/mobile/edit/2021/0202/cropImg_728x360_54197004942984212.jpeg\" width=\"364\"/>,\n",
       " <img alt=\"NCT 도영이의 🐰🎂 도크 콘서트 Live 🎙💚\" data-src=\"https://s.pstatic.net/static/www/mobile/edit/2021/0202/cropImg_196x196_54197210446280288.jpeg\" height=\"98\" src=\"https://s.pstatic.net/static/www/mobile/edit/2021/0202/cropImg_196x196_54197210446280288.jpeg\" width=\"98\"/>,\n",
       " <img alt=\"(여자)아이들 - I-TALK #83: '화(火花)' 첫방 비하인드\" data-src=\"https://s.pstatic.net/static/www/mobile/edit/2021/0202/cropImg_196x196_54197384146200071.jpeg\" height=\"98\" src=\"https://s.pstatic.net/static/www/mobile/edit/2021/0202/cropImg_196x196_54197384146200071.jpeg\" width=\"98\"/>,\n",
       " <img alt=\"인기 웹소설이 드라마로!\" data-src=\"https://s.pstatic.net/static/www/mobile/edit/2021/0113/cropImg_196x196_52486944494831152.png\" height=\"98\" src=\"https://s.pstatic.net/static/www/mobile/edit/2021/0113/cropImg_196x196_52486944494831152.png\" width=\"98\"/>,\n",
       " <img alt=\"[와썹맨X] ep.1 '박준형XKCMX줄리엔강X오스틴강' 영하 36도 냉동창고에서 0000까지 해봤습니다..\" data-src=\"https://s.pstatic.net/dthumb.phinf/?src=%22https%3A%2F%2Fphinf.pstatic.net%2Ftvcast%2F20210122_74%2FtDTZS_1611298151854Kiz7a_JPEG%2F1611297071887.jpg%22&amp;type=nf464_260\" height=\"130\" src=\"https://s.pstatic.net/dthumb.phinf/?src=%22https%3A%2F%2Fphinf.pstatic.net%2Ftvcast%2F20210122_74%2FtDTZS_1611298151854Kiz7a_JPEG%2F1611297071887.jpg%22&amp;type=nf464_260\" width=\"232\"/>,\n",
       " <img alt=\"[선공개] 귀가 녹는다 방구석 라이브🎵 TV CHOSUN 210203 방송\" data-src=\"https://s.pstatic.net/dthumb.phinf/?src=%22https%3A%2F%2Fs.pstatic.net%2Ftvcast.phinf%2F20210203_139%2FFbQxg_1612316245609crlyh_JPEG%2FC202000051_3_202102031022173791.jpg%22&amp;type=nf464_260\" height=\"130\" src=\"https://s.pstatic.net/dthumb.phinf/?src=%22https%3A%2F%2Fs.pstatic.net%2Ftvcast.phinf%2F20210203_139%2FFbQxg_1612316245609crlyh_JPEG%2FC202000051_3_202102031022173791.jpg%22&amp;type=nf464_260\" width=\"232\"/>,\n",
       " <img alt=\"여사친의 짝남이 신경쓰인다 [디어엠]\" data-src=\"https://s.pstatic.net/dthumb.phinf/?src=%22https%3A%2F%2Fphinf.pstatic.net%2Ftvcast%2F20210201_24%2Fmnqij_16121597038947B32w_PNG%2F1612159700240.png%22&amp;type=nf464_260\" height=\"130\" src=\"https://s.pstatic.net/dthumb.phinf/?src=%22https%3A%2F%2Fphinf.pstatic.net%2Ftvcast%2F20210201_24%2Fmnqij_16121597038947B32w_PNG%2F1612159700240.png%22&amp;type=nf464_260\" width=\"232\"/>,\n",
       " <img alt=\"[메이킹] 신혜선x김정현, '라면 먹고 갈래?' 애드리브 폭발한 깊은밤 ft.찐친 텐션 소봉즈\" data-src=\"https://s.pstatic.net/dthumb.phinf/?src=%22https%3A%2F%2Fs.pstatic.net%2Ftvcast.phinf%2F20210201_69%2FqY5H3_1612150319159p7tlj_JPEG%2F0770c6eb-98aa-4ad1-babb-fc31b0ef3727_B.jpg%22&amp;type=nf464_260\" height=\"130\" src=\"https://s.pstatic.net/dthumb.phinf/?src=%22https%3A%2F%2Fs.pstatic.net%2Ftvcast.phinf%2F20210201_69%2FqY5H3_1612150319159p7tlj_JPEG%2F0770c6eb-98aa-4ad1-babb-fc31b0ef3727_B.jpg%22&amp;type=nf464_260\" width=\"232\"/>,\n",
       " <img alt=\"짝사랑이 끝났다 [인생남주] EP05\" data-src=\"https://s.pstatic.net/dthumb.phinf/?src=%22https%3A%2F%2Fphinf.pstatic.net%2Ftvcast%2F20210127_89%2FDjlV9_1611716415658MUH9z_PNG%2F1611714607782.png%22&amp;type=nf464_260\" height=\"130\" src=\"https://s.pstatic.net/dthumb.phinf/?src=%22https%3A%2F%2Fphinf.pstatic.net%2Ftvcast%2F20210127_89%2FDjlV9_1611716415658MUH9z_PNG%2F1611714607782.png%22&amp;type=nf464_260\" width=\"232\"/>,\n",
       " <img alt=\"[선공개] 랍스터, 대게 그리고 캐비어?! 학생들을 생각하는 마음이 모여 실현된 전설의 급식☆\" data-src=\"https://s.pstatic.net/dthumb.phinf/?src=%22https%3A%2F%2Fs.pstatic.net%2Ftvcast.phinf%2F20210203_165%2FsNXcm_1612326711705g1FNT_JPEG%2F2bfe7706-528a-499d-948c-321847812664_B.jpg%22&amp;type=nf464_260\" height=\"130\" src=\"https://s.pstatic.net/dthumb.phinf/?src=%22https%3A%2F%2Fs.pstatic.net%2Ftvcast.phinf%2F20210203_165%2FsNXcm_1612326711705g1FNT_JPEG%2F2bfe7706-528a-499d-948c-321847812664_B.jpg%22&amp;type=nf464_260\" width=\"232\"/>,\n",
       " <img alt=\"[와썹맨X] EP.0 반백살 혼자는 무리...와썹맨'김종국, 윤계상, 김세정, 딘딘' 막강 CREW 모집(?)\" data-src=\"https://s.pstatic.net/dthumb.phinf/?src=%22https%3A%2F%2Fphinf.pstatic.net%2Ftvcast%2F20210119_279%2F6nzXR_1611048291529kVr2b_JPEG%2F1611048233098.jpg%22&amp;type=nf464_260\" height=\"130\" src=\"https://s.pstatic.net/dthumb.phinf/?src=%22https%3A%2F%2Fphinf.pstatic.net%2Ftvcast%2F20210119_279%2F6nzXR_1611048291529kVr2b_JPEG%2F1611048233098.jpg%22&amp;type=nf464_260\" width=\"232\"/>,\n",
       " <img alt=\"연애하면서 가장 힘든 순간은? [7일만 로맨스2] EP10 우리가 선택한 것\" data-src=\"https://s.pstatic.net/dthumb.phinf/?src=%22https%3A%2F%2Fphinf.pstatic.net%2Ftvcast%2F20210126_292%2F3ZCzI_1611661457914KOSGO_PNG%2F1611661435310.png%22&amp;type=nf464_260\" height=\"130\" src=\"https://s.pstatic.net/dthumb.phinf/?src=%22https%3A%2F%2Fphinf.pstatic.net%2Ftvcast%2F20210126_292%2F3ZCzI_1611661457914KOSGO_PNG%2F1611661435310.png%22&amp;type=nf464_260\" width=\"232\"/>,\n",
       " <img alt=\"솔직히 이 장면 비하인드 궁금했다🙋‍♀️ [내리겠습니다 지구에서] - 비하인드 2\" data-src=\"https://s.pstatic.net/dthumb.phinf/?src=%22https%3A%2F%2Fphinf.pstatic.net%2Ftvcast%2F20210201_252%2FuUQyT_1612157663133unEJI_PNG%2F1612157654383.png%22&amp;type=nf464_260\" height=\"130\" src=\"https://s.pstatic.net/dthumb.phinf/?src=%22https%3A%2F%2Fphinf.pstatic.net%2Ftvcast%2F20210201_252%2FuUQyT_1612157663133unEJI_PNG%2F1612157654383.png%22&amp;type=nf464_260\" width=\"232\"/>,\n",
       " <img alt=\"Celebrity\" height=\"48\" src=\"https://s.pstatic.net/dthumb.phinf/?src=%22https%3A%2F%2Fmusicmeta-phinf.pstatic.net%2Falbum%2F005%2F211%2F5211473.jpg%3Ftype%3Dr480Fll%26v%3D20210127175911%22&amp;type=navermain_n96_96\" width=\"48\"/>,\n",
       " <img alt=\"화(火花)\" height=\"48\" src=\"https://s.pstatic.net/dthumb.phinf/?src=%22https%3A%2F%2Fmusicmeta-phinf.pstatic.net%2Falbum%2F005%2F190%2F5190622.jpg%3Ftype%3Dr480Fll%26v%3D20210111180531%22&amp;type=navermain_n96_96\" width=\"48\"/>,\n",
       " <img alt=\"I'm Not Cool\" height=\"48\" src=\"https://s.pstatic.net/dthumb.phinf/?src=%22https%3A%2F%2Fmusicmeta-phinf.pstatic.net%2Falbum%2F005%2F213%2F5213231.jpg%3Ftype%3Dr480Fll%26v%3D20210128175911%22&amp;type=navermain_n96_96\" width=\"48\"/>,\n",
       " <img alt=\"이 밤을 빌려 말해요 (바른연애 길잡이 X 10CM)\" height=\"48\" src=\"https://s.pstatic.net/dthumb.phinf/?src=%22https%3A%2F%2Fmusicmeta-phinf.pstatic.net%2Falbum%2F005%2F206%2F5206577.jpg%3Ftype%3Dr480Fll%26v%3D20210124175910%22&amp;type=navermain_n96_96\" width=\"48\"/>,\n",
       " <img alt=\"Rosario (Feat. CL, ZICO)\" height=\"48\" src=\"https://s.pstatic.net/dthumb.phinf/?src=%22https%3A%2F%2Fmusicmeta-phinf.pstatic.net%2Falbum%2F005%2F198%2F5198842.jpg%3Ftype%3Dr480Fll%26v%3D20210119121807%22&amp;type=navermain_n96_96\" width=\"48\"/>,\n",
       " <img alt=\"내 얘기 같아 (Feat. 헤이즈)\" height=\"48\" src=\"https://s.pstatic.net/dthumb.phinf/?src=%22https%3A%2F%2Fmusicmeta-phinf.pstatic.net%2Falbum%2F005%2F198%2F5198842.jpg%3Ftype%3Dr480Fll%26v%3D20210119121807%22&amp;type=navermain_n96_96\" width=\"48\"/>,\n",
       " <img alt=\"내 마음에 주단을 깔고\" height=\"48\" src=\"https://s.pstatic.net/dthumb.phinf/?src=%22https%3A%2F%2Fmusicmeta-phinf.pstatic.net%2Falbum%2F005%2F199%2F5199028.jpg%3Ftype%3Dr480Fll%26v%3D20210126114907%22&amp;type=navermain_n96_96\" width=\"48\"/>,\n",
       " <img alt=\"Wifey (Feat. 사이먼 도미닉)\" height=\"48\" src=\"https://s.pstatic.net/dthumb.phinf/?src=%22https%3A%2F%2Fmusicmeta-phinf.pstatic.net%2Falbum%2F005%2F210%2F5210625.jpg%3Ftype%3Dr480Fll%26v%3D20210127115927%22&amp;type=navermain_n96_96\" width=\"48\"/>,\n",
       " <img alt=\"MOON\" height=\"48\" src=\"https://s.pstatic.net/dthumb.phinf/?src=%22https%3A%2F%2Fmusicmeta-phinf.pstatic.net%2Falbum%2F005%2F190%2F5190622.jpg%3Ftype%3Dr480Fll%26v%3D20210111180531%22&amp;type=navermain_n96_96\" width=\"48\"/>,\n",
       " <img alt=\"걷고 싶다\" height=\"48\" src=\"https://s.pstatic.net/dthumb.phinf/?src=%22https%3A%2F%2Fmusicmeta-phinf.pstatic.net%2Falbum%2F005%2F210%2F5210303.jpg%3Ftype%3Dr480Fll%26v%3D20210202181714%22&amp;type=navermain_n96_96\" width=\"48\"/>,\n",
       " <img alt=\"영웅이 사랑♡하는 거 말고 ‘뭣이 중헌디’ ♪ TV CHOSUN 210129 방송\" data-src=\"https://s.pstatic.net/dthumb.phinf/?src=%22https%3A%2F%2Fs.pstatic.net%2Ftvcast.phinf%2F20210129_136%2FVixqH_161193041635133h7f_JPEG%2FC202000040_3_202101291106035221.jpg%22&amp;type=nf464_260\" height=\"130\" src=\"https://s.pstatic.net/dthumb.phinf/?src=%22https%3A%2F%2Fs.pstatic.net%2Ftvcast.phinf%2F20210129_136%2FVixqH_161193041635133h7f_JPEG%2FC202000040_3_202101291106035221.jpg%22&amp;type=nf464_260\" width=\"232\"/>,\n",
       " <img alt=\"[스페셜 티저_M/V버전] 비주얼 파티에 초대합니다! (feat. 디어엠즈 친구 구함) ＜디어엠(Dear.M)＞ | KBS 방송\" data-src=\"https://s.pstatic.net/dthumb.phinf/?src=%22https%3A%2F%2Fs.pstatic.net%2Ftvcast.phinf%2F20210203_151%2FKkc3f_1612306303285bGYDR_JPEG%2Fd6YO6aVRwSqK.jpg%22&amp;type=nf464_260\" height=\"130\" src=\"https://s.pstatic.net/dthumb.phinf/?src=%22https%3A%2F%2Fs.pstatic.net%2Ftvcast.phinf%2F20210203_151%2FKkc3f_1612306303285bGYDR_JPEG%2Fd6YO6aVRwSqK.jpg%22&amp;type=nf464_260\" width=\"232\"/>,\n",
       " <img alt=\"[충격엔딩] 임신이라니?!!!! (신혜선 빼고) 이곳은 축제의 현장입니다\" data-src=\"https://s.pstatic.net/dthumb.phinf/?src=%22https%3A%2F%2Fs.pstatic.net%2Ftvcast.phinf%2F20210131_248%2FkOyAl_16121002248081DQ1h_JPEG%2Fda8d24b0-17fe-447f-9c7d-62d9a06ca86b_B.jpg%22&amp;type=nf464_260\" height=\"130\" src=\"https://s.pstatic.net/dthumb.phinf/?src=%22https%3A%2F%2Fs.pstatic.net%2Ftvcast.phinf%2F20210131_248%2FkOyAl_16121002248081DQ1h_JPEG%2Fda8d24b0-17fe-447f-9c7d-62d9a06ca86b_B.jpg%22&amp;type=nf464_260\" width=\"232\"/>,\n",
       " <img alt=\"[메이킹] 만취해서 기대는 현승이 비하인드💜 #18호 안대안대절대안대\" data-src=\"https://s.pstatic.net/dthumb.phinf/?src=%22https%3A%2F%2Fs.pstatic.net%2Ftvcast.phinf%2F20210203_278%2Fo8QXA_1612315676442icuUA_JPEG%2F20210203_100240_674_1.jpg%22&amp;type=nf464_260\" height=\"130\" src=\"https://s.pstatic.net/dthumb.phinf/?src=%22https%3A%2F%2Fs.pstatic.net%2Ftvcast.phinf%2F20210203_278%2Fo8QXA_1612315676442icuUA_JPEG%2F20210203_100240_674_1.jpg%22&amp;type=nf464_260\" width=\"232\"/>,\n",
       " <img alt=\"대학교 가면 진짜 이런 애들 있음?? [디어엠] - 1차 티저\" data-src=\"https://s.pstatic.net/dthumb.phinf/?src=%22https%3A%2F%2Fphinf.pstatic.net%2Ftvcast%2F20210118_172%2F07oku_16109500697348zGVy_PNG%2F1610949808774.png%22&amp;type=nf464_260\" height=\"130\" src=\"https://s.pstatic.net/dthumb.phinf/?src=%22https%3A%2F%2Fphinf.pstatic.net%2Ftvcast%2F20210118_172%2F07oku_16109500697348zGVy_PNG%2F1610949808774.png%22&amp;type=nf464_260\" width=\"232\"/>,\n",
       " <img alt=\"1분 안에 첫사랑 기억조작 해주는 영상 [디어엠] - 하이라이트\" data-src=\"https://s.pstatic.net/dthumb.phinf/?src=%22https%3A%2F%2Fphinf.pstatic.net%2Ftvcast%2F20210107_231%2FHGtmf_1610011569424jk8AO_JPEG%2F1610011261755.jpg%22&amp;type=nf464_260\" height=\"130\" src=\"https://s.pstatic.net/dthumb.phinf/?src=%22https%3A%2F%2Fphinf.pstatic.net%2Ftvcast%2F20210107_231%2FHGtmf_1610011569424jk8AO_JPEG%2F1610011261755.jpg%22&amp;type=nf464_260\" width=\"232\"/>,\n",
       " <img alt=\"[로맨스강림] 신신커플 핵달달연애 모음♥ 다정x애교폭발 수호신\" data-src=\"https://s.pstatic.net/dthumb.phinf/?src=%22https%3A%2F%2Fs.pstatic.net%2Ftvcast.phinf%2F20210203_74%2FT5oWD_1612319213818QBIp2_JPEG%2F9b137260-953f-422f-b3ea-cd3ce0312e18_B.jpg%22&amp;type=nf464_260\" height=\"130\" src=\"https://s.pstatic.net/dthumb.phinf/?src=%22https%3A%2F%2Fs.pstatic.net%2Ftvcast.phinf%2F20210203_74%2FT5oWD_1612319213818QBIp2_JPEG%2F9b137260-953f-422f-b3ea-cd3ce0312e18_B.jpg%22&amp;type=nf464_260\" width=\"232\"/>,\n",
       " <img alt=\"짝남의 전여친이 신경쓰인다 [인생남주] EP04\" data-src=\"https://s.pstatic.net/dthumb.phinf/?src=%22https%3A%2F%2Fphinf.pstatic.net%2Ftvcast%2F20210120_248%2Fsr6FT_1611110079430dreGw_PNG%2F1611109552354.PNG%22&amp;type=nf464_260\" height=\"130\" src=\"https://s.pstatic.net/dthumb.phinf/?src=%22https%3A%2F%2Fphinf.pstatic.net%2Ftvcast%2F20210120_248%2Fsr6FT_1611110079430dreGw_PNG%2F1611109552354.PNG%22&amp;type=nf464_260\" width=\"232\"/>,\n",
       " <img alt=\"짙은 여운을 남기는 '라포엠'의 진심 어린 위로송 〈한숨〉♬ | JTBC 210202 방송\" data-src=\"https://s.pstatic.net/dthumb.phinf/?src=%22https%3A%2F%2Fs.pstatic.net%2Ftvcast.phinf%2F20210202_33%2FpkfUd_1612266419908yCPnx_JPEG%2F20210202_202924_338_1.jpg%22&amp;type=nf464_260\" height=\"130\" src=\"https://s.pstatic.net/dthumb.phinf/?src=%22https%3A%2F%2Fs.pstatic.net%2Ftvcast.phinf%2F20210202_33%2FpkfUd_1612266419908yCPnx_JPEG%2F20210202_202924_338_1.jpg%22&amp;type=nf464_260\" width=\"232\"/>,\n",
       " <img alt=\"이주의 디깅 #95  콜드\" height=\"130\" src=\"https://s.pstatic.net/dthumb.phinf/?src=%22https%3A%2F%2Fmusic-phinf.pstatic.net%2F20210203_53%2F1612314889463ojL0x_JPEG%2Fd.jpg%22&amp;type=navermain_n260_260\" width=\"130\"/>,\n",
       " <img alt=\"New Release #27 : 갈란트, 아이유\" height=\"130\" src=\"https://s.pstatic.net/dthumb.phinf/?src=%22https%3A%2F%2Fmusic-phinf.pstatic.net%2F20210201_28%2F1612160701197aSkpa_JPEG%2F0-1.jpg%22&amp;type=navermain_n260_260\" width=\"130\"/>,\n",
       " <img alt=\"장르 파괴의 시대 :  콜드, 미고\" height=\"130\" src=\"https://s.pstatic.net/dthumb.phinf/?src=%22https%3A%2F%2Fmusic-phinf.pstatic.net%2F20210129_298%2F1611882933463UjB5C_JPEG%2F0-1.jpg%22&amp;type=navermain_n260_260\" width=\"130\"/>,\n",
       " <img alt=\"Bobby,  럭키 맨을 찾아서 \" height=\"130\" src=\"https://s.pstatic.net/dthumb.phinf/?src=%22https%3A%2F%2Fmusic-phinf.pstatic.net%2F20210127_218%2F1611725224820NVprd_JPEG%2F0.jpg%22&amp;type=navermain_n260_260\" width=\"130\"/>,\n",
       " <img alt=\"크로스오버의 완전체,  클로드 볼링을 기리며\" height=\"130\" src=\"https://s.pstatic.net/dthumb.phinf/?src=%22https%3A%2F%2Fmusic-phinf.pstatic.net%2F20210126_300%2F1611637646722NtBEj_JPEG%2F0-%25281%2529_1.jpg%22&amp;type=navermain_n260_260\" width=\"130\"/>,\n",
       " <img alt=\"이주의 디깅 #94  바비\" height=\"130\" src=\"https://s.pstatic.net/dthumb.phinf/?src=%22https%3A%2F%2Fmusic-phinf.pstatic.net%2F20210126_133%2F1611623523114nNlxS_JPEG%2F0-1.jpg%22&amp;type=navermain_n260_260\" width=\"130\"/>,\n",
       " <img alt=\"New Release #26 :  유노윤호, 앤 마리\" height=\"130\" src=\"https://s.pstatic.net/dthumb.phinf/?src=%22https%3A%2F%2Fmusic-phinf.pstatic.net%2F20210125_58%2F1611558173339mKeuz_JPEG%2F1.jpg%22&amp;type=navermain_n260_260\" width=\"130\"/>,\n",
       " <img alt=\"땀이 뻘뻘 홈트레이닝 음악\" height=\"130\" src=\"https://s.pstatic.net/dthumb.phinf/?src=%22https%3A%2F%2Fmusic-phinf.pstatic.net%2F20210122_263%2F1611307924289bRhQR_JPEG%2F0.jpg%22&amp;type=navermain_n260_260\" width=\"130\"/>,\n",
       " <img alt=\"누군가의 이름을  빌어 만든 음악들\" height=\"130\" src=\"https://s.pstatic.net/dthumb.phinf/?src=%22https%3A%2F%2Fmusic-phinf.pstatic.net%2F20210121_66%2F1611214022901xSIFm_JPEG%2F%25C0%25CE%25C6%25AE%25B7%25CE%2528%25C0%25E7%25C1%25EE%25B9%25CE-%25BC%25B3%25B8%25AE%25B9%25DD%2529_1.jpg%22&amp;type=navermain_n260_260\" width=\"130\"/>,\n",
       " <img alt=\"Epik High is here\" height=\"130\" src=\"https://s.pstatic.net/dthumb.phinf/?src=%22https%3A%2F%2Fmusic-phinf.pstatic.net%2F20210118_151%2F1610951329340pXI34_JPEG%2FEPIKHIGH_1.jpg%22&amp;type=navermain_n260_260\" width=\"130\"/>,\n",
       " <img alt=\"16화#하이라이트#한 배 탄 신혜선X김정현, 부부의 정을 뛰어넘는 동맹의리★\" data-src=\"https://s.pstatic.net/dthumb.phinf/?src=%22https%3A%2F%2Fs.pstatic.net%2Ftvcast.phinf%2F20210131_291%2F4RgPL_1612100511516pw2Uz_JPEG%2F0d8241f3-d2a4-4f24-994a-d17af8b11d33_B.jpg%22&amp;type=nf464_260\" height=\"130\" width=\"232\"/>,\n",
       " <img alt=\"긴급🚨 시술 중단 선언에 무서워진 박은영.. TV CHOSUN 210202 방송\" data-src=\"https://s.pstatic.net/dthumb.phinf/?src=%22https%3A%2F%2Fs.pstatic.net%2Ftvcast.phinf%2F20210202_198%2Fuak79_16122751154231Hfj5_JPEG%2FC201800037_3_202102021053135831.jpg%22&amp;type=nf464_260\" height=\"130\" width=\"232\"/>,\n",
       " <img alt=\"[선공개] 추억타고 2010년으로 타임슬립...★ TV CHOSUN 210203 방송\" data-src=\"https://s.pstatic.net/dthumb.phinf/?src=%22https%3A%2F%2Fs.pstatic.net%2Ftvcast.phinf%2F20210203_82%2FFy74e_1612315606197WMGVP_JPEG%2FC202000051_3_202102031016206451.jpg%22&amp;type=nf464_260\" height=\"130\" width=\"232\"/>,\n",
       " <img alt=\"슈주 리턴즈4 EP100 - 이 날을 기다려왔다! 원샷 원킬 2R 승마 펜싱!\" data-src=\"https://s.pstatic.net/dthumb.phinf/?src=%22https%3A%2F%2Fphinf.pstatic.net%2Ftvcast%2F20210128_289%2FTYniM_1611825183627gQ9If_PNG%2F1611825095937.png%22&amp;type=nf464_260\" height=\"130\" width=\"232\"/>,\n",
       " <img alt=\"[와썹맨X] 와썹맨 매운맛(?) 역대급 스릴 넘치는 익스트림 레저에 도전하는 반백살?\" data-src=\"https://s.pstatic.net/dthumb.phinf/?src=%22https%3A%2F%2Fphinf.pstatic.net%2Ftvcast%2F20210121_170%2F7jRqH_1611208154930UeEcv_JPEG%2F1611208132880.jpg%22&amp;type=nf464_260\" height=\"130\" width=\"232\"/>,\n",
       " <img alt=\"깨방정 수치 폭발해서 딜미터기 터져버린;;; [내리겠습니다 지구에서] - 1차 비하인드\" data-src=\"https://s.pstatic.net/dthumb.phinf/?src=%22https%3A%2F%2Fphinf.pstatic.net%2Ftvcast%2F20210128_73%2FzviDU_1611801387795AkgBO_PNG%2F1611801384458.png%22&amp;type=nf464_260\" height=\"130\" width=\"232\"/>,\n",
       " <img alt=\"광대폭발 잇몸가뭄 보장💜 [잘 하고 싶어] 비하인드\" data-src=\"https://s.pstatic.net/dthumb.phinf/?src=%22https%3A%2F%2Fphinf.pstatic.net%2Ftvcast%2F20210128_192%2FcSBFw_1611807505965NSq7N_PNG%2F1611807473065.png%22&amp;type=nf464_260\" height=\"130\" width=\"232\"/>,\n",
       " <img alt=\"만날 때마다 지 할말 들어줘야 됨.... [내리겠습니다 지구에서] - EP.20\" data-src=\"https://s.pstatic.net/dthumb.phinf/?src=%22https%3A%2F%2Fphinf.pstatic.net%2Ftvcast%2F20210121_112%2FZLNZe_1611205000323OzVJT_PNG%2F1611203462139.png%22&amp;type=nf464_260\" height=\"130\" width=\"232\"/>,\n",
       " <img alt=\"[17화 예고] 궁 안에 퍼진 무서운 소문?! 신혜선을 살리기 위한 김정현의 선택!\" data-src=\"https://s.pstatic.net/dthumb.phinf/?src=%22https%3A%2F%2Fs.pstatic.net%2Ftvcast.phinf%2F20210131_242%2F3F55f_1612100811692jwOYF_JPEG%2F7e565455-5fda-4c64-823f-ff58426ae904_B.jpg%22&amp;type=nf464_260\" height=\"130\" width=\"232\"/>,\n",
       " <img alt=\"임영웅☓에일리 ‘Beauty And The Beast’ ♫ 레전드 듀엣😍 TV CHOSUN 210129 방송\" data-src=\"https://s.pstatic.net/dthumb.phinf/?src=%22https%3A%2F%2Fs.pstatic.net%2Ftvcast.phinf%2F20210129_106%2FgTrgM_1611931922055kSgRe_JPEG%2FC202000040_3_202101291129576611.jpg%22&amp;type=nf464_260\" height=\"130\" width=\"232\"/>,\n",
       " <img alt=\"✧경축✧ 3차 시도 끝에 엉또 회전 시술 大성공! TV CHOSUN 210202 방송\" data-src=\"https://s.pstatic.net/dthumb.phinf/?src=%22https%3A%2F%2Fs.pstatic.net%2Ftvcast.phinf%2F20210203_172%2FICv1L_161233120562878Q4q_JPEG%2FC201800037_3_202102030230472101.jpg%22&amp;type=nf464_260\" height=\"130\" width=\"232\"/>,\n",
       " <img alt=\"[메이킹] 엉망진창💥 난리법석💨 단아 생일파티 비하인드! (+쿠키 영상: 셀카 못 찍는 선겸) | 런 온 RUN ON\" data-src=\"https://s.pstatic.net/dthumb.phinf/?src=%22https%3A%2F%2Fs.pstatic.net%2Ftvcast.phinf%2F20210203_142%2FJqc6G_1612317118984ulreb_JPEG%2F20210203_103437_744_1.jpg%22&amp;type=nf464_260\" height=\"130\" width=\"232\"/>,\n",
       " <img alt=\"[여고추리반] 추리반 입성부터 비밀의 S반까지.. 이 학교 만만하지 않겠어 | 3,4화 예고 영상\" data-src=\"https://s.pstatic.net/dthumb.phinf/?src=%22https%3A%2F%2Fs.pstatic.net%2Ftvcast.phinf%2F20210202_223%2FufLEJ_1612263747423LsYRr_JPEG%2F1612263641978.jpg%22&amp;type=nf464_260\" height=\"130\" width=\"232\"/>,\n",
       " <img alt=\"칠로2에는 애드리브 요정들이 살고 있어요🧚‍♀️🧚‍♂️[7일만 로맨스2] 비하인드2\" data-src=\"https://s.pstatic.net/dthumb.phinf/?src=%22https%3A%2F%2Fphinf.pstatic.net%2Ftvcast%2F20210121_104%2FYaBvJ_1611211614446rjvMA_PNG%2F1611211568726.png%22&amp;type=nf464_260\" height=\"130\" width=\"232\"/>,\n",
       " <img alt=\"좋아한다고요? 저를요..? [인생남주] EP03\" data-src=\"https://s.pstatic.net/dthumb.phinf/?src=%22https%3A%2F%2Fphinf.pstatic.net%2Ftvcast%2F20210114_290%2FKLvWC_1610593421481CPAr7_JPEG%2F1610591153693.jpg%22&amp;type=nf464_260\" height=\"130\" width=\"232\"/>,\n",
       " <img alt=\"어남정이라고? 그래서 남주가 누군데?? [인생남주] 공식 티저 Official TEASER\" data-src=\"https://s.pstatic.net/dthumb.phinf/?src=%22https%3A%2F%2Fphinf.pstatic.net%2Ftvcast%2F20201221_103%2F3siNw_1608546307189HldRE_JPEG%2F1608545614753.jpg%22&amp;type=nf464_260\" height=\"130\" width=\"232\"/>,\n",
       " <img alt=\"두 남자에게 고백을 받았다. [리얼:타임:러브4] EP8ㅣ마지막화\" data-src=\"https://s.pstatic.net/dthumb.phinf/?src=%22https%3A%2F%2Fphinf.pstatic.net%2Ftvcast%2F20210105_3%2FRMC2K_1609838944269nSX7b_JPEG%2F1609838936025.jpg%22&amp;type=nf464_260\" height=\"130\" width=\"232\"/>,\n",
       " <img alt=\"청량하고 Fresh한 에너지 가득💙 레떼아모르의 〈Story of My Life〉♬ | JTBC 210202 방송\" data-src=\"https://s.pstatic.net/dthumb.phinf/?src=%22https%3A%2F%2Fs.pstatic.net%2Ftvcast.phinf%2F20210202_221%2F5Lif7_1612269111905wmuPd_JPEG%2F20210202_211458_088_1.jpg%22&amp;type=nf464_260\" height=\"130\" width=\"232\"/>,\n",
       " <img alt=\"[100회 예고] ＂난 오늘 서준이를 회장 자리에 앉힐 거예요＂ | KBS 방송\" data-src=\"https://s.pstatic.net/dthumb.phinf/?src=%22https%3A%2F%2Fs.pstatic.net%2Ftvcast.phinf%2F20210202_200%2FLPypF_1612270318677xPVGp_JPEG%2Ff1mpBX9sxAOc.jpg%22&amp;type=nf464_260\" height=\"130\" width=\"232\"/>,\n",
       " <img alt=\"무슨 일이 있어도 같이 있자 [7일만 로맨스2] MV '신준섭 - I Promise'\" data-src=\"https://s.pstatic.net/dthumb.phinf/?src=%22https%3A%2F%2Fphinf.pstatic.net%2Ftvcast%2F20210120_240%2F3yl6t_1611122336793L3AND_PNG%2F1611122332180.png%22&amp;type=nf464_260\" height=\"130\" width=\"232\"/>,\n",
       " <img alt=\"프로포즈 한 날 차였다 [인생남주] EP01 사랑한다며..근데 왜 헤어져? #인생남주\" data-src=\"https://s.pstatic.net/dthumb.phinf/?src=%22https%3A%2F%2Fphinf.pstatic.net%2Ftvcast%2F20201224_250%2FPQHtJ_1608815168984BqgRm_PNG%2F1608812804803.png%22&amp;type=nf464_260\" height=\"130\" width=\"232\"/>,\n",
       " <img alt=\"포레스텔라만의 색을 담은 상상 이상의 무대😲 〈Time In A Bottle〉♬ | JTBC 210202 방송\" data-src=\"https://s.pstatic.net/dthumb.phinf/?src=%22https%3A%2F%2Fs.pstatic.net%2Ftvcast.phinf%2F20210203_208%2FyX14z_1612282010389XbquF_JPEG%2F20210203_005837_946_1.jpg%22&amp;type=nf464_260\" height=\"130\" width=\"232\"/>,\n",
       " <img alt=\"우리가 잘 하고 싶은 이유 [잘 하고 싶어] - EP.12\" data-src=\"https://s.pstatic.net/dthumb.phinf/?src=%22https%3A%2F%2Fphinf.pstatic.net%2Ftvcast%2F20210120_197%2FOSehd_16111293009152yEFj_PNG%2F1611129277596.png%22&amp;type=nf464_260\" height=\"130\" width=\"232\"/>,\n",
       " <img alt=\"[탐나효 Teaser] 대리만족 1000% 보장♥ 효연의 제주로운 랜선 기행 hoxy… 탐나효?!\" data-src=\"https://s.pstatic.net/dthumb.phinf/?src=%22https%3A%2F%2Fphinf.pstatic.net%2Ftvcast%2F20210201_170%2FXrFQN_1612171326163HTLCO_JPEG%2F1612171321872.jpg%22&amp;type=nf464_260\" height=\"130\" width=\"232\"/>,\n",
       " <img alt=\"듣는 사람 댄스 본능 폭발시켜버리는😆🔥 라비던스의 〈Ai No Corrida〉♬ | JTBC 210202 방송\" data-src=\"https://s.pstatic.net/dthumb.phinf/?src=%22https%3A%2F%2Fs.pstatic.net%2Ftvcast.phinf%2F20210202_163%2FT7Ezy_1612271515431BjIOd_JPEG%2F20210202_215615_771_1.jpg%22&amp;type=nf464_260\" height=\"130\" width=\"232\"/>,\n",
       " <img alt=\"16화#하이라이트#가문 버리고 마이웨이 택한 신혜선! 적폐청산 어서오고~\" data-src=\"https://s.pstatic.net/dthumb.phinf/?src=%22https%3A%2F%2Fs.pstatic.net%2Ftvcast.phinf%2F20210131_210%2FChHxt_1612100805449KODDP_JPEG%2F18645304-0d45-4bed-95f8-f51dcf2021a7_B.jpg%22&amp;type=nf464_260\" height=\"130\" width=\"232\"/>,\n",
       " <img alt=\"고백한 남자와 친구가 될 수 있을까? [7일만 로맨스2] EP09 마지막 난관\" data-src=\"https://s.pstatic.net/dthumb.phinf/?src=%22https%3A%2F%2Fphinf.pstatic.net%2Ftvcast%2F20210120_58%2F8oOk3_1611131464719WQiS9_PNG%2F1611131403894.png%22&amp;type=nf464_260\" height=\"130\" width=\"232\"/>,\n",
       " <img alt=\"신혜선X유영재 격한 재회에 질투 폭발한 김정현(아니고 종철이)\" data-src=\"https://s.pstatic.net/dthumb.phinf/?src=%22https%3A%2F%2Fs.pstatic.net%2Ftvcast.phinf%2F20210131_267%2FMRAnm_1612099612254jJlmK_JPEG%2F2c7d87cd-66e7-4779-911c-24931b405a7f_B.jpg%22&amp;type=nf464_260\" height=\"130\" width=\"232\"/>,\n",
       " <img alt=\"‘고칠게’♪  차갑게 얼어붙은 심장❆ 녹이는 목소리⁺₊⋆ TV CHOSUN 210127 방송\" data-src=\"https://s.pstatic.net/dthumb.phinf/?src=%22https%3A%2F%2Fs.pstatic.net%2Ftvcast.phinf%2F20210128_187%2Fl4XPM_1611760081388pOQr0_JPEG%2FC202000051_3_202101271155167581.jpg%22&amp;type=nf464_260\" height=\"130\" width=\"232\"/>,\n",
       " <img alt=\"[만나러와썹] '이정재X황정민 '다만 악에서 구하소서' 배우들과 먹방부터 명대사 재연까지?\" data-src=\"https://s.pstatic.net/dthumb.phinf/?src=%22https%3A%2F%2Fphinf.pstatic.net%2Ftvcast%2F20200724_158%2FlVT6Q_1595575819390FeQuq_JPEG%2F1595575810844.jpg%22&amp;type=nf464_260\" height=\"130\" width=\"232\"/>,\n",
       " <img alt=\"라면 폭풍 흡입! 신혜선의 젓가락을 멈추게 한 것?!\" data-src=\"https://s.pstatic.net/dthumb.phinf/?src=%22https%3A%2F%2Fs.pstatic.net%2Ftvcast.phinf%2F20210131_291%2FkMC20_1612096311198U5Y4y_JPEG%2F9526e950-c06c-4b42-910c-ea6dd9386d3c_B.jpg%22&amp;type=nf464_260\" height=\"130\" width=\"232\"/>,\n",
       " <img alt=\"헤어진 사람과 계속 마주쳐야 한다면 [7일만 로맨스2] EP08 폭풍전야\" data-src=\"https://s.pstatic.net/dthumb.phinf/?src=%22https%3A%2F%2Fphinf.pstatic.net%2Ftvcast%2F20210113_252%2FfuZEz_1610512265574UuIyk_PNG%2F1610511848274.png%22&amp;type=nf464_260\" height=\"130\" width=\"232\"/>,\n",
       " <img alt=\"슈주 리턴즈4 EP99 - 체육대회라며!? 슞망진창 난투극(?)으로 변한 1라운드의 승자는?\" data-src=\"https://s.pstatic.net/dthumb.phinf/?src=%22https%3A%2F%2Fphinf.pstatic.net%2Ftvcast%2F20210122_298%2FxTDjX_1611244647514jxau1_PNG%2F1611243569407.png%22&amp;type=nf464_260\" height=\"130\" width=\"232\"/>,\n",
       " <img alt=\"진심을 담은 음식과 함께 대주주를 설득하려는 엄현경 ＂어르신, 도와주세요...＂ | KBS 210202 방송\" data-src=\"https://s.pstatic.net/dthumb.phinf/?src=%22https%3A%2F%2Fs.pstatic.net%2Ftvcast.phinf%2F20210202_290%2F3dCdY_1612266767768xRdmm_JPEG%2F60193731e162ec5affa283c8_edit_1_1612265459672.jpg%22&amp;type=nf464_260\" height=\"130\" width=\"232\"/>,\n",
       " <img alt=\"(채정뱅이🥴) 원진아 골 때리는 로운의 술 주정, 심쿵은 덤♥ | JTBC 210202 방송\" data-src=\"https://s.pstatic.net/dthumb.phinf/?src=%22https%3A%2F%2Fs.pstatic.net%2Ftvcast.phinf%2F20210202_268%2FCKf4a_16122619132797yjrf_JPEG%2F20210202_191116_425_1.jpg%22&amp;type=nf464_260\" height=\"130\" width=\"232\"/>,\n",
       " <img alt=\"하트 팡💗 정홍일에게 압도되어 빠져들 수밖에 없는 〈Maria〉♬ | JTBC 210201 방송\" data-src=\"https://s.pstatic.net/dthumb.phinf/?src=%22https%3A%2F%2Fs.pstatic.net%2Ftvcast.phinf%2F20210201_109%2FhIFAz_1612185410004hNQ4B_JPEG%2F20210201_220221_357_1.jpg%22&amp;type=nf464_260\" height=\"130\" width=\"232\"/>,\n",
       " <img alt=\"웨일\" height=\"48\" src=\"data:image/png;base64,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\" width=\"48\"/>,\n",
       " <img alt=\"꽃\" height=\"50\" src=\"data:image/png;base64,iVBORw0KGgoAAAANSUhEUgAAAF4AAABkCAMAAAA47XeXAAAAgVBMVEUAAADN5PdGm99Gm99Gm99Gm99Gm95Gm99Gm99Gm99Gm99Gm99Gm99Gm99Gm99Gm99Gm99Gm99Gm99Gm99Gm99Gm99Gm99Gmt9Gm99Gm99Gm99Gm95Gm99Gm99Gm95Gm99Hm99Gm99Gm9/////3+/5cp+LO5PfR5/fO5fdcp+P7/f/zv5GhAAAAInRSTlMA/v7vH9u5qJNgGwb6l8a9uqF9WFUyLxYMCtbVmLCwe4OCj8gzEgAAA0NJREFUaN7NmmFz4iAQhkkwMTHGWrWtWvWuq8mF+/8/8Ey2nb0OhSwQZnw+MHQ7pbjAy2s2gsuiLPJMLpcyy4tyISZltnmHbxw3MzEVr/MUNNL5q5iCt2ccXCN9fhPB7CQYkTsRRlWDlboSAexzGCHfC28OKxhldfDOzBMwePLNTw0sauHFFphshQcLCUwkaQRfXYBPSkrEUBdv3jezcXXhw1ciUhc+fCUidQlH7qzqEk5d2dQlnHxvU5dwVgdXdSGclaiGyamt6hLO1qIu4ZASzcFE092SBprk1jagulvXAAw/qb5N7m176xQYmOPoLymYaK/X65/PNhlagE6LGUhfRM8FjNzuf/73//bHmInzoJEpjMyeWpp9RzGz/PT6+QvMNO2Q+67PPeYZY5h7jDVg5OM+/BGikd13JfDAj/Ad1WLMyEyUwKPT00ypN1GKAljQJtFiFgqRe86eYhbWIvPPPR5d+9pKiIgUwKNJdHXBvW9jyRye1EWLWYfnJcd141Byspizz7gbUyWDuqiW0v15D9g3ZgF86JwyKUgUHJaATUmS5rsEdkkTZLjZS8Alw+skFr8Nl6H6uosShaKOp3Zo+/jgFTDe+wcSfv0yFGfQaLX7tDO0reXOPRuMCG4Q11Y3IiYblWgzS7R+h31qdRtlGB7zikeUckz+AB3a8FuMqD7Cd2nhUHLOEIkLubQIkEuLxIdwEwUy3HyXxsbgPMJcGuGox+TSIugxuTQ+KHIaAS5N92eIIuMT5tJoPfHy5q9yKoXLelLuKRri0mjMQdhwTPw6Sv8pzKXhFyhNilEwkSCXRrnAnaPnJdyl0UrqXircpeHVglnv+62K4NJo3lFcGmWd79KO7OQoXAE8XNO6tIQGxj7fpfHTwk8RubQLWEGvgTNGKzj01fixunCMCCYcvSSlaFwUyKVx86J3bczpUR3zimq1LqdosAUbJF54ar+uk5Gju436mPTk8ZAXFdO93HRYTesUVgf3B+y0XdxLfdVputmfKp/iBtNjyl3c0kzUwtJIWewIPvAL9LOyWLsV9WAps3VRzh6hJBm3oOqsRKfHLGYzS/GP+iLBuBKdqkd+iWPkFZTHf4Em4us/uhI5qss/6zK5u8+AXpwAAAAASUVORK5CYII=\" width=\"47\"/>]"
      ]
     },
     "execution_count": 3,
     "metadata": {},
     "output_type": "execute_result"
    }
   ],
   "source": [
    "# 필요패키지 import\n",
    "import numpy as np\n",
    "import pandas as pd\n",
    "import requests # 크롤링에 사용하는 패키지\n",
    "from bs4 import BeautifulSoup # html 변환에 사용함\n",
    "\n",
    "# url정의\n",
    "url = 'https://www.naver.com/'\n",
    "\n",
    "# requsts로 url에 정보요청\n",
    "response = requests.get(url).text\n",
    "\n",
    "# 정보를 html 변환 (보기 쉽게)\n",
    "html = BeautifulSoup(response, 'html.parser')\n",
    "\n",
    "# html 내에서 우리가 보고 싶은 정보만 선별\n",
    "html.select('img')"
   ]
  },
  {
   "cell_type": "markdown",
   "metadata": {
    "id": "leESHsnF8kMy",
    "slideshow": {
     "slide_type": "slide"
    }
   },
   "source": [
    "### 실제 개발자가 작성한 코드로 확인된다\n",
    "    정제되지 않은 데이터로 가독성이 좋지 않음\n",
    "    우리는 이 중에서 우리가 원하는 정보를 선별해서 가져오는 작업을 진행합니다.\n",
    "    그러기에 html의 기본 구성을 살펴보도록 하겠습니다."
   ]
  },
  {
   "cell_type": "markdown",
   "metadata": {
    "id": "ijN26CQi8oSa",
    "slideshow": {
     "slide_type": "slide"
    }
   },
   "source": [
    "#### 웹 페이지의 구성\n",
    "    HTML(Hyper Text Markup Language)\n",
    "    www 를 구성하는데 사용하는 국제표준 언어로서 컨텐츠와 레이아웃을 담고 있다\n",
    "\n",
    "    <태그>내용</태그>\n",
    "    <tag이름 class=\"class이름1 class이름2\" id=\"주민번호\" href=\"주소\"></tag이름>\n",
    "\n",
    "    형태나 속성을 묘사하기 위한 구조적 언어 : HTML, CSS (계층이 있음)\n",
    "    웹의 작동 및 제어를 위한 프로그래밍 언어 :  Js"
   ]
  },
  {
   "cell_type": "markdown",
   "metadata": {
    "id": "7caqQS1q8xE9",
    "slideshow": {
     "slide_type": "slide"
    }
   },
   "source": [
    "#### 셀렉터\n",
    "    용도 : html에서 내가 원하는 내용을 찾아내기 위해서\n",
    "    <span class=\"news\" id=\"1234\">비비고 왕교자</span>\n",
    "\n",
    "    단일 셀렉터\n",
    "    \n",
    "    html.select('span')\n",
    "    tag : span\n",
    "    class(별명, 그룹명) : .news\n",
    "    id(고유값) : #1234"
   ]
  },
  {
   "cell_type": "markdown",
   "metadata": {
    "id": "U-JjMflT80sS",
    "slideshow": {
     "slide_type": "slide"
    }
   },
   "source": [
    "#### 복합 셀렉터\n",
    "    1. 조합 셀렉터\n",
    "    <span>1</span>\n",
    "    <span class=\"txt\">2</span>\n",
    "    <em class=\"txt\">3</em>\n",
    "    \n",
    "    태그 이름이 span이고 클래스 이름은 txt인 라인을 찾고 싶다. : span.txt \n",
    "    li 태그 중에서 id가 name 인 라인을 찾고\\ 싶다. : li#name\n",
    "\n",
    "    2. 경로 셀렉터\n",
    "    <ul>\n",
    "        <li><span>이걸 찾으려면?</span></li>\n",
    "    </ul>\n",
    "    <span>이건 아님</span>\n",
    "\n",
    "    ul 태그안 li 태그 안 span 라인을 찾는다\n",
    "    ul > li > span 혹은 ul li span"
   ]
  },
  {
   "cell_type": "code",
   "execution_count": 4,
   "metadata": {
    "ExecuteTime": {
     "end_time": "2021-02-03T05:06:59.639810Z",
     "start_time": "2021-02-03T05:06:59.637267Z"
    }
   },
   "outputs": [],
   "source": [
    "# url 설정\n",
    "url = 'https://search.naver.com/search.naver?where=nexearch&sm=top_hty&fbm=1&ie=utf8&query=로또'"
   ]
  },
  {
   "cell_type": "code",
   "execution_count": 5,
   "metadata": {
    "ExecuteTime": {
     "end_time": "2021-02-03T05:08:50.706376Z",
     "start_time": "2021-02-03T05:08:50.436215Z"
    }
   },
   "outputs": [],
   "source": [
    "# requests로 데이터 요청하기\n",
    "response = requests.get(url).text"
   ]
  },
  {
   "cell_type": "code",
   "execution_count": 6,
   "metadata": {
    "ExecuteTime": {
     "end_time": "2021-02-03T05:10:10.569988Z",
     "start_time": "2021-02-03T05:10:10.432372Z"
    }
   },
   "outputs": [],
   "source": [
    "# html로 변환\n",
    "html = BeautifulSoup(response, 'html.parser')"
   ]
  },
  {
   "cell_type": "code",
   "execution_count": 7,
   "metadata": {
    "ExecuteTime": {
     "end_time": "2021-02-03T05:16:21.797422Z",
     "start_time": "2021-02-03T05:16:21.791306Z"
    }
   },
   "outputs": [],
   "source": [
    "lotto_list = []\n",
    "for num in html.select('span.num')[:6]:\n",
    "    lotto_list.append(num.text)"
   ]
  },
  {
   "cell_type": "code",
   "execution_count": 8,
   "metadata": {
    "ExecuteTime": {
     "end_time": "2021-02-03T05:16:25.483890Z",
     "start_time": "2021-02-03T05:16:25.474479Z"
    }
   },
   "outputs": [
    {
     "data": {
      "text/plain": [
       "['13', '18', '30', '31', '38', '41']"
      ]
     },
     "execution_count": 8,
     "metadata": {},
     "output_type": "execute_result"
    }
   ],
   "source": [
    "lotto_list"
   ]
  },
  {
   "cell_type": "markdown",
   "metadata": {},
   "source": [
    "# 다음에서 로또번호 가져와 볼께요 몽땅 다 가져옵니다"
   ]
  },
  {
   "cell_type": "code",
   "execution_count": 9,
   "metadata": {
    "ExecuteTime": {
     "end_time": "2021-02-03T06:04:20.163694Z",
     "start_time": "2021-02-03T06:04:20.161045Z"
    }
   },
   "outputs": [],
   "source": [
    "import time"
   ]
  },
  {
   "cell_type": "code",
   "execution_count": 10,
   "metadata": {
    "ExecuteTime": {
     "end_time": "2021-02-03T06:04:47.583649Z",
     "start_time": "2021-02-03T06:04:22.409788Z"
    }
   },
   "outputs": [
    {
     "name": "stdout",
     "output_type": "stream",
     "text": [
      "접속성공\n",
      "접속성공\n",
      "접속성공\n",
      "접속성공\n",
      "접속성공\n",
      "접속성공\n",
      "접속성공\n",
      "접속성공\n",
      "접속성공\n"
     ]
    }
   ],
   "source": [
    "total_lotto_list = []\n",
    "for i in range(1, 10):\n",
    "    \n",
    "    seed = np.random.randint(100)\n",
    "    np.random.seed(seed)\n",
    "    a = np.random.randint(5) # 난수가 생성 생성된 난수에 따라서 요청하는 시간 딜레이\n",
    "    time.sleep(a)\n",
    "    \n",
    "    lotto = []\n",
    "    url = f'https://search.daum.net/search?w=tot&DA=LOT&rtmaxcoll=LOT&&q={i}회차%20로또'\n",
    "    response = requests.get(url)\n",
    "    \n",
    "    if response.status_code == requests.codes.ok:\n",
    "        print('접속성공')\n",
    "        \n",
    "        html = BeautifulSoup(response.text, 'html.parser')\n",
    "        numbers = html.select('span.ball')[:6]\n",
    "        for num in numbers:\n",
    "            lotto.append(num.text)\n",
    "        total_lotto_list.append(lotto)\n",
    "        \n",
    "    else:\n",
    "        break"
   ]
  },
  {
   "cell_type": "code",
   "execution_count": 11,
   "metadata": {
    "ExecuteTime": {
     "end_time": "2021-02-03T05:41:05.583999Z",
     "start_time": "2021-02-03T05:41:05.579960Z"
    }
   },
   "outputs": [
    {
     "data": {
      "text/plain": [
       "200"
      ]
     },
     "execution_count": 11,
     "metadata": {},
     "output_type": "execute_result"
    }
   ],
   "source": [
    "requests.codes.ok\n",
    "# 100 우리 이런정보 내주는거야\n",
    "# 200 성공\n",
    "# 300 우리 이 사이트 이리루 이사했어 일루가\n",
    "# 400 유저가 요청을 잘못한경우\n",
    "# 500 서버 문제"
   ]
  },
  {
   "cell_type": "code",
   "execution_count": 12,
   "metadata": {},
   "outputs": [],
   "source": [
    "# 차단막는 코드\n",
    "seed = np.random.randint(100)\n",
    "np.random.seed(seed)\n",
    "a = np.random.randint(5)"
   ]
  },
  {
   "cell_type": "markdown",
   "metadata": {},
   "source": [
    "# 네이버에 사용자로 부터 입력받는 검색어를 입력하고 나오는 결과값의 view(블로그) 페이지에 접근해서 블로그 제목 가져오기"
   ]
  },
  {
   "cell_type": "code",
   "execution_count": null,
   "metadata": {
    "ExecuteTime": {
     "end_time": "2021-02-03T06:27:56.160704Z",
     "start_time": "2021-02-03T06:27:51.173813Z"
    }
   },
   "outputs": [],
   "source": [
    "key_word = input('키워드를 입력하세요 :')\n",
    "url = f'https://search.naver.com/search.naver?where=view&sm=tab_jum&query={key_word}'\n",
    "\n",
    "response = requests.get(url)\n",
    "\n",
    "if response.status_code == requests.codes.ok:\n",
    "    print('접속성공')\n",
    "\n",
    "html = BeautifulSoup(response.text, 'html.parser')\n",
    "\n",
    "titles = html.select('a.api_txt_lines')\n",
    "for title in titles:\n",
    "    print(title.text, title.attrs['href'])"
   ]
  },
  {
   "cell_type": "markdown",
   "metadata": {
    "id": "P_ssRYoV88a7",
    "slideshow": {
     "slide_type": "slide"
    }
   },
   "source": [
    "    가져온 데이터에 접근을 하는 방식 자체는 판다스 색인처럼 결과값을 확인하며 진행하는 것이 가장 좋습니다."
   ]
  },
  {
   "cell_type": "markdown",
   "metadata": {
    "id": "L--NnRPK9LAN",
    "slideshow": {
     "slide_type": "slide"
    }
   },
   "source": [
    "## **3. 네이버 키워드로 검색한 결과를 크롤링**"
   ]
  },
  {
   "cell_type": "markdown",
   "metadata": {
    "id": "XYhXePUPB7FF",
    "slideshow": {
     "slide_type": "slide"
    }
   },
   "source": [
    "## **4. 동적페이지 크롤링**\n",
    "    최근에는 Js로 변경이 되며 일반적인 크롤링이 되지 않는 경우가 많음\n",
    "    동적페이지와 숨겨진 url을 가져오는 방법을 알아봅니다"
   ]
  },
  {
   "cell_type": "markdown",
   "metadata": {
    "id": "GIvAIByBCAz1",
    "slideshow": {
     "slide_type": "slide"
    }
   },
   "source": [
    "### 네이버 데이터랩 인기검색어 크롤링"
   ]
  },
  {
   "cell_type": "code",
   "execution_count": null,
   "metadata": {
    "ExecuteTime": {
     "end_time": "2021-02-03T06:56:59.572680Z",
     "start_time": "2021-02-03T06:56:59.504511Z"
    },
    "id": "uvafKGESAAEJ",
    "slideshow": {
     "slide_type": "subslide"
    }
   },
   "outputs": [],
   "source": [
    "import json\n",
    "\n",
    "# 카테고리 데이터 가져오기\n",
    "url = 'https://datalab.naver.com/shoppingInsight/getKeywordRank.naver?timeUnit=date&cid=50000000'\n",
    "\n",
    "# 헤더정보 필요\n",
    "header = {\n",
    "    'user-agent': 'Mozilla/5.0 (Macintosh; Intel Mac OS X 10_13_6) AppleWebKit/537.36 (KHTML, like Gecko) Chrome/88.0.4324.96 Safari/537.36',\n",
    "    'referer': 'https://datalab.naver.com/'\n",
    "}\n",
    "\n",
    "response = requests.post(url, headers=header)\n",
    "data = json.loads(response.text)\n",
    "data[0]"
   ]
  },
  {
   "cell_type": "markdown",
   "metadata": {
    "id": "N3NtfdJNMWM6",
    "slideshow": {
     "slide_type": "slide"
    }
   },
   "source": [
    "### 다음 주식 일자별 주가 데이터 크롤링"
   ]
  },
  {
   "cell_type": "code",
   "execution_count": null,
   "metadata": {
    "ExecuteTime": {
     "end_time": "2021-02-03T07:24:14.345102Z",
     "start_time": "2021-02-03T07:24:14.262761Z"
    },
    "id": "9txT7yVwMehO"
   },
   "outputs": [],
   "source": [
    "url = 'https://finance.daum.net/api/quote/A285130/days?symbolCode=A285130&page=2&perPage=10&pagination=true'\n",
    "\n",
    "header = {\n",
    "    'Referer':'https://finance.daum.net/quotes/A285130?period=day',\n",
    "    'User-Agent':'Mozilla/5.0 (Macintosh; Intel Mac OS X 10_13_6) AppleWebKit/537.36 (KHTML, like Gecko) Chrome/88.0.4324.96 Safari/537.36'\n",
    "}\n",
    "\n",
    "response = requests.get(url, headers=header)\n",
    "data = json.loads(response.text)\n",
    "data"
   ]
  },
  {
   "cell_type": "code",
   "execution_count": null,
   "metadata": {},
   "outputs": [],
   "source": [
    "from pandas.io.json import json_normalize"
   ]
  },
  {
   "cell_type": "code",
   "execution_count": null,
   "metadata": {},
   "outputs": [],
   "source": [
    "df = pd.DataFrame(data['data'])"
   ]
  },
  {
   "cell_type": "markdown",
   "metadata": {},
   "source": [
    "### 네이버 주식 삼성전자 일자별 주가 데이터 크롤링 1페이지 부터 10페이지 까지"
   ]
  },
  {
   "cell_type": "code",
   "execution_count": null,
   "metadata": {
    "ExecuteTime": {
     "end_time": "2021-02-03T07:20:12.280417Z",
     "start_time": "2021-02-03T07:20:12.215896Z"
    }
   },
   "outputs": [],
   "source": [
    "url = 'https://finance.naver.com/item/sise_day.nhn?code=005930&page=1'\n",
    "\n",
    "\n",
    "header = {\n",
    "    'Referer':'https://finance.naver.com/item/sise_day.nhn?code=005930&page=10',\n",
    "    'User-Agent':'Mozilla/5.0 (Macintosh; Intel Mac OS X 10_13_6) AppleWebKit/537.36 (KHTML, like Gecko) Chrome/88.0.4324.96 Safari/537.36'\n",
    "}\n",
    "\n",
    "response = requests.get(url, headers=header)\n",
    "# data = json.loads(response.text)"
   ]
  },
  {
   "cell_type": "code",
   "execution_count": null,
   "metadata": {
    "ExecuteTime": {
     "end_time": "2021-02-03T07:20:48.032733Z",
     "start_time": "2021-02-03T07:20:48.013039Z"
    }
   },
   "outputs": [],
   "source": [
    "data = BeautifulSoup(response.text, 'html.parser')"
   ]
  },
  {
   "cell_type": "code",
   "execution_count": null,
   "metadata": {
    "ExecuteTime": {
     "end_time": "2021-02-03T07:20:49.949434Z",
     "start_time": "2021-02-03T07:20:49.909227Z"
    }
   },
   "outputs": [],
   "source": [
    "date = data.select"
   ]
  },
  {
   "cell_type": "code",
   "execution_count": null,
   "metadata": {},
   "outputs": [],
   "source": []
  },
  {
   "cell_type": "code",
   "execution_count": null,
   "metadata": {},
   "outputs": [],
   "source": [
    "from bs4 import BeautifulSoup\n",
    "import json\n",
    "import requests\n",
    "url = 'https://finance.naver.com/item/sise_day.nhn?code=005930&page=1'\n",
    "header = {\n",
    "    'referer': 'https://finance.naver.com/item/sise_day.nhn?code=005930',\n",
    "    'user-agent': 'Mozilla/5.0 (Macintosh; Intel Mac OS X 11_1_0) AppleWebKit/537.36 (KHTML, like Gecko) Chrome/88.0.4324.96 Safari/537.36'   \n",
    "}\n"
   ]
  },
  {
   "cell_type": "code",
   "execution_count": null,
   "metadata": {},
   "outputs": [],
   "source": [
    "response = requests.get(url, header=header)"
   ]
  },
  {
   "cell_type": "code",
   "execution_count": null,
   "metadata": {},
   "outputs": [],
   "source": []
  },
  {
   "cell_type": "code",
   "execution_count": null,
   "metadata": {},
   "outputs": [],
   "source": []
  },
  {
   "cell_type": "code",
   "execution_count": null,
   "metadata": {},
   "outputs": [],
   "source": []
  },
  {
   "cell_type": "code",
   "execution_count": null,
   "metadata": {},
   "outputs": [],
   "source": []
  }
 ],
 "metadata": {
  "celltoolbar": "Slideshow",
  "colab": {
   "authorship_tag": "ABX9TyMM9bcGMQdkO/nwIX0kAuhm",
   "collapsed_sections": [],
   "name": "08_crawler.ipynb",
   "provenance": []
  },
  "kernelspec": {
   "display_name": "Python 3",
   "language": "python",
   "name": "python3"
  },
  "language_info": {
   "codemirror_mode": {
    "name": "ipython",
    "version": 3
   },
   "file_extension": ".py",
   "mimetype": "text/x-python",
   "name": "python",
   "nbconvert_exporter": "python",
   "pygments_lexer": "ipython3",
   "version": "3.8.5"
  },
  "toc": {
   "base_numbering": 1,
   "nav_menu": {},
   "number_sections": true,
   "sideBar": true,
   "skip_h1_title": true,
   "title_cell": "Table of Contents",
   "title_sidebar": "Contents",
   "toc_cell": false,
   "toc_position": {},
   "toc_section_display": true,
   "toc_window_display": false
  }
 },
 "nbformat": 4,
 "nbformat_minor": 1
}
