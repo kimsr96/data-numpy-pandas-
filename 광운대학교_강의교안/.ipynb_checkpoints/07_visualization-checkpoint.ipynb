{
 "cells": [
  {
   "cell_type": "markdown",
   "metadata": {
    "id": "bw0ULael0o3L"
   },
   "source": [
    "# Visualization (시각화)\n",
    "    데이터분석 및 보고에 필요한 시각화 패키지를 알아보고 실제 데이터로 시각화 예제를 다루어봅니다.\n",
    "    데이터 시각화는 데이터분석 과정에서 단순히 데이터를 살펴보는데 그치지 않고 다양한 분석 가능성을 보여줍니다.\n",
    "    또한 3자에게 설명을 함에 있어서도 데이터시각화는 굉장히 설득력있는 리포팅을 가능하게 해줍니다."
   ]
  },
  {
   "cell_type": "markdown",
   "metadata": {
    "id": "bETzR0to0yse"
   },
   "source": [
    "## **1. Matplotlib**\n",
    "    파이썬의 대표적인 시각화 패키지\n",
    "    패키지의 이름에서 느껴지듯 MATLAB의 수리데이터 시각화를 파이썬으로 옮겨온 컨셉\n",
    "    기본적인 형태의 다양한 시각화 함수를 제공\n",
    "    사용이 약간은 불편"
   ]
  },
  {
   "cell_type": "markdown",
   "metadata": {
    "id": "ZfL3LPNU09W3"
   },
   "source": [
    "### 1-1. matplotlib 설치 및 불러오기"
   ]
  },
  {
   "cell_type": "code",
   "execution_count": 1,
   "metadata": {
    "executionInfo": {
     "elapsed": 825,
     "status": "ok",
     "timestamp": 1611717450001,
     "user": {
      "displayName": "변치웅",
      "photoUrl": "https://lh6.googleusercontent.com/-XnmjyF_k95g/AAAAAAAAAAI/AAAAAAAAZLk/rRDS8PNaZwg/s64/photo.jpg",
      "userId": "13348118648559709563"
     },
     "user_tz": -540
    },
    "id": "e1E30mOR0wEJ"
   },
   "outputs": [],
   "source": [
    "# pip install matplotlib\n",
    "import numpy as np\n",
    "import pandas as pd\n",
    "import matplotlib.pyplot as plt # matlab 사용자의 시각화 도구 사용가능\n",
    "# 분석에 사용가능한 여러가지 시각화 함수를 제공합니다. 보통 plt라는 예명으로 사용합니다.\n",
    "# %matplotlib inline # 주피터 노트북에 최적화 된 그래프 설정(코랩 사용불가)\n",
    "# %matplotlib notebook # 인터렉티브 그래프 가능(코랩 사용불가)"
   ]
  },
  {
   "cell_type": "markdown",
   "metadata": {
    "id": "CL1HNB3H1C00"
   },
   "source": [
    "### 1-2. 시각화 한글 폰트 사용"
   ]
  },
  {
   "cell_type": "code",
   "execution_count": 2,
   "metadata": {
    "executionInfo": {
     "elapsed": 687,
     "status": "ok",
     "timestamp": 1611717459137,
     "user": {
      "displayName": "변치웅",
      "photoUrl": "https://lh6.googleusercontent.com/-XnmjyF_k95g/AAAAAAAAAAI/AAAAAAAAZLk/rRDS8PNaZwg/s64/photo.jpg",
      "userId": "13348118648559709563"
     },
     "user_tz": -540
    },
    "id": "KH62TJ0v1JwA"
   },
   "outputs": [],
   "source": [
    "# 코랩\n",
    "# !sudo apt-get install -y fonts-nanum\n",
    "# !sudo fc-cache -fv\n",
    "# !rm ~/.cache/matplotlib -rf\n",
    "\n",
    "# 런타임 재시작\n",
    "\n",
    "import matplotlib.pyplot as plt\n",
    "plt.rc('font', family='NanumBarunGothic')\n",
    "\n",
    "# 코드 이해 못해도 괜챦습니다. 그냥 실행만 시켜주세요"
   ]
  },
  {
   "cell_type": "code",
   "execution_count": null,
   "metadata": {
    "id": "j4uXb0kM1ekD"
   },
   "outputs": [],
   "source": [
    "# 주피터노트북\n",
    "# 시각화 그래프 텍스트를 한글이 보이도록 작성 된 코드입니다.\n",
    "import matplotlib.font_manager as fm\n",
    "fm.get_fontconfig_fonts()\n",
    "font_location = '/Library/Fonts/Arial Unicode.ttf' # for 맥\n",
    "# font_location = 'C:/Windows/Fonts/NanumGothic.ttf' # for windows\n",
    "font_name = fm.FontProperties(fname=font_location).get_name()\n",
    "plt.rc('font', family=font_name)"
   ]
  },
  {
   "cell_type": "markdown",
   "metadata": {
    "id": "nWxmnPav1sxo"
   },
   "source": [
    "### 1-3. 기본적인 line plot 그리기\n",
    "    line plot은 시간 혹은 순서에 따라 데이터가 어떻게 변화하는지를 보기위해 주로 사용한다."
   ]
  },
  {
   "cell_type": "code",
   "execution_count": 3,
   "metadata": {
    "colab": {
     "base_uri": "https://localhost:8080/",
     "height": 280
    },
    "executionInfo": {
     "elapsed": 747,
     "status": "ok",
     "timestamp": 1611717482169,
     "user": {
      "displayName": "변치웅",
      "photoUrl": "https://lh6.googleusercontent.com/-XnmjyF_k95g/AAAAAAAAAAI/AAAAAAAAZLk/rRDS8PNaZwg/s64/photo.jpg",
      "userId": "13348118648559709563"
     },
     "user_tz": -540
    },
    "id": "HX2G0lkI1ZXv",
    "outputId": "91c55580-fb08-4f01-edc7-1fd9ca70173a"
   },
   "outputs": [
    {
     "data": {
      "image/png": "[encoded data removed]",
      "text/plain": [
       "<Figure size 432x288 with 1 Axes>"
      ]
     },
     "metadata": {
      "needs_background": "light",
      "tags": []
     },
     "output_type": "display_data"
    }
   ],
   "source": [
    "# plt.plot(x축 데이터, y축 데이터)\n",
    "plt.title('제목')\n",
    "plt.plot([0, 1, 2, 3, 4, 5],[0, 1, 4, 9, 16, 25])\n",
    "# plt.show() plt 함수로 정의 한 그래프 설정을 그래프화 시키는 명령어\n",
    "plt.show()"
   ]
  },
  {
   "cell_type": "markdown",
   "metadata": {
    "id": "wDn2m6Tt2V2j"
   },
   "source": [
    "#### 스타일 지정\n",
    "    plot명령어는 보는 사람이 그래프를 조금 더 보기 편하게 하기 위한 다양한 스타일을 지원한다. \n",
    "    plot(데이터, '문자열인수')    "
   ]
  },
  {
   "cell_type": "code",
   "execution_count": 4,
   "metadata": {
    "colab": {
     "base_uri": "https://localhost:8080/",
     "height": 265
    },
    "executionInfo": {
     "elapsed": 701,
     "status": "ok",
     "timestamp": 1611717517343,
     "user": {
      "displayName": "변치웅",
      "photoUrl": "https://lh6.googleusercontent.com/-XnmjyF_k95g/AAAAAAAAAAI/AAAAAAAAZLk/rRDS8PNaZwg/s64/photo.jpg",
      "userId": "13348118648559709563"
     },
     "user_tz": -540
    },
    "id": "OgMbegde1xJ_",
    "outputId": "8c1eae0e-23ed-4ce6-943e-43e7961c4d9c"
   },
   "outputs": [
    {
     "data": {
      "image/png": "[encoded data removed]",
      "text/plain": [
       "<Figure size 432x288 with 1 Axes>"
      ]
     },
     "metadata": {
      "needs_background": "light",
      "tags": []
     },
     "output_type": "display_data"
    }
   ],
   "source": [
    "# line plot 스타일 지정\n",
    "plt.plot([0, 1, 2, 3, 4, 5],[0, 1, 4, 9, 16, 25], 'g^--')\n",
    "plt.show()\n",
    "# 스타일 문자열은 색, 마커, 선 종류 순으로 지정하며 만약 이중 일부가 생략되면 디폴트 값이 적용됩니다."
   ]
  },
  {
   "cell_type": "markdown",
   "metadata": {
    "id": "r0WGNoSV2c3-"
   },
   "source": [
    "#### 자주 사용하는 선스타일 색상\n",
    "    자주 사용되는 색깔은 한글자 약자를 사용할 수 있으며 약자는 아래 표에 정리하였습니다.\n",
    "| 문자열 | 약자 |\n",
    "|-|-|\n",
    "| blue | `b` |\n",
    "| green | `g` |\n",
    "| red | `r` |\n",
    "| cyan | `c` |\n",
    "| magenta | `m` |\n",
    "| yellow | `y` |\n",
    "| black | `k` |\n",
    "| white | `w` |"
   ]
  },
  {
   "cell_type": "markdown",
   "metadata": {
    "id": "rVCxNhxH2icM"
   },
   "source": [
    "#### 마커\n",
    "    데이터의 위치를 표기하는 기호를 마커라고 합니다.\n",
    "    사용가능한 마커의 종류를 아래 정리 해두었습니다.\n",
    "| 마커 문자열 | 의미 | 마커 문자열 | 의미 |\n",
    "|-|-|-|-|\n",
    "| `.` | point marker  | `1` | tri_down marker |\n",
    "| `,` | pixel marker | `2` | tri_up marker |\n",
    "| `o` | circle marker | `3` | tri_left marker |\n",
    "| `v` | triangle_down marker | `4` | tri_right marker |\n",
    "| `^` | triangle_up marker | `s` | square marker |\n",
    "| `<` | triangle_left marker | `p` | pentagon marker |\n",
    "| `>` | triangle_right marker | `*` | star marker |\n",
    "| `h` | hexagon1 marker | `x` | x marker |\n",
    "| `H` | hexagon2 marker | `D` | diamond marker |\n",
    "| `+` | plus marker | `d` | thin_diamond marker |"
   ]
  },
  {
   "cell_type": "markdown",
   "metadata": {
    "id": "k57zHisL2mY0"
   },
   "source": [
    "#### 선 스타일\n",
    "    선 스타일에는 실선(solid), 대시선(dashed), 점선(dotted), 대시-점선(dash-dit)을 사용가능합니다.\n",
    "\n",
    "| 선 스타일 문자열 | 의미 |\n",
    "|-|-|\n",
    "| `-` |  solid line style\n",
    "| `--` |  dashed line style\n",
    "| `-.` |  dash-dot line style\n",
    "| `:` |  dotted line style"
   ]
  },
  {
   "cell_type": "markdown",
   "metadata": {
    "id": "Bw_bo5OT2rA9"
   },
   "source": [
    "#### 그래프에 옵션 추가하기\n",
    "    기본 line plot을 조금 더 색다르게 꾸밀 수 있는 스타일을 지금까지 알아봤다면 \n",
    "    지금부터는 plt 의 다른 함수를 사용하여 보는 사람의 이해를 도울 수 있는 여러 기능들을 알아보겠습니다.\n",
    "    \n",
    "    figure : 그래프가 그려지는 캔버스 설정\n",
    "    title : 그래프 제목\n",
    "    xlabel, ylabel : 축 설명\n",
    "    legend : 범례이름\n",
    "    xlim, ylim : 축 범위\n",
    "    xticks, yticks : 축 구간 내 필요한 구간만 추리기"
   ]
  },
  {
   "cell_type": "code",
   "execution_count": null,
   "metadata": {
    "id": "CKStXmrT2upG"
   },
   "outputs": [],
   "source": [
    "# 그래프 크기조정\n",
    "plt.figure(figsize=(10, 7))\n",
    "plt.plot([0, 1, 2, 3, 4, 5],[0, 1, 4, 9, 16, 25], 'g:')\n",
    "plt.show()"
   ]
  },
  {
   "cell_type": "code",
   "execution_count": null,
   "metadata": {
    "id": "Di-n_dd-2xWJ"
   },
   "outputs": [],
   "source": [
    "# 그래프 타이틀 지정\n",
    "plt.figure(figsize=(10, 7))\n",
    "plt.title('제곱그래프')\n",
    "plt.plot([0, 1, 2, 3, 4, 5],[0, 1, 4, 9, 16, 25], 'g:')\n",
    "plt.show()"
   ]
  },
  {
   "cell_type": "code",
   "execution_count": null,
   "metadata": {
    "id": "Q17z1Ck92ztt"
   },
   "outputs": [],
   "source": [
    "# 축 타이틀 지정\n",
    "plt.figure(figsize=(10, 7))\n",
    "plt.title('제곱그래프')\n",
    "plt.plot([0, 1, 2, 3, 4, 5],[0, 1, 4, 9, 16, 25], 'g:')\n",
    "plt.ylabel('x^2')\n",
    "plt.xlabel('x')\n",
    "plt.show()"
   ]
  },
  {
   "cell_type": "code",
   "execution_count": null,
   "metadata": {
    "id": "j6gSIzfc21gr"
   },
   "outputs": [],
   "source": [
    "# 범례지정\n",
    "plt.figure(figsize=(10, 7))\n",
    "plt.title('제곱그래프')\n",
    "plt.plot([0, 1, 2, 3, 4, 5],[0, 1, 4, 9, 16, 25], 'g:', label='$x^2$')\n",
    "plt.ylabel('x^2')\n",
    "plt.xlabel('x')\n",
    "plt.legend(loc='best')\n",
    "plt.show()"
   ]
  },
  {
   "cell_type": "code",
   "execution_count": null,
   "metadata": {
    "id": "7fKaz2O223hY"
   },
   "outputs": [],
   "source": [
    "# 축 범위 설정\n",
    "plt.figure(figsize=(10, 7))\n",
    "plt.title('제곱그래프')\n",
    "plt.plot([0, 1, 2, 3, 4, 5],[0, 1, 4, 9, 16, 25], 'g:', label='$x^2$')\n",
    "plt.ylabel('x^2')\n",
    "plt.xlabel('x')\n",
    "plt.xlim([4, 5])\n",
    "plt.ylim([9, 25])\n",
    "plt.legend(loc='best')\n",
    "plt.show()"
   ]
  },
  {
   "cell_type": "code",
   "execution_count": null,
   "metadata": {
    "id": "Wm85UOqn26jn"
   },
   "outputs": [],
   "source": [
    "# 축에 표시 될 내용만 사용하기\n",
    "plt.figure(figsize=(10, 7))\n",
    "plt.title('제곱그래프')\n",
    "plt.plot([0, 1, 2, 3, 4, 5],[0, 1, 4, 9, 16, 25], 'g:', label='$x^2$')\n",
    "plt.ylabel('x^2')\n",
    "plt.xlabel('x')\n",
    "plt.xlim([3, 5])\n",
    "plt.ylim([9, 25])\n",
    "plt.xticks([3, 4, 5])\n",
    "plt.yticks([10, 15, 20])\n",
    "plt.legend(loc='best')\n",
    "plt.show()"
   ]
  },
  {
   "cell_type": "code",
   "execution_count": null,
   "metadata": {
    "id": "n_ChIqJC28-g"
   },
   "outputs": [],
   "source": [
    "# 여러 그래프 한꺼번에 그리기\n",
    "plt.figure(figsize=(10, 7))\n",
    "plt.title('$x^2$ and $x^3$')\n",
    "x = np.linspace(-10, 10, 300)\n",
    "plt.plot(x, x*x, label='$x^2$')\n",
    "plt.plot(x, x*x*x, 'r--', label='$x^3$')\n",
    "plt.plot(x, np.sin(x), 'g:', label='$sin(x)$')\n",
    "plt.plot(x, np.cos(x), 'k:', label='$cos(x)$')\n",
    "plt.ylabel('$x^2$ and $x^3$')\n",
    "plt.xlabel('x')\n",
    "plt.xlim(-3, 3)\n",
    "plt.ylim(-1, 1)\n",
    "plt.legend(loc='best')\n",
    "plt.show()"
   ]
  },
  {
   "cell_type": "markdown",
   "metadata": {
    "id": "8K5Nv5uk2_ql"
   },
   "source": [
    "#### subplot을 사용하여 여러 그래프 한번에 그리기"
   ]
  },
  {
   "cell_type": "code",
   "execution_count": null,
   "metadata": {
    "id": "8a4n5BPR3BU4"
   },
   "outputs": [],
   "source": [
    "# 2 x 1 figure 매트릭스에 그래프 그리기\n",
    "\n",
    "x1 = np.linspace(0.0, 5.0)\n",
    "x2 = np.linspace(0.0, 2.0)\n",
    "y1 = np.cos(2 * np.pi * x1) * np.exp(-x1)\n",
    "y2 = np.cos(2 * np.pi * x2)\n",
    "\n",
    "plt.figure(figsize=(12, 8))\n",
    "\n",
    "ax1 = plt.subplot(2, 1, 1)\n",
    "plt.plot(x1, y1, 'yo-')\n",
    "plt.title('A tale of 2 subplots')\n",
    "plt.ylabel('Damped oscillation')\n",
    "\n",
    "ax2 = plt.subplot(2, 1, 2)\n",
    "plt.plot(x2, y2, 'r.-')\n",
    "plt.xlabel('time (s)')\n",
    "plt.ylabel('Undamped')\n",
    "\n",
    "plt.tight_layout() # 여백줄이기\n",
    "plt.show()"
   ]
  },
  {
   "cell_type": "code",
   "execution_count": null,
   "metadata": {
    "id": "iolQWYrU3FcI"
   },
   "outputs": [],
   "source": [
    "# 2 x 2 figure 매트릭스에 그래프 그리기\n",
    "\n",
    "plt.figure(figsize=(12, 8))\n",
    "np.random.seed(0)\n",
    "\n",
    "plt.subplot(221)\n",
    "plt.plot(np.random.rand(5))\n",
    "plt.title(\"axes 1\")\n",
    "\n",
    "plt.subplot(222)\n",
    "plt.plot(np.random.rand(5))\n",
    "plt.title(\"axes 2\")\n",
    "\n",
    "plt.subplot(223)\n",
    "plt.plot(np.random.rand(5))\n",
    "plt.title(\"axes 3\")\n",
    "\n",
    "plt.subplot(224)\n",
    "plt.plot(np.random.rand(5))\n",
    "plt.title(\"axes 4\")\n",
    "\n",
    "plt.tight_layout()\n",
    "plt.show()"
   ]
  },
  {
   "cell_type": "markdown",
   "metadata": {
    "id": "_ZgktPPD3IX1"
   },
   "source": [
    "### 1-3.  bar plot\n",
    "    전통적으로 bar plot은 범주형 데이터(구간이 나누어져 있는) 데이터의 갯수, 빈도를 나타내는 데 쓰였습니다.\n",
    "    지난 시간 학습한 loan 데이터의 신용등급을 bar plot으로 그려보겠습니다."
   ]
  },
  {
   "cell_type": "code",
   "execution_count": null,
   "metadata": {
    "id": "6Y9mFugP3H8r"
   },
   "outputs": [],
   "source": [
    "df = pd.read_csv('loan1.csv')"
   ]
  },
  {
   "cell_type": "code",
   "execution_count": null,
   "metadata": {
    "id": "y58rNP_33kfz"
   },
   "outputs": [],
   "source": [
    "df['sub_grade'].value_counts().sort_index()"
   ]
  },
  {
   "cell_type": "code",
   "execution_count": null,
   "metadata": {
    "id": "lYXbzB4N3mkp"
   },
   "outputs": [],
   "source": [
    "plt.figure(figsize=(12, 6))\n",
    "plt.bar(df['sub_grade'].value_counts().sort_index().index, df['sub_grade'].value_counts().sort_index().values)\n",
    "plt.show()"
   ]
  },
  {
   "cell_type": "code",
   "execution_count": null,
   "metadata": {
    "id": "ZqWVTzQT3rTL"
   },
   "outputs": [],
   "source": [
    "plt.figure(figsize=(12, 6))\n",
    "plt.barh(df['sub_grade'].value_counts().sort_index(ascending=False).index, \n",
    "         df['sub_grade'].value_counts().sort_index(ascending=False).values)\n",
    "plt.show()"
   ]
  },
  {
   "cell_type": "markdown",
   "metadata": {
    "id": "G4ACGcns3tZF"
   },
   "source": [
    "### 1-4. 히스토그램"
   ]
  },
  {
   "cell_type": "code",
   "execution_count": null,
   "metadata": {
    "id": "B3HcAdGR3vNl"
   },
   "outputs": [],
   "source": [
    "plt.figure(figsize=(12, 6))\n",
    "plt.hist(df['loan_amnt'], bins=50)\n",
    "plt.show()"
   ]
  },
  {
   "cell_type": "markdown",
   "metadata": {
    "id": "5UTiWlsg3zAQ"
   },
   "source": [
    "### 1-5. scatter plot"
   ]
  },
  {
   "cell_type": "code",
   "execution_count": null,
   "metadata": {
    "id": "vG3y5P5I32oR"
   },
   "outputs": [],
   "source": [
    "plt.figure(figsize=(12, 6))\n",
    "plt.scatter(df['loan_amnt'][0:1000], df['installment'][0:1000])\n",
    "plt.show()"
   ]
  },
  {
   "cell_type": "markdown",
   "metadata": {
    "id": "8tDdr_CD363R"
   },
   "source": [
    "## **2. seaborn**"
   ]
  },
  {
   "cell_type": "code",
   "execution_count": null,
   "metadata": {
    "id": "epWrgrJn3-Wq"
   },
   "outputs": [],
   "source": [
    "import seaborn as sns"
   ]
  },
  {
   "cell_type": "code",
   "execution_count": null,
   "metadata": {
    "id": "Is0NTPaM4C3X"
   },
   "outputs": [],
   "source": [
    "plt.figure(figsize=(12, 6))\n",
    "sns.barplot(df['sub_grade'].value_counts().sort_index().index, df['sub_grade'].value_counts().sort_index().values)\n",
    "plt.show()"
   ]
  },
  {
   "cell_type": "code",
   "execution_count": null,
   "metadata": {
    "id": "DUPE_rmt4E1F"
   },
   "outputs": [],
   "source": [
    "plt.figure(figsize=(12, 6))\n",
    "sns.distplot(df['loan_amnt'], bins=50)\n",
    "plt.show()"
   ]
  },
  {
   "cell_type": "code",
   "execution_count": null,
   "metadata": {
    "id": "oeV-MWGv4Gjq"
   },
   "outputs": [],
   "source": [
    "plt.figure(figsize=(12, 6))\n",
    "sns.scatterplot(df['loan_amnt'][0:1000], df['installment'][0:1000])\n",
    "plt.show()"
   ]
  },
  {
   "cell_type": "code",
   "execution_count": null,
   "metadata": {
    "id": "3NYnkpHh4IO5"
   },
   "outputs": [],
   "source": [
    "plt.figure(figsize=(12, 6))\n",
    "sns.countplot(df['grade'])\n",
    "plt.show()"
   ]
  },
  {
   "cell_type": "code",
   "execution_count": null,
   "metadata": {
    "id": "h3RWV8KT4KJ0"
   },
   "outputs": [],
   "source": [
    "plt.figure(figsize=(12, 6))\n",
    "sns.boxplot(df['grade'], df['int_rate'].astype(float))\n",
    "plt.show()"
   ]
  },
  {
   "cell_type": "code",
   "execution_count": null,
   "metadata": {
    "id": "EU6SSfF64L8G"
   },
   "outputs": [],
   "source": [
    "plt.figure(figsize=(12, 6))\n",
    "sns.jointplot(df['loan_amnt'][0:100], df['int_rate'][0:100], kind='kde')\n",
    "plt.show()"
   ]
  }
 ],
 "metadata": {
  "colab": {
   "authorship_tag": "ABX9TyOhS79hS8VqW3/9gFpn1eiG",
   "collapsed_sections": [],
   "name": "07_visualization.ipynb",
   "provenance": []
  },
  "kernelspec": {
   "display_name": "Python 3",
   "language": "python",
   "name": "python3"
  },
  "language_info": {
   "codemirror_mode": {
    "name": "ipython",
    "version": 3
   },
   "file_extension": ".py",
   "mimetype": "text/x-python",
   "name": "python",
   "nbconvert_exporter": "python",
   "pygments_lexer": "ipython3",
   "version": "3.8.5"
  }
 },
 "nbformat": 4,
 "nbformat_minor": 1
}
