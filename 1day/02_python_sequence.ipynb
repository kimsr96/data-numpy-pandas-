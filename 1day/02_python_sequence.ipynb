{
 "cells": [
  {
   "cell_type": "markdown",
   "metadata": {
    "id": "ZQc6-S5wTDnQ"
   },
   "source": [
    "# **자료구조**\n",
    "    데이터의 집합\n",
    "    데이터가 들어가 있는 바구니\n",
    "    변수에 저장할 수 있는 데이터의 집합\n",
    "\n",
    "    리스트, 딕셔너리, 튜플"
   ]
  },
  {
   "cell_type": "markdown",
   "metadata": {
    "id": "rPbql-LHiOBv"
   },
   "source": [
    "## **1. 리스트(list)**\n",
    "    파이썬에서 가장 흔히 사용하는 데이터의 자료구조\n",
    "    순서가 있다.\n",
    "    [ ] 대괄호로 묶어 사용한다.\n",
    "    리스트 안에 들어가는 요소들은 ,(쉼표)로 구분한다."
   ]
  },
  {
   "cell_type": "markdown",
   "metadata": {
    "id": "lSi0xkjoTDnW"
   },
   "source": [
    "### 1-1. list의 생성"
   ]
  },
  {
   "cell_type": "code",
   "execution_count": null,
   "metadata": {
    "id": "olV5z-zoTDnW"
   },
   "outputs": [],
   "source": [
    "empty_list = list() # 혹은 아래와 같이 간단하게 생성도 가능\n",
    "empty_list =[]"
   ]
  },
  {
   "cell_type": "code",
   "execution_count": 7,
   "metadata": {
    "id": "2ZtzDJbzTDnX"
   },
   "outputs": [
    {
     "data": {
      "text/plain": [
       "['coin', 'coin', 'id', 'licence']"
      ]
     },
     "execution_count": 7,
     "metadata": {},
     "output_type": "execute_result"
    }
   ],
   "source": [
    "# wallet 이라는 변수에 아래의 5개 텍스트 데이터가 들어가 있는 리스트를 저장\n",
    "# 'coin', 'card', 'cash', 'id', 'licence'\n",
    "wallet = ['coin','coin', 'id', 'licence']\n",
    "wallet"
   ]
  },
  {
   "cell_type": "code",
   "execution_count": 11,
   "metadata": {
    "id": "E11dHCaJTDnX"
   },
   "outputs": [
    {
     "data": {
      "text/plain": [
       "'coin'"
      ]
     },
     "execution_count": 11,
     "metadata": {},
     "output_type": "execute_result"
    }
   ],
   "source": [
    "test_list =[1, 2, 3.14, '테스트', wallet]\n",
    "test_list[4][1]"
   ]
  },
  {
   "cell_type": "markdown",
   "metadata": {
    "id": "Ems_1MmlTDnY"
   },
   "source": [
    "### 1-2. list 정보 확인"
   ]
  },
  {
   "cell_type": "code",
   "execution_count": null,
   "metadata": {
    "id": "zCLz5UroTDnZ"
   },
   "outputs": [],
   "source": [
    "# 리스트 전체 항목의 갯수를 보고싶다면?"
   ]
  },
  {
   "cell_type": "code",
   "execution_count": null,
   "metadata": {
    "id": "5yu3Ke5uhMKW"
   },
   "outputs": [],
   "source": [
    "# 리스트 내 특정 항목의 갯수를 확인하고 싶다면?"
   ]
  },
  {
   "cell_type": "code",
   "execution_count": null,
   "metadata": {
    "id": "CGzX_BKFhLyW"
   },
   "outputs": [],
   "source": [
    "# 최대 최소 값"
   ]
  },
  {
   "cell_type": "markdown",
   "metadata": {
    "id": "-EhpUrv1TDnZ"
   },
   "source": [
    "### 1-3. list indexing(인덱싱), slicing(슬라이싱)\n",
    "    리스트의 특정 항목을 확인하는 방법\n",
    "    인덱싱은 하나, 슬라이싱은 여러개\n",
    "    리스트의 순서를 인덱스라고 하며 0부터 시작"
   ]
  },
  {
   "cell_type": "code",
   "execution_count": 12,
   "metadata": {
    "id": "sd1fAVJZTDna"
   },
   "outputs": [],
   "source": [
    "# 인덱싱\n",
    "# 리스트의 4번째 항목 가져오기\n",
    "test_list2 = [1,2,3,4,5,6,7,8]"
   ]
  },
  {
   "cell_type": "code",
   "execution_count": 13,
   "metadata": {
    "id": "7J2AveHXTDna"
   },
   "outputs": [],
   "source": [
    "# 슬라이싱\n",
    "# 리스트의 첫번째 항목부터 3번째 항목까지 가져오기"
   ]
  },
  {
   "cell_type": "code",
   "execution_count": 14,
   "metadata": {
    "id": "V5JYfHyiTDna"
   },
   "outputs": [],
   "source": [
    "# 리스트의 4번째 항목부터 마지막 항목까지 가져오기"
   ]
  },
  {
   "cell_type": "code",
   "execution_count": 21,
   "metadata": {
    "id": "DLZMD1wvTDna"
   },
   "outputs": [
    {
     "data": {
      "text/plain": [
       "8"
      ]
     },
     "execution_count": 21,
     "metadata": {},
     "output_type": "execute_result"
    }
   ],
   "source": [
    "# 리스트의 맨 마지막 항목 가져오기\n",
    "test_list2[-1]"
   ]
  },
  {
   "cell_type": "code",
   "execution_count": 16,
   "metadata": {
    "id": "4WRqtebiTDnb"
   },
   "outputs": [
    {
     "data": {
      "text/plain": [
       "[1, 3, 5, 7]"
      ]
     },
     "execution_count": 16,
     "metadata": {},
     "output_type": "execute_result"
    }
   ],
   "source": [
    "# 리스트의 전체 항목 중 2의 배수 인덱스 항목가져오기\n",
    "test_list2[::2]"
   ]
  },
  {
   "cell_type": "code",
   "execution_count": 17,
   "metadata": {
    "id": "grGvSZIjTDnb"
   },
   "outputs": [
    {
     "data": {
      "text/plain": [
       "5"
      ]
     },
     "execution_count": 17,
     "metadata": {},
     "output_type": "execute_result"
    }
   ],
   "source": [
    "# 리스트 내 특정항목의 인덱스 가져오기\n",
    "test_list2.index(6)"
   ]
  },
  {
   "cell_type": "code",
   "execution_count": 23,
   "metadata": {
    "id": "VE9blaAPTDnc"
   },
   "outputs": [
    {
     "data": {
      "text/plain": [
       "'id'"
      ]
     },
     "execution_count": 23,
     "metadata": {},
     "output_type": "execute_result"
    }
   ],
   "source": [
    "# test_list 의 cash를 인덱싱 해보자\n",
    "test_list[4][2]"
   ]
  },
  {
   "cell_type": "markdown",
   "metadata": {
    "id": "_02sNrAgTDnc"
   },
   "source": [
    "### 1-4. list 편집"
   ]
  },
  {
   "cell_type": "code",
   "execution_count": 28,
   "metadata": {},
   "outputs": [
    {
     "data": {
      "text/plain": [
       "[1, 2, 3.14, '테스트', ['coin', 'coin', 'id', 'licence'], '추가']"
      ]
     },
     "execution_count": 28,
     "metadata": {},
     "output_type": "execute_result"
    }
   ],
   "source": [
    "test_list"
   ]
  },
  {
   "cell_type": "code",
   "execution_count": 25,
   "metadata": {
    "id": "BsaAEF4STDnc"
   },
   "outputs": [],
   "source": [
    "# 리스트에 항목추가\n",
    "test_list.append('추가')"
   ]
  },
  {
   "cell_type": "code",
   "execution_count": 27,
   "metadata": {
    "id": "0tDIxddlTDnc"
   },
   "outputs": [],
   "source": [
    "# 리스트에 특정 항목 삭제\n",
    "test_list.remove('추가')"
   ]
  },
  {
   "cell_type": "code",
   "execution_count": 32,
   "metadata": {
    "id": "713492VNTDnc"
   },
   "outputs": [
    {
     "data": {
      "text/plain": [
       "3.14"
      ]
     },
     "execution_count": 32,
     "metadata": {},
     "output_type": "execute_result"
    }
   ],
   "source": [
    "# 리스트의 맨 마지막 항목 꺼내오기 (값도 꺼내면서 리스트의 마지막 항목 삭제)\n",
    "a = test_list.pop()\n",
    "test_list"
   ]
  },
  {
   "cell_type": "code",
   "execution_count": null,
   "metadata": {
    "id": "JDsqThk7TDnd"
   },
   "outputs": [],
   "source": [
    "# 리스트의 값 정렬 (숫자는 오름차순, 문자는 알파벳순, 한글은 가나다순)\n",
    "# 역순은?"
   ]
  },
  {
   "cell_type": "code",
   "execution_count": null,
   "metadata": {
    "id": "TT3QHLfZTDnd"
   },
   "outputs": [],
   "source": [
    "# 리스트 내 특정항목 업데이트"
   ]
  },
  {
   "cell_type": "markdown",
   "metadata": {
    "id": "RXkRHTA0TDnd"
   },
   "source": [
    "### 1-5. list 연산"
   ]
  },
  {
   "cell_type": "code",
   "execution_count": null,
   "metadata": {
    "id": "UTAqflz4TDnd"
   },
   "outputs": [],
   "source": [
    "# int형 데이터가 들어가 있는 num1, num2 리스트 생성"
   ]
  },
  {
   "cell_type": "code",
   "execution_count": null,
   "metadata": {
    "id": "KFajszDPTDnd"
   },
   "outputs": [],
   "source": [
    "# 리스트 합"
   ]
  },
  {
   "cell_type": "code",
   "execution_count": null,
   "metadata": {
    "id": "r2sLsdc2TDne"
   },
   "outputs": [],
   "source": [
    "# 리스트 곱"
   ]
  },
  {
   "cell_type": "code",
   "execution_count": null,
   "metadata": {
    "id": "JgrnlMpRTDne"
   },
   "outputs": [],
   "source": [
    "# 검증"
   ]
  },
  {
   "cell_type": "markdown",
   "metadata": {
    "id": "OMmC3_xiTDne"
   },
   "source": [
    "### 1-6. list 삭제"
   ]
  },
  {
   "cell_type": "code",
   "execution_count": null,
   "metadata": {
    "id": "hkj_0jN3TDnf"
   },
   "outputs": [],
   "source": [
    "# clear 함수를 사용하여 list 안의 내용만 지우기"
   ]
  },
  {
   "cell_type": "code",
   "execution_count": null,
   "metadata": {
    "id": "jc0Jut93g4uk"
   },
   "outputs": [],
   "source": [
    "# list 변수를 완전히 삭제"
   ]
  },
  {
   "cell_type": "markdown",
   "metadata": {
    "id": "5pInjo4gTDnf"
   },
   "source": [
    "## **2. 딕셔너리(dict)**\n",
    "    사전을 떠올려봅시다. 사전을 구성하고 있는 항목은?\n",
    "    단어 : 단어의 설명\n",
    "    딕셔너리는 말 그대로 사전과 같은 형태의 데이터 구조이다.\n",
    "    사전의 단어는 딕셔너리의 key\n",
    "    단어의 설명은 딕셔너리의 value값이라고 칭한다. 쌍으로 저장 가능\n",
    "    { } 중괄호로 묶어 사용한다.\n",
    "    key : value\n",
    "    딕셔너리 요소 구분은 리스트와 마찬가지로 쉼표"
   ]
  },
  {
   "cell_type": "markdown",
   "metadata": {
    "id": "xhPJ-7UMTDnf"
   },
   "source": [
    "### 2-1. dict 생성"
   ]
  },
  {
   "cell_type": "code",
   "execution_count": null,
   "metadata": {
    "id": "RBE9TL8xTDnf"
   },
   "outputs": [],
   "source": [
    "# 빈 딕셔너리 생성"
   ]
  },
  {
   "cell_type": "code",
   "execution_count": 34,
   "metadata": {
    "id": "L7up_RS5TDnf"
   },
   "outputs": [],
   "source": [
    "# 값을 추가하면서 딕셔너리 생성\n",
    "wallet = {\n",
    "    'card':'신한카드',\n",
    "    'cash':75000,\n",
    "    'coin':{'500원':1,\n",
    "            '100원':1,},\n",
    "    'id':['주민등록증', '여권'],\n",
    "    'licence':'운전면허증'\n",
    "}"
   ]
  },
  {
   "cell_type": "code",
   "execution_count": 35,
   "metadata": {},
   "outputs": [
    {
     "data": {
      "text/plain": [
       "{'card': '신한카드',\n",
       " 'cash': 75000,\n",
       " 'coin': {'500원': 1, '100원': 1},\n",
       " 'id': ['주민등록증', '여권'],\n",
       " 'licence': '운전면허증'}"
      ]
     },
     "execution_count": 35,
     "metadata": {},
     "output_type": "execute_result"
    }
   ],
   "source": [
    "wallet."
   ]
  },
  {
   "cell_type": "markdown",
   "metadata": {
    "id": "emfyBStcTDnf"
   },
   "source": [
    "### 2-2. dict 정보 확인"
   ]
  },
  {
   "cell_type": "code",
   "execution_count": null,
   "metadata": {
    "id": "Q0iwocV3TDng"
   },
   "outputs": [],
   "source": [
    "# dict의 구성요소 갯수 확인"
   ]
  },
  {
   "cell_type": "code",
   "execution_count": null,
   "metadata": {
    "id": "OnQIuzpIizqx"
   },
   "outputs": [],
   "source": [
    "# dict의 key 값 확인"
   ]
  },
  {
   "cell_type": "code",
   "execution_count": null,
   "metadata": {
    "id": "h0ddqchUjif4"
   },
   "outputs": [],
   "source": [
    "# dict의 value 값 확인"
   ]
  },
  {
   "cell_type": "markdown",
   "metadata": {
    "id": "rGH0q-_OTDng"
   },
   "source": [
    "### 2-3. dict value 값에 접근하기"
   ]
  },
  {
   "cell_type": "code",
   "execution_count": null,
   "metadata": {
    "id": "MsGJqKyUTDng"
   },
   "outputs": [],
   "source": [
    "# get 함수를 사용하여 접근"
   ]
  },
  {
   "cell_type": "code",
   "execution_count": null,
   "metadata": {
    "id": "tcL6r0lKTDng"
   },
   "outputs": [],
   "source": [
    "# key값을 바로 value값 접근에 사용"
   ]
  },
  {
   "cell_type": "markdown",
   "metadata": {
    "id": "KXMjpIEqTDng"
   },
   "source": [
    "### 2-4. dict 편집"
   ]
  },
  {
   "cell_type": "code",
   "execution_count": null,
   "metadata": {
    "id": "RsqupBCFka1Y"
   },
   "outputs": [],
   "source": [
    "# update 함수를 사용하여 항목 추가"
   ]
  },
  {
   "cell_type": "code",
   "execution_count": null,
   "metadata": {
    "id": "hoI-f1OFTDng"
   },
   "outputs": [],
   "source": [
    "# wallet dict에 point card key를 갖는 해피포인트 값을 저장"
   ]
  },
  {
   "cell_type": "code",
   "execution_count": null,
   "metadata": {
    "id": "re9ciBqpTDnh"
   },
   "outputs": [],
   "source": [
    "# dict 특정 항목 업데이트"
   ]
  },
  {
   "cell_type": "code",
   "execution_count": null,
   "metadata": {
    "id": "KYy347LiTDnh"
   },
   "outputs": [],
   "source": [
    "# dict의 특정 value값 빼오기"
   ]
  },
  {
   "cell_type": "markdown",
   "metadata": {
    "id": "-k40GkPCTDnh"
   },
   "source": [
    "### 2-5. dict 삭제"
   ]
  },
  {
   "cell_type": "code",
   "execution_count": null,
   "metadata": {
    "id": "_fHnsDOPTDnh"
   },
   "outputs": [],
   "source": [
    "# dict 항목 제거"
   ]
  },
  {
   "cell_type": "code",
   "execution_count": null,
   "metadata": {
    "id": "p8gWM_KdTDnh"
   },
   "outputs": [],
   "source": [
    "# dict 전체 삭제"
   ]
  },
  {
   "cell_type": "markdown",
   "metadata": {
    "id": "N1ZnO_A-TDni"
   },
   "source": [
    "## **3. 튜플(tuple)**\n",
    "    데이터가 고정이 되어 변경이 불가능 한 데이터 집합\n",
    "    자료구조로는 잘 사용하지 않는다.\n",
    "    ( ) 소괄호로 묶어 사용한다.\n",
    "    구분은 , 콤마로 사용한다."
   ]
  },
  {
   "cell_type": "markdown",
   "metadata": {
    "id": "uPqJmD08TDni"
   },
   "source": [
    "### 3-1. tuple 생성"
   ]
  },
  {
   "cell_type": "code",
   "execution_count": null,
   "metadata": {
    "id": "kADpkm8XTDni"
   },
   "outputs": [],
   "source": [
    "test_tuple = () # 의미가 모호해서 잘 사용하지 않는다.\n",
    "test_tuple = tuple()\n",
    "test_tuple = 1, 2, 3, 4"
   ]
  },
  {
   "cell_type": "markdown",
   "metadata": {
    "id": "DzsaYAy6TDnj"
   },
   "source": [
    "### 3-2. tuple 인덱싱"
   ]
  },
  {
   "cell_type": "code",
   "execution_count": null,
   "metadata": {
    "id": "IqGvFG0bTDnj",
    "outputId": "56d4019a-0653-4e57-d048-9d4d40937964"
   },
   "outputs": [
    {
     "data": {
      "text/plain": [
       "1"
      ]
     },
     "execution_count": 88,
     "metadata": {
      "tags": []
     },
     "output_type": "execute_result"
    }
   ],
   "source": [
    "test_tuple[0]"
   ]
  },
  {
   "cell_type": "markdown",
   "metadata": {
    "id": "3UeCwj44TDnj"
   },
   "source": [
    "### 3-3. tuple 업데이트 (안됨)"
   ]
  },
  {
   "cell_type": "code",
   "execution_count": null,
   "metadata": {
    "id": "wpdDGz8aTDnj"
   },
   "outputs": [],
   "source": [
    "test_tuple[0] = 0"
   ]
  },
  {
   "cell_type": "markdown",
   "metadata": {
    "id": "UpHPWGmgTDnj"
   },
   "source": [
    "### 3-4. tuple 값 추가"
   ]
  },
  {
   "cell_type": "code",
   "execution_count": null,
   "metadata": {
    "id": "KdSfOHBoTDnj",
    "outputId": "e9f24fb7-d148-4c53-f999-8c434be393dd"
   },
   "outputs": [
    {
     "data": {
      "text/plain": [
       "(1, 2, 3, 4, 7)"
      ]
     },
     "execution_count": 93,
     "metadata": {
      "tags": []
     },
     "output_type": "execute_result"
    }
   ],
   "source": [
    "test_tuple + (7, )"
   ]
  }
 ],
 "metadata": {
  "colab": {
   "collapsed_sections": [],
   "name": "02_python_sequence.ipynb",
   "provenance": [],
   "toc_visible": true
  },
  "kernelspec": {
   "display_name": "Python 3",
   "language": "python",
   "name": "python3"
  },
  "language_info": {
   "codemirror_mode": {
    "name": "ipython",
    "version": 3
   },
   "file_extension": ".py",
   "mimetype": "text/x-python",
   "name": "python",
   "nbconvert_exporter": "python",
   "pygments_lexer": "ipython3",
   "version": "3.8.5"
  }
 },
 "nbformat": 4,
 "nbformat_minor": 1
}
